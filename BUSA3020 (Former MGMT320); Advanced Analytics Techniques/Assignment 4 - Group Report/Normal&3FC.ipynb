{
 "cells": [
  {
   "cell_type": "code",
   "execution_count": 1,
   "metadata": {},
   "outputs": [],
   "source": [
    "import numpy as np\n",
    "import pandas as pd\n",
    "import matplotlib.pyplot as plt\n",
    "import seaborn as sns\n",
    "%matplotlib inline\n",
    "from sklearn.model_selection import train_test_split\n",
    "from sklearn import linear_model\n",
    "from sklearn.metrics import r2_score\n",
    "from sklearn.linear_model import LogisticRegression\n",
    "from sklearn.metrics import confusion_matrix, accuracy_score\n",
    "from sklearn.tree import DecisionTreeClassifier\n",
    "from sklearn.metrics import accuracy_score\n",
    "from sklearn.metrics import f1_score\n",
    "from sklearn import metrics"
   ]
  },
  {
   "cell_type": "code",
   "execution_count": 2,
   "metadata": {},
   "outputs": [
    {
     "data": {
      "text/html": [
       "<div>\n",
       "<style scoped>\n",
       "    .dataframe tbody tr th:only-of-type {\n",
       "        vertical-align: middle;\n",
       "    }\n",
       "\n",
       "    .dataframe tbody tr th {\n",
       "        vertical-align: top;\n",
       "    }\n",
       "\n",
       "    .dataframe thead th {\n",
       "        text-align: right;\n",
       "    }\n",
       "</style>\n",
       "<table border=\"1\" class=\"dataframe\">\n",
       "  <thead>\n",
       "    <tr style=\"text-align: right;\">\n",
       "      <th></th>\n",
       "      <th>Creditability</th>\n",
       "      <th>AccountBalance</th>\n",
       "      <th>DurationofCreditmonth</th>\n",
       "      <th>PaymentStatusofPreviousCredit</th>\n",
       "      <th>CreditAmount</th>\n",
       "      <th>ValueSavingsStocks</th>\n",
       "      <th>Lengthofcurrentemployment</th>\n",
       "      <th>Instalmentpercent</th>\n",
       "      <th>Sex</th>\n",
       "      <th>MaritalStatus</th>\n",
       "      <th>Mostvaluableavailableasset</th>\n",
       "      <th>Ageyears</th>\n",
       "      <th>ConcurrentCredits</th>\n",
       "      <th>NoofCreditsatthisBank</th>\n",
       "      <th>Noofdependents</th>\n",
       "      <th>Telephone</th>\n",
       "      <th>ForeignWorker</th>\n",
       "      <th>TSC_3EFA</th>\n",
       "    </tr>\n",
       "  </thead>\n",
       "  <tbody>\n",
       "    <tr>\n",
       "      <td>0</td>\n",
       "      <td>1</td>\n",
       "      <td>1</td>\n",
       "      <td>1</td>\n",
       "      <td>4</td>\n",
       "      <td>0</td>\n",
       "      <td>1</td>\n",
       "      <td>2</td>\n",
       "      <td>4</td>\n",
       "      <td>2</td>\n",
       "      <td>2</td>\n",
       "      <td>2</td>\n",
       "      <td>0</td>\n",
       "      <td>3</td>\n",
       "      <td>1</td>\n",
       "      <td>1</td>\n",
       "      <td>1</td>\n",
       "      <td>2</td>\n",
       "      <td>1</td>\n",
       "    </tr>\n",
       "    <tr>\n",
       "      <td>1</td>\n",
       "      <td>1</td>\n",
       "      <td>1</td>\n",
       "      <td>0</td>\n",
       "      <td>4</td>\n",
       "      <td>2</td>\n",
       "      <td>1</td>\n",
       "      <td>3</td>\n",
       "      <td>2</td>\n",
       "      <td>1</td>\n",
       "      <td>1</td>\n",
       "      <td>1</td>\n",
       "      <td>2</td>\n",
       "      <td>3</td>\n",
       "      <td>2</td>\n",
       "      <td>2</td>\n",
       "      <td>1</td>\n",
       "      <td>2</td>\n",
       "      <td>3</td>\n",
       "    </tr>\n",
       "    <tr>\n",
       "      <td>2</td>\n",
       "      <td>1</td>\n",
       "      <td>2</td>\n",
       "      <td>0</td>\n",
       "      <td>2</td>\n",
       "      <td>0</td>\n",
       "      <td>2</td>\n",
       "      <td>4</td>\n",
       "      <td>2</td>\n",
       "      <td>2</td>\n",
       "      <td>2</td>\n",
       "      <td>1</td>\n",
       "      <td>0</td>\n",
       "      <td>3</td>\n",
       "      <td>1</td>\n",
       "      <td>1</td>\n",
       "      <td>1</td>\n",
       "      <td>2</td>\n",
       "      <td>1</td>\n",
       "    </tr>\n",
       "    <tr>\n",
       "      <td>3</td>\n",
       "      <td>1</td>\n",
       "      <td>1</td>\n",
       "      <td>0</td>\n",
       "      <td>4</td>\n",
       "      <td>1</td>\n",
       "      <td>1</td>\n",
       "      <td>3</td>\n",
       "      <td>3</td>\n",
       "      <td>1</td>\n",
       "      <td>1</td>\n",
       "      <td>1</td>\n",
       "      <td>2</td>\n",
       "      <td>3</td>\n",
       "      <td>2</td>\n",
       "      <td>2</td>\n",
       "      <td>1</td>\n",
       "      <td>1</td>\n",
       "      <td>3</td>\n",
       "    </tr>\n",
       "    <tr>\n",
       "      <td>4</td>\n",
       "      <td>1</td>\n",
       "      <td>1</td>\n",
       "      <td>0</td>\n",
       "      <td>4</td>\n",
       "      <td>1</td>\n",
       "      <td>1</td>\n",
       "      <td>3</td>\n",
       "      <td>4</td>\n",
       "      <td>1</td>\n",
       "      <td>1</td>\n",
       "      <td>2</td>\n",
       "      <td>2</td>\n",
       "      <td>1</td>\n",
       "      <td>2</td>\n",
       "      <td>1</td>\n",
       "      <td>1</td>\n",
       "      <td>1</td>\n",
       "      <td>3</td>\n",
       "    </tr>\n",
       "  </tbody>\n",
       "</table>\n",
       "</div>"
      ],
      "text/plain": [
       "   Creditability  AccountBalance  DurationofCreditmonth  \\\n",
       "0              1               1                      1   \n",
       "1              1               1                      0   \n",
       "2              1               2                      0   \n",
       "3              1               1                      0   \n",
       "4              1               1                      0   \n",
       "\n",
       "   PaymentStatusofPreviousCredit  CreditAmount  ValueSavingsStocks  \\\n",
       "0                              4             0                   1   \n",
       "1                              4             2                   1   \n",
       "2                              2             0                   2   \n",
       "3                              4             1                   1   \n",
       "4                              4             1                   1   \n",
       "\n",
       "   Lengthofcurrentemployment  Instalmentpercent  Sex  MaritalStatus  \\\n",
       "0                          2                  4    2              2   \n",
       "1                          3                  2    1              1   \n",
       "2                          4                  2    2              2   \n",
       "3                          3                  3    1              1   \n",
       "4                          3                  4    1              1   \n",
       "\n",
       "   Mostvaluableavailableasset  Ageyears  ConcurrentCredits  \\\n",
       "0                           2         0                  3   \n",
       "1                           1         2                  3   \n",
       "2                           1         0                  3   \n",
       "3                           1         2                  3   \n",
       "4                           2         2                  1   \n",
       "\n",
       "   NoofCreditsatthisBank  Noofdependents  Telephone  ForeignWorker  TSC_3EFA  \n",
       "0                      1               1          1              2         1  \n",
       "1                      2               2          1              2         3  \n",
       "2                      1               1          1              2         1  \n",
       "3                      2               2          1              1         3  \n",
       "4                      2               1          1              1         3  "
      ]
     },
     "execution_count": 2,
     "metadata": {},
     "output_type": "execute_result"
    }
   ],
   "source": [
    "pred3 = pd.read_csv(\"Cluster_Predictive_3_-_Normal&3FC.csv\")\n",
    "pred3.head(5)"
   ]
  },
  {
   "cell_type": "markdown",
   "metadata": {},
   "source": [
    "### Normal&3FC"
   ]
  },
  {
   "cell_type": "code",
   "execution_count": 4,
   "metadata": {},
   "outputs": [
    {
     "name": "stdout",
     "output_type": "stream",
     "text": [
      "(700, 18)\n",
      "(300, 18)\n"
     ]
    },
    {
     "name": "stderr",
     "output_type": "stream",
     "text": [
      "D:\\Anaconda 3\\lib\\site-packages\\sklearn\\linear_model\\logistic.py:432: FutureWarning: Default solver will be changed to 'lbfgs' in 0.22. Specify a solver to silence this warning.\n",
      "  FutureWarning)\n"
     ]
    },
    {
     "data": {
      "text/plain": [
       "LogisticRegression(C=1.0, class_weight=None, dual=False, fit_intercept=True,\n",
       "                   intercept_scaling=1, l1_ratio=None, max_iter=100,\n",
       "                   multi_class='warn', n_jobs=None, penalty='l2',\n",
       "                   random_state=None, solver='warn', tol=0.0001, verbose=0,\n",
       "                   warm_start=False)"
      ]
     },
     "execution_count": 4,
     "metadata": {},
     "output_type": "execute_result"
    }
   ],
   "source": [
    "train, test = train_test_split(pred3, test_size=0.3, random_state=0)\n",
    "print(train.shape)\n",
    "print(test.shape)\n",
    "y = pred3['Creditability']\n",
    "x = pred3.drop(['Creditability'], axis = 1)\n",
    "x_train, x_test, y_train, y_test = train_test_split(x, y, test_size = 0.3, random_state = 0)\n",
    "logreg = linear_model.LogisticRegression()\n",
    "logreg.fit(x_train, y_train)"
   ]
  },
  {
   "cell_type": "code",
   "execution_count": 5,
   "metadata": {},
   "outputs": [
    {
     "name": "stdout",
     "output_type": "stream",
     "text": [
      "Accuracy score = 0.76\n",
      "Confusion Matrix = \n",
      " [[ 44  56]\n",
      " [ 16 184]]\n"
     ]
    }
   ],
   "source": [
    "y_pred_lg = logreg.predict(x_test)\n",
    "from sklearn.metrics import accuracy_score\n",
    "print (\"Accuracy score =\", accuracy_score(y_test, y_pred_lg))\n",
    "\n",
    "from sklearn.metrics import confusion_matrix \n",
    "print(\"Confusion Matrix = \\n\", confusion_matrix(y_test, y_pred_lg))"
   ]
  },
  {
   "cell_type": "code",
   "execution_count": 6,
   "metadata": {},
   "outputs": [
    {
     "name": "stdout",
     "output_type": "stream",
     "text": [
      "              precision    recall  f1-score   support\n",
      "\n",
      "           0      0.733     0.440     0.550       100\n",
      "           1      0.767     0.920     0.836       200\n",
      "\n",
      "    accuracy                          0.760       300\n",
      "   macro avg      0.750     0.680     0.693       300\n",
      "weighted avg      0.756     0.760     0.741       300\n",
      "\n"
     ]
    }
   ],
   "source": [
    "print(metrics.classification_report(y_test, y_pred_lg, digits=3))"
   ]
  },
  {
   "cell_type": "code",
   "execution_count": 7,
   "metadata": {},
   "outputs": [
    {
     "name": "stdout",
     "output_type": "stream",
     "text": [
      "              precision    recall  f1-score   support\n",
      "\n",
      "           0      0.676     0.480     0.561       100\n",
      "           1      0.773     0.885     0.825       200\n",
      "\n",
      "    accuracy                          0.750       300\n",
      "   macro avg      0.724     0.682     0.693       300\n",
      "weighted avg      0.741     0.750     0.737       300\n",
      "\n"
     ]
    },
    {
     "name": "stderr",
     "output_type": "stream",
     "text": [
      "D:\\Anaconda 3\\lib\\site-packages\\sklearn\\ensemble\\forest.py:245: FutureWarning: The default value of n_estimators will change from 10 in version 0.20 to 100 in 0.22.\n",
      "  \"10 in version 0.20 to 100 in 0.22.\", FutureWarning)\n"
     ]
    }
   ],
   "source": [
    "from sklearn.ensemble import RandomForestClassifier\n",
    "\n",
    "randomforest = RandomForestClassifier(random_state=0)\n",
    "randomforest.fit(x_train, y_train)\n",
    "y_pred_rf = randomforest.predict(x_test)\n",
    "acc_randomforest = round(accuracy_score(y_pred_rf, y_test) * 100, 2)\n",
    "print(metrics.classification_report(y_test, y_pred_rf, digits=3))"
   ]
  },
  {
   "cell_type": "code",
   "execution_count": 8,
   "metadata": {},
   "outputs": [
    {
     "name": "stdout",
     "output_type": "stream",
     "text": [
      "              precision    recall  f1-score   support\n",
      "\n",
      "           0      0.566     0.640     0.601       100\n",
      "           1      0.807     0.755     0.780       200\n",
      "\n",
      "    accuracy                          0.717       300\n",
      "   macro avg      0.687     0.698     0.691       300\n",
      "weighted avg      0.727     0.717     0.721       300\n",
      "\n"
     ]
    }
   ],
   "source": [
    "from sklearn.naive_bayes import GaussianNB\n",
    "from sklearn.metrics import accuracy_score\n",
    "\n",
    "gaussian = GaussianNB()\n",
    "gaussian.fit(x_train, y_train)\n",
    "y_pred_nb = gaussian.predict(x_test)\n",
    "acc_gaussian = round(accuracy_score(y_pred_nb, y_test) * 100, 2)\n",
    "print(metrics.classification_report(y_test, y_pred_nb, digits=3))"
   ]
  },
  {
   "cell_type": "code",
   "execution_count": 9,
   "metadata": {},
   "outputs": [
    {
     "name": "stdout",
     "output_type": "stream",
     "text": [
      "Decision Tree Train Accuracy: 1.0\n",
      "Decision Tree Test Accuracy: 0.7133333333333334\n",
      "              precision    recall  f1-score   support\n",
      "\n",
      "           0      0.590     0.460     0.517       100\n",
      "           1      0.757     0.840     0.796       200\n",
      "\n",
      "    accuracy                          0.713       300\n",
      "   macro avg      0.673     0.650     0.657       300\n",
      "weighted avg      0.701     0.713     0.703       300\n",
      "\n"
     ]
    }
   ],
   "source": [
    "credit_tree = DecisionTreeClassifier(random_state=0)\n",
    "credit_tree .fit(x_train, y_train)\n",
    "\n",
    "y_train_predict_dt = credit_tree.predict(x_train)\n",
    "y_test_predict_dt = credit_tree.predict(x_test)\n",
    "\n",
    "print(\"Decision Tree Train Accuracy:\", accuracy_score(y_train_predict_dt, y_train))\n",
    "print(\"Decision Tree Test Accuracy:\", accuracy_score(y_test_predict_dt, y_test))\n",
    "print(metrics.classification_report(y_test, y_test_predict_dt, digits=3))"
   ]
  },
  {
   "cell_type": "code",
   "execution_count": 10,
   "metadata": {},
   "outputs": [
    {
     "name": "stdout",
     "output_type": "stream",
     "text": [
      "70.33\n",
      "              precision    recall  f1-score   support\n",
      "\n",
      "           0      0.587     0.370     0.454       100\n",
      "           1      0.734     0.870     0.796       200\n",
      "\n",
      "    accuracy                          0.703       300\n",
      "   macro avg      0.661     0.620     0.625       300\n",
      "weighted avg      0.685     0.703     0.682       300\n",
      "\n"
     ]
    }
   ],
   "source": [
    "from sklearn.neighbors import KNeighborsClassifier\n",
    "knn = KNeighborsClassifier()\n",
    "knn.fit(x_train, y_train)\n",
    "y_pred_knn = knn.predict(x_test)\n",
    "acc_knn = round(accuracy_score(y_pred_knn, y_test) * 100, 2)\n",
    "print(acc_knn)\n",
    "print(metrics.classification_report(y_test, y_pred_knn, digits=3))"
   ]
  },
  {
   "cell_type": "code",
   "execution_count": null,
   "metadata": {},
   "outputs": [],
   "source": []
  }
 ],
 "metadata": {
  "kernelspec": {
   "display_name": "Python 3",
   "language": "python",
   "name": "python3"
  },
  "language_info": {
   "codemirror_mode": {
    "name": "ipython",
    "version": 3
   },
   "file_extension": ".py",
   "mimetype": "text/x-python",
   "name": "python",
   "nbconvert_exporter": "python",
   "pygments_lexer": "ipython3",
   "version": "3.7.4"
  }
 },
 "nbformat": 4,
 "nbformat_minor": 2
}
