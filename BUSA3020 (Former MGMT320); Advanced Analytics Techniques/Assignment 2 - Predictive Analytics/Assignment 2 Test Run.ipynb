{
 "cells": [
  {
   "cell_type": "markdown",
   "metadata": {},
   "source": [
    "### BUSA3020: Advanced Analytics Techniques\n",
    "### Assignment 2: Predictive Analytics \n",
    "### Student Number: 45197083"
   ]
  },
  {
   "cell_type": "markdown",
   "metadata": {},
   "source": [
    "Import relevant Python packages\n"
   ]
  },
  {
   "cell_type": "code",
   "execution_count": 1,
   "metadata": {},
   "outputs": [],
   "source": [
    "import numpy as np\n",
    "import pandas as pd\n",
    "import matplotlib.pyplot as plt\n",
    "import seaborn as sns\n",
    "%matplotlib inline\n",
    "from sklearn.model_selection import train_test_split\n",
    "from sklearn import linear_model\n",
    "from sklearn.metrics import r2_score\n",
    "from sklearn.linear_model import LogisticRegression\n",
    "from sklearn.metrics import confusion_matrix, accuracy_score\n",
    "from sklearn.tree import DecisionTreeClassifier\n",
    "from sklearn.metrics import accuracy_score"
   ]
  },
  {
   "cell_type": "markdown",
   "metadata": {},
   "source": [
    "Read the data and show the first 5 columns of the data \n"
   ]
  },
  {
   "cell_type": "code",
   "execution_count": 2,
   "metadata": {
    "scrolled": true
   },
   "outputs": [
    {
     "data": {
      "text/html": [
       "<div>\n",
       "<style scoped>\n",
       "    .dataframe tbody tr th:only-of-type {\n",
       "        vertical-align: middle;\n",
       "    }\n",
       "\n",
       "    .dataframe tbody tr th {\n",
       "        vertical-align: top;\n",
       "    }\n",
       "\n",
       "    .dataframe thead th {\n",
       "        text-align: right;\n",
       "    }\n",
       "</style>\n",
       "<table border=\"1\" class=\"dataframe\">\n",
       "  <thead>\n",
       "    <tr style=\"text-align: right;\">\n",
       "      <th></th>\n",
       "      <th>Survived</th>\n",
       "      <th>Passenger Class</th>\n",
       "      <th>Name</th>\n",
       "      <th>Gender</th>\n",
       "      <th>Age</th>\n",
       "      <th>No of Siblings or Spouses on Board</th>\n",
       "      <th>No of Parents or Children on Board</th>\n",
       "      <th>Ticket Number</th>\n",
       "      <th>Passenger Fare</th>\n",
       "      <th>Cabin</th>\n",
       "      <th>Port of Embarkation</th>\n",
       "      <th>LifeBoat</th>\n",
       "    </tr>\n",
       "  </thead>\n",
       "  <tbody>\n",
       "    <tr>\n",
       "      <td>1</td>\n",
       "      <td>Yes</td>\n",
       "      <td>First</td>\n",
       "      <td>Allen, Miss. Elisabeth Walton</td>\n",
       "      <td>Female</td>\n",
       "      <td>29.0000</td>\n",
       "      <td>0</td>\n",
       "      <td>0</td>\n",
       "      <td>24160</td>\n",
       "      <td>211.3375</td>\n",
       "      <td>B5</td>\n",
       "      <td>Southampton</td>\n",
       "      <td>2</td>\n",
       "    </tr>\n",
       "    <tr>\n",
       "      <td>2</td>\n",
       "      <td>Yes</td>\n",
       "      <td>First</td>\n",
       "      <td>Allison, Master. Hudson Trevor</td>\n",
       "      <td>Male</td>\n",
       "      <td>0.9167</td>\n",
       "      <td>1</td>\n",
       "      <td>2</td>\n",
       "      <td>113781</td>\n",
       "      <td>151.5500</td>\n",
       "      <td>C22 C26</td>\n",
       "      <td>Southampton</td>\n",
       "      <td>11</td>\n",
       "    </tr>\n",
       "    <tr>\n",
       "      <td>3</td>\n",
       "      <td>No</td>\n",
       "      <td>First</td>\n",
       "      <td>Allison, Miss. Helen Loraine</td>\n",
       "      <td>Female</td>\n",
       "      <td>2.0000</td>\n",
       "      <td>1</td>\n",
       "      <td>2</td>\n",
       "      <td>113781</td>\n",
       "      <td>151.5500</td>\n",
       "      <td>C22 C26</td>\n",
       "      <td>Southampton</td>\n",
       "      <td>NaN</td>\n",
       "    </tr>\n",
       "    <tr>\n",
       "      <td>4</td>\n",
       "      <td>No</td>\n",
       "      <td>First</td>\n",
       "      <td>Allison, Mr. Hudson Joshua Creighton</td>\n",
       "      <td>Male</td>\n",
       "      <td>30.0000</td>\n",
       "      <td>1</td>\n",
       "      <td>2</td>\n",
       "      <td>113781</td>\n",
       "      <td>151.5500</td>\n",
       "      <td>C22 C26</td>\n",
       "      <td>Southampton</td>\n",
       "      <td>NaN</td>\n",
       "    </tr>\n",
       "    <tr>\n",
       "      <td>5</td>\n",
       "      <td>No</td>\n",
       "      <td>First</td>\n",
       "      <td>Allison, Mrs. Hudson J C (Bessie Waldo Daniels)</td>\n",
       "      <td>Female</td>\n",
       "      <td>25.0000</td>\n",
       "      <td>1</td>\n",
       "      <td>2</td>\n",
       "      <td>113781</td>\n",
       "      <td>151.5500</td>\n",
       "      <td>C22 C26</td>\n",
       "      <td>Southampton</td>\n",
       "      <td>NaN</td>\n",
       "    </tr>\n",
       "  </tbody>\n",
       "</table>\n",
       "</div>"
      ],
      "text/plain": [
       "  Survived Passenger Class                                             Name  \\\n",
       "1      Yes           First                    Allen, Miss. Elisabeth Walton   \n",
       "2      Yes           First                   Allison, Master. Hudson Trevor   \n",
       "3       No           First                     Allison, Miss. Helen Loraine   \n",
       "4       No           First             Allison, Mr. Hudson Joshua Creighton   \n",
       "5       No           First  Allison, Mrs. Hudson J C (Bessie Waldo Daniels)   \n",
       "\n",
       "   Gender      Age  No of Siblings or Spouses on Board  \\\n",
       "1  Female  29.0000                                   0   \n",
       "2    Male   0.9167                                   1   \n",
       "3  Female   2.0000                                   1   \n",
       "4    Male  30.0000                                   1   \n",
       "5  Female  25.0000                                   1   \n",
       "\n",
       "   No of Parents or Children on Board Ticket Number  Passenger Fare    Cabin  \\\n",
       "1                                   0         24160        211.3375       B5   \n",
       "2                                   2        113781        151.5500  C22 C26   \n",
       "3                                   2        113781        151.5500  C22 C26   \n",
       "4                                   2        113781        151.5500  C22 C26   \n",
       "5                                   2        113781        151.5500  C22 C26   \n",
       "\n",
       "  Port of Embarkation LifeBoat  \n",
       "1         Southampton        2  \n",
       "2         Southampton       11  \n",
       "3         Southampton      NaN  \n",
       "4         Southampton      NaN  \n",
       "5         Southampton      NaN  "
      ]
     },
     "execution_count": 2,
     "metadata": {},
     "output_type": "execute_result"
    }
   ],
   "source": [
    "df = pd.read_csv(\"TitanicData_AllPassengers.csv\")\n",
    "df.index = np.arange(1,len(df)+1) #Remove 0 (default) indexing on Python\n",
    "df.head(5)"
   ]
  },
  {
   "cell_type": "markdown",
   "metadata": {},
   "source": [
    "#### Exploratary Data Analysis (EDA)"
   ]
  },
  {
   "cell_type": "code",
   "execution_count": 3,
   "metadata": {},
   "outputs": [
    {
     "data": {
      "text/plain": [
       "Index(['Survived', 'Passenger Class', 'Name', 'Gender', 'Age',\n",
       "       'No of Siblings or Spouses on Board',\n",
       "       'No of Parents or Children on Board', 'Ticket Number', 'Passenger Fare',\n",
       "       'Cabin', 'Port of Embarkation', 'LifeBoat'],\n",
       "      dtype='object')"
      ]
     },
     "execution_count": 3,
     "metadata": {},
     "output_type": "execute_result"
    }
   ],
   "source": [
    "#Show the list of columns within the data set. \n",
    "df.columns"
   ]
  },
  {
   "cell_type": "markdown",
   "metadata": {},
   "source": [
    "#### Data Dictionary: \n",
    "- Survived: It shows whether the passengers have survived in the incident. \n",
    "- Passenger Class: It shows the ticket class of the passengers. \n",
    "- Name: The name of the passenger. \n",
    "- Sex: The gender of the passenger.\n",
    "- Age: The age of the passenger. \n",
    "- No of Sibings or Spouses on board: Did the passenger has any sibings/spouses on board in the RMS Titantic. \n",
    "- No of Parents or Children on board: Did the passenger has any parents/children on board in the RMS Titantic. \n",
    "- Ticket Number: The ticket number of the passenger.\n",
    "- Passenger Fare: The price of the passenger fare.\n",
    "- Cabin: The cabin location of the passneger.\n",
    "- Port of Embarkatation: The geographic location in a routing scheme from which the passenger depart.\n",
    "- Lifeboat: Is the passenger in one of the lifeboats available in the RMS Titantic? If so, which one? "
   ]
  },
  {
   "cell_type": "markdown",
   "metadata": {},
   "source": [
    "It shows that are there are some missing values within both variables 'Cabin' and 'Life Boat'. Further action is needed to resolve such issue. "
   ]
  },
  {
   "cell_type": "code",
   "execution_count": 4,
   "metadata": {
    "scrolled": false
   },
   "outputs": [
    {
     "data": {
      "text/html": [
       "<div>\n",
       "<style scoped>\n",
       "    .dataframe tbody tr th:only-of-type {\n",
       "        vertical-align: middle;\n",
       "    }\n",
       "\n",
       "    .dataframe tbody tr th {\n",
       "        vertical-align: top;\n",
       "    }\n",
       "\n",
       "    .dataframe thead th {\n",
       "        text-align: right;\n",
       "    }\n",
       "</style>\n",
       "<table border=\"1\" class=\"dataframe\">\n",
       "  <thead>\n",
       "    <tr style=\"text-align: right;\">\n",
       "      <th></th>\n",
       "      <th>Age</th>\n",
       "      <th>No of Siblings or Spouses on Board</th>\n",
       "      <th>No of Parents or Children on Board</th>\n",
       "      <th>Passenger Fare</th>\n",
       "    </tr>\n",
       "  </thead>\n",
       "  <tbody>\n",
       "    <tr>\n",
       "      <td>count</td>\n",
       "      <td>1046.000000</td>\n",
       "      <td>1309.000000</td>\n",
       "      <td>1309.000000</td>\n",
       "      <td>1308.000000</td>\n",
       "    </tr>\n",
       "    <tr>\n",
       "      <td>mean</td>\n",
       "      <td>29.881135</td>\n",
       "      <td>0.498854</td>\n",
       "      <td>0.385027</td>\n",
       "      <td>33.295479</td>\n",
       "    </tr>\n",
       "    <tr>\n",
       "      <td>std</td>\n",
       "      <td>14.413500</td>\n",
       "      <td>1.041658</td>\n",
       "      <td>0.865560</td>\n",
       "      <td>51.758668</td>\n",
       "    </tr>\n",
       "    <tr>\n",
       "      <td>min</td>\n",
       "      <td>0.166700</td>\n",
       "      <td>0.000000</td>\n",
       "      <td>0.000000</td>\n",
       "      <td>0.000000</td>\n",
       "    </tr>\n",
       "    <tr>\n",
       "      <td>25%</td>\n",
       "      <td>21.000000</td>\n",
       "      <td>0.000000</td>\n",
       "      <td>0.000000</td>\n",
       "      <td>7.895800</td>\n",
       "    </tr>\n",
       "    <tr>\n",
       "      <td>50%</td>\n",
       "      <td>28.000000</td>\n",
       "      <td>0.000000</td>\n",
       "      <td>0.000000</td>\n",
       "      <td>14.454200</td>\n",
       "    </tr>\n",
       "    <tr>\n",
       "      <td>75%</td>\n",
       "      <td>39.000000</td>\n",
       "      <td>1.000000</td>\n",
       "      <td>0.000000</td>\n",
       "      <td>31.275000</td>\n",
       "    </tr>\n",
       "    <tr>\n",
       "      <td>max</td>\n",
       "      <td>80.000000</td>\n",
       "      <td>8.000000</td>\n",
       "      <td>9.000000</td>\n",
       "      <td>512.329200</td>\n",
       "    </tr>\n",
       "  </tbody>\n",
       "</table>\n",
       "</div>"
      ],
      "text/plain": [
       "               Age  No of Siblings or Spouses on Board  \\\n",
       "count  1046.000000                         1309.000000   \n",
       "mean     29.881135                            0.498854   \n",
       "std      14.413500                            1.041658   \n",
       "min       0.166700                            0.000000   \n",
       "25%      21.000000                            0.000000   \n",
       "50%      28.000000                            0.000000   \n",
       "75%      39.000000                            1.000000   \n",
       "max      80.000000                            8.000000   \n",
       "\n",
       "       No of Parents or Children on Board  Passenger Fare  \n",
       "count                         1309.000000     1308.000000  \n",
       "mean                             0.385027       33.295479  \n",
       "std                              0.865560       51.758668  \n",
       "min                              0.000000        0.000000  \n",
       "25%                              0.000000        7.895800  \n",
       "50%                              0.000000       14.454200  \n",
       "75%                              0.000000       31.275000  \n",
       "max                              9.000000      512.329200  "
      ]
     },
     "execution_count": 4,
     "metadata": {},
     "output_type": "execute_result"
    }
   ],
   "source": [
    "#Generate some descriptive statistics of the numerical features.\n",
    "df.describe()"
   ]
  },
  {
   "cell_type": "code",
   "execution_count": 5,
   "metadata": {},
   "outputs": [
    {
     "data": {
      "text/plain": [
       "<matplotlib.axes._subplots.AxesSubplot at 0x20c579095c8>"
      ]
     },
     "execution_count": 5,
     "metadata": {},
     "output_type": "execute_result"
    },
    {
     "data": {
      "image/png": "[encoded data removed]",
      "text/plain": [
       "<Figure size 432x288 with 1 Axes>"
      ]
     },
     "metadata": {
      "needs_background": "light"
     },
     "output_type": "display_data"
    }
   ],
   "source": [
    "gender_count = df['Gender'].value_counts()\n",
    "gender_count = gender_count[:10,]\n",
    "sns.barplot(gender_count.index, gender_count.values, alpha=0.8, order=[\"Male\", \"Female\"])"
   ]
  },
  {
   "cell_type": "code",
   "execution_count": 6,
   "metadata": {},
   "outputs": [
    {
     "data": {
      "text/plain": [
       "Text(0.5, 0, 'Survived?')"
      ]
     },
     "execution_count": 6,
     "metadata": {},
     "output_type": "execute_result"
    },
    {
     "data": {
      "image/png": "[encoded data removed]",
      "text/plain": [
       "<Figure size 432x288 with 1 Axes>"
      ]
     },
     "metadata": {
      "needs_background": "light"
     },
     "output_type": "display_data"
    }
   ],
   "source": [
    "survived_count = df['Survived'].value_counts()\n",
    "survived_count = survived_count[:10,]\n",
    "sns.barplot(survived_count.index, survived_count.values, alpha=0.8,order=[\"Yes\", \"No\"])\n",
    "plt.title('Did the passengers survived?')\n",
    "plt.ylabel('Number of Passengers', fontsize=12)\n",
    "plt.xlabel('Survived?', fontsize=12)"
   ]
  },
  {
   "cell_type": "code",
   "execution_count": 7,
   "metadata": {},
   "outputs": [
    {
     "data": {
      "image/png": "[encoded data removed]",
      "text/plain": [
       "<Figure size 432x288 with 1 Axes>"
      ]
     },
     "metadata": {
      "needs_background": "light"
     },
     "output_type": "display_data"
    }
   ],
   "source": [
    "class_count = df['Passenger Class'].value_counts()\n",
    "class_count = class_count[:10,]\n",
    "sns.barplot(class_count.index, class_count.values, alpha=0.8, order=[\"First\", \"Second\",\"Third\"])\n",
    "plt.title('Passenger Class of Passengers')\n",
    "plt.ylabel('Number of Passengers', fontsize=12)\n",
    "plt.xlabel('Passenger Class', fontsize=12)\n",
    "\n",
    "plt.show()"
   ]
  },
  {
   "cell_type": "markdown",
   "metadata": {},
   "source": [
    "#### Data Cleansing "
   ]
  },
  {
   "cell_type": "markdown",
   "metadata": {},
   "source": [
    "Check missing data within the dataset"
   ]
  },
  {
   "cell_type": "code",
   "execution_count": 8,
   "metadata": {
    "scrolled": true
   },
   "outputs": [
    {
     "data": {
      "text/plain": [
       "Survived                                 0\n",
       "Passenger Class                          0\n",
       "Name                                     0\n",
       "Gender                                   0\n",
       "Age                                    263\n",
       "No of Siblings or Spouses on Board       0\n",
       "No of Parents or Children on Board       0\n",
       "Ticket Number                            0\n",
       "Passenger Fare                           1\n",
       "Cabin                                 1014\n",
       "Port of Embarkation                      2\n",
       "LifeBoat                               823\n",
       "dtype: int64"
      ]
     },
     "execution_count": 8,
     "metadata": {},
     "output_type": "execute_result"
    }
   ],
   "source": [
    "df.isnull().sum()"
   ]
  },
  {
   "cell_type": "markdown",
   "metadata": {},
   "source": [
    "Find out the dimensions of the data (**Before dropping the values**). "
   ]
  },
  {
   "cell_type": "code",
   "execution_count": 9,
   "metadata": {},
   "outputs": [
    {
     "data": {
      "text/plain": [
       "(1309, 12)"
      ]
     },
     "execution_count": 9,
     "metadata": {},
     "output_type": "execute_result"
    }
   ],
   "source": [
    "df.shape"
   ]
  },
  {
   "cell_type": "markdown",
   "metadata": {},
   "source": [
    "Dealing with Missing Values. "
   ]
  },
  {
   "cell_type": "markdown",
   "metadata": {},
   "source": [
    "- Drop the missing values of Age column. \n"
   ]
  },
  {
   "cell_type": "code",
   "execution_count": 10,
   "metadata": {},
   "outputs": [],
   "source": [
    "df = df.dropna(axis=0, subset=['Age'])"
   ]
  },
  {
   "cell_type": "markdown",
   "metadata": {},
   "source": [
    "- The column **Life Boat** is dropped as if the passenger got on a life boat, he/she would likely to survive. \n",
    "- The column **Cabin** is dropped as it contains many missing values - Hard to deal with. "
   ]
  },
  {
   "cell_type": "code",
   "execution_count": 11,
   "metadata": {},
   "outputs": [],
   "source": [
    "df.drop(['Cabin'], axis = 1, inplace = True) \n",
    "df.drop(['LifeBoat'], axis = 1, inplace = True) "
   ]
  },
  {
   "cell_type": "markdown",
   "metadata": {},
   "source": [
    "- Drop the missing values of Port of Embrakation and Passenger Fare column. "
   ]
  },
  {
   "cell_type": "code",
   "execution_count": 12,
   "metadata": {},
   "outputs": [],
   "source": [
    "df = df.dropna(axis=0, subset=['Port of Embarkation'])\n",
    "df = df.dropna(axis=0, subset=['Passenger Fare'])"
   ]
  },
  {
   "cell_type": "markdown",
   "metadata": {},
   "source": [
    "Find out the dimensions of the data (**After dropping the values**). "
   ]
  },
  {
   "cell_type": "code",
   "execution_count": 13,
   "metadata": {},
   "outputs": [
    {
     "data": {
      "text/plain": [
       "(1043, 10)"
      ]
     },
     "execution_count": 13,
     "metadata": {},
     "output_type": "execute_result"
    }
   ],
   "source": [
    "df.shape"
   ]
  },
  {
   "cell_type": "markdown",
   "metadata": {},
   "source": [
    "#### Changing the values of different variables. "
   ]
  },
  {
   "cell_type": "markdown",
   "metadata": {},
   "source": [
    "- Convert the target variable - 'Survived' into a dummy variable. "
   ]
  },
  {
   "cell_type": "code",
   "execution_count": 14,
   "metadata": {},
   "outputs": [
    {
     "data": {
      "text/html": [
       "<div>\n",
       "<style scoped>\n",
       "    .dataframe tbody tr th:only-of-type {\n",
       "        vertical-align: middle;\n",
       "    }\n",
       "\n",
       "    .dataframe tbody tr th {\n",
       "        vertical-align: top;\n",
       "    }\n",
       "\n",
       "    .dataframe thead th {\n",
       "        text-align: right;\n",
       "    }\n",
       "</style>\n",
       "<table border=\"1\" class=\"dataframe\">\n",
       "  <thead>\n",
       "    <tr style=\"text-align: right;\">\n",
       "      <th></th>\n",
       "      <th>Survived</th>\n",
       "      <th>Passenger Class</th>\n",
       "      <th>Name</th>\n",
       "      <th>Gender</th>\n",
       "      <th>Age</th>\n",
       "      <th>No of Siblings or Spouses on Board</th>\n",
       "      <th>No of Parents or Children on Board</th>\n",
       "      <th>Ticket Number</th>\n",
       "      <th>Passenger Fare</th>\n",
       "      <th>Port of Embarkation</th>\n",
       "    </tr>\n",
       "  </thead>\n",
       "  <tbody>\n",
       "    <tr>\n",
       "      <td>1</td>\n",
       "      <td>1</td>\n",
       "      <td>First</td>\n",
       "      <td>Allen, Miss. Elisabeth Walton</td>\n",
       "      <td>Female</td>\n",
       "      <td>29.0000</td>\n",
       "      <td>0</td>\n",
       "      <td>0</td>\n",
       "      <td>24160</td>\n",
       "      <td>211.3375</td>\n",
       "      <td>Southampton</td>\n",
       "    </tr>\n",
       "    <tr>\n",
       "      <td>2</td>\n",
       "      <td>1</td>\n",
       "      <td>First</td>\n",
       "      <td>Allison, Master. Hudson Trevor</td>\n",
       "      <td>Male</td>\n",
       "      <td>0.9167</td>\n",
       "      <td>1</td>\n",
       "      <td>2</td>\n",
       "      <td>113781</td>\n",
       "      <td>151.5500</td>\n",
       "      <td>Southampton</td>\n",
       "    </tr>\n",
       "    <tr>\n",
       "      <td>3</td>\n",
       "      <td>0</td>\n",
       "      <td>First</td>\n",
       "      <td>Allison, Miss. Helen Loraine</td>\n",
       "      <td>Female</td>\n",
       "      <td>2.0000</td>\n",
       "      <td>1</td>\n",
       "      <td>2</td>\n",
       "      <td>113781</td>\n",
       "      <td>151.5500</td>\n",
       "      <td>Southampton</td>\n",
       "    </tr>\n",
       "    <tr>\n",
       "      <td>4</td>\n",
       "      <td>0</td>\n",
       "      <td>First</td>\n",
       "      <td>Allison, Mr. Hudson Joshua Creighton</td>\n",
       "      <td>Male</td>\n",
       "      <td>30.0000</td>\n",
       "      <td>1</td>\n",
       "      <td>2</td>\n",
       "      <td>113781</td>\n",
       "      <td>151.5500</td>\n",
       "      <td>Southampton</td>\n",
       "    </tr>\n",
       "    <tr>\n",
       "      <td>5</td>\n",
       "      <td>0</td>\n",
       "      <td>First</td>\n",
       "      <td>Allison, Mrs. Hudson J C (Bessie Waldo Daniels)</td>\n",
       "      <td>Female</td>\n",
       "      <td>25.0000</td>\n",
       "      <td>1</td>\n",
       "      <td>2</td>\n",
       "      <td>113781</td>\n",
       "      <td>151.5500</td>\n",
       "      <td>Southampton</td>\n",
       "    </tr>\n",
       "  </tbody>\n",
       "</table>\n",
       "</div>"
      ],
      "text/plain": [
       "   Survived Passenger Class                                             Name  \\\n",
       "1         1           First                    Allen, Miss. Elisabeth Walton   \n",
       "2         1           First                   Allison, Master. Hudson Trevor   \n",
       "3         0           First                     Allison, Miss. Helen Loraine   \n",
       "4         0           First             Allison, Mr. Hudson Joshua Creighton   \n",
       "5         0           First  Allison, Mrs. Hudson J C (Bessie Waldo Daniels)   \n",
       "\n",
       "   Gender      Age  No of Siblings or Spouses on Board  \\\n",
       "1  Female  29.0000                                   0   \n",
       "2    Male   0.9167                                   1   \n",
       "3  Female   2.0000                                   1   \n",
       "4    Male  30.0000                                   1   \n",
       "5  Female  25.0000                                   1   \n",
       "\n",
       "   No of Parents or Children on Board Ticket Number  Passenger Fare  \\\n",
       "1                                   0         24160        211.3375   \n",
       "2                                   2        113781        151.5500   \n",
       "3                                   2        113781        151.5500   \n",
       "4                                   2        113781        151.5500   \n",
       "5                                   2        113781        151.5500   \n",
       "\n",
       "  Port of Embarkation  \n",
       "1         Southampton  \n",
       "2         Southampton  \n",
       "3         Southampton  \n",
       "4         Southampton  \n",
       "5         Southampton  "
      ]
     },
     "execution_count": 14,
     "metadata": {},
     "output_type": "execute_result"
    }
   ],
   "source": [
    "df.replace(to_replace =\"Yes\", value =\"1\", inplace = True) \n",
    "df.replace(to_replace =\"No\", value =\"0\", inplace = True) \n",
    "df[\"Survived\"] = pd.to_numeric(df[\"Survived\"])\n",
    "df.head()"
   ]
  },
  {
   "cell_type": "markdown",
   "metadata": {},
   "source": [
    "- Convert the variable - 'Gender' into a dummy variable. "
   ]
  },
  {
   "cell_type": "code",
   "execution_count": 15,
   "metadata": {
    "scrolled": true
   },
   "outputs": [
    {
     "data": {
      "text/html": [
       "<div>\n",
       "<style scoped>\n",
       "    .dataframe tbody tr th:only-of-type {\n",
       "        vertical-align: middle;\n",
       "    }\n",
       "\n",
       "    .dataframe tbody tr th {\n",
       "        vertical-align: top;\n",
       "    }\n",
       "\n",
       "    .dataframe thead th {\n",
       "        text-align: right;\n",
       "    }\n",
       "</style>\n",
       "<table border=\"1\" class=\"dataframe\">\n",
       "  <thead>\n",
       "    <tr style=\"text-align: right;\">\n",
       "      <th></th>\n",
       "      <th>Survived</th>\n",
       "      <th>Passenger Class</th>\n",
       "      <th>Name</th>\n",
       "      <th>Gender</th>\n",
       "      <th>Age</th>\n",
       "      <th>No of Siblings or Spouses on Board</th>\n",
       "      <th>No of Parents or Children on Board</th>\n",
       "      <th>Ticket Number</th>\n",
       "      <th>Passenger Fare</th>\n",
       "      <th>Port of Embarkation</th>\n",
       "    </tr>\n",
       "  </thead>\n",
       "  <tbody>\n",
       "    <tr>\n",
       "      <td>1</td>\n",
       "      <td>1</td>\n",
       "      <td>First</td>\n",
       "      <td>Allen, Miss. Elisabeth Walton</td>\n",
       "      <td>1</td>\n",
       "      <td>29.0000</td>\n",
       "      <td>0</td>\n",
       "      <td>0</td>\n",
       "      <td>24160</td>\n",
       "      <td>211.3375</td>\n",
       "      <td>Southampton</td>\n",
       "    </tr>\n",
       "    <tr>\n",
       "      <td>2</td>\n",
       "      <td>1</td>\n",
       "      <td>First</td>\n",
       "      <td>Allison, Master. Hudson Trevor</td>\n",
       "      <td>0</td>\n",
       "      <td>0.9167</td>\n",
       "      <td>1</td>\n",
       "      <td>2</td>\n",
       "      <td>113781</td>\n",
       "      <td>151.5500</td>\n",
       "      <td>Southampton</td>\n",
       "    </tr>\n",
       "    <tr>\n",
       "      <td>3</td>\n",
       "      <td>0</td>\n",
       "      <td>First</td>\n",
       "      <td>Allison, Miss. Helen Loraine</td>\n",
       "      <td>1</td>\n",
       "      <td>2.0000</td>\n",
       "      <td>1</td>\n",
       "      <td>2</td>\n",
       "      <td>113781</td>\n",
       "      <td>151.5500</td>\n",
       "      <td>Southampton</td>\n",
       "    </tr>\n",
       "    <tr>\n",
       "      <td>4</td>\n",
       "      <td>0</td>\n",
       "      <td>First</td>\n",
       "      <td>Allison, Mr. Hudson Joshua Creighton</td>\n",
       "      <td>0</td>\n",
       "      <td>30.0000</td>\n",
       "      <td>1</td>\n",
       "      <td>2</td>\n",
       "      <td>113781</td>\n",
       "      <td>151.5500</td>\n",
       "      <td>Southampton</td>\n",
       "    </tr>\n",
       "    <tr>\n",
       "      <td>5</td>\n",
       "      <td>0</td>\n",
       "      <td>First</td>\n",
       "      <td>Allison, Mrs. Hudson J C (Bessie Waldo Daniels)</td>\n",
       "      <td>1</td>\n",
       "      <td>25.0000</td>\n",
       "      <td>1</td>\n",
       "      <td>2</td>\n",
       "      <td>113781</td>\n",
       "      <td>151.5500</td>\n",
       "      <td>Southampton</td>\n",
       "    </tr>\n",
       "  </tbody>\n",
       "</table>\n",
       "</div>"
      ],
      "text/plain": [
       "   Survived Passenger Class                                             Name  \\\n",
       "1         1           First                    Allen, Miss. Elisabeth Walton   \n",
       "2         1           First                   Allison, Master. Hudson Trevor   \n",
       "3         0           First                     Allison, Miss. Helen Loraine   \n",
       "4         0           First             Allison, Mr. Hudson Joshua Creighton   \n",
       "5         0           First  Allison, Mrs. Hudson J C (Bessie Waldo Daniels)   \n",
       "\n",
       "   Gender      Age  No of Siblings or Spouses on Board  \\\n",
       "1       1  29.0000                                   0   \n",
       "2       0   0.9167                                   1   \n",
       "3       1   2.0000                                   1   \n",
       "4       0  30.0000                                   1   \n",
       "5       1  25.0000                                   1   \n",
       "\n",
       "   No of Parents or Children on Board Ticket Number  Passenger Fare  \\\n",
       "1                                   0         24160        211.3375   \n",
       "2                                   2        113781        151.5500   \n",
       "3                                   2        113781        151.5500   \n",
       "4                                   2        113781        151.5500   \n",
       "5                                   2        113781        151.5500   \n",
       "\n",
       "  Port of Embarkation  \n",
       "1         Southampton  \n",
       "2         Southampton  \n",
       "3         Southampton  \n",
       "4         Southampton  \n",
       "5         Southampton  "
      ]
     },
     "execution_count": 15,
     "metadata": {},
     "output_type": "execute_result"
    }
   ],
   "source": [
    "df.replace(to_replace =\"Male\", value =\"0\", inplace = True) \n",
    "df.replace(to_replace =\"Female\", value =\"1\", inplace = True) \n",
    "df[\"Gender\"] = pd.to_numeric(df[\"Gender\"])\n",
    "df.head()"
   ]
  },
  {
   "cell_type": "markdown",
   "metadata": {},
   "source": [
    "- Replace the values of \"First Class\", \"Second Class\" and \"Third\" into '1', '2' and '3' - for our ease of analysis. "
   ]
  },
  {
   "cell_type": "code",
   "execution_count": 16,
   "metadata": {
    "scrolled": true
   },
   "outputs": [
    {
     "data": {
      "text/html": [
       "<div>\n",
       "<style scoped>\n",
       "    .dataframe tbody tr th:only-of-type {\n",
       "        vertical-align: middle;\n",
       "    }\n",
       "\n",
       "    .dataframe tbody tr th {\n",
       "        vertical-align: top;\n",
       "    }\n",
       "\n",
       "    .dataframe thead th {\n",
       "        text-align: right;\n",
       "    }\n",
       "</style>\n",
       "<table border=\"1\" class=\"dataframe\">\n",
       "  <thead>\n",
       "    <tr style=\"text-align: right;\">\n",
       "      <th></th>\n",
       "      <th>Survived</th>\n",
       "      <th>Passenger Class</th>\n",
       "      <th>Name</th>\n",
       "      <th>Gender</th>\n",
       "      <th>Age</th>\n",
       "      <th>No of Siblings or Spouses on Board</th>\n",
       "      <th>No of Parents or Children on Board</th>\n",
       "      <th>Ticket Number</th>\n",
       "      <th>Passenger Fare</th>\n",
       "      <th>Port of Embarkation</th>\n",
       "    </tr>\n",
       "  </thead>\n",
       "  <tbody>\n",
       "    <tr>\n",
       "      <td>1</td>\n",
       "      <td>1</td>\n",
       "      <td>1</td>\n",
       "      <td>Allen, Miss. Elisabeth Walton</td>\n",
       "      <td>1</td>\n",
       "      <td>29.0000</td>\n",
       "      <td>0</td>\n",
       "      <td>0</td>\n",
       "      <td>24160</td>\n",
       "      <td>211.3375</td>\n",
       "      <td>Southampton</td>\n",
       "    </tr>\n",
       "    <tr>\n",
       "      <td>2</td>\n",
       "      <td>1</td>\n",
       "      <td>1</td>\n",
       "      <td>Allison, Master. Hudson Trevor</td>\n",
       "      <td>0</td>\n",
       "      <td>0.9167</td>\n",
       "      <td>1</td>\n",
       "      <td>2</td>\n",
       "      <td>113781</td>\n",
       "      <td>151.5500</td>\n",
       "      <td>Southampton</td>\n",
       "    </tr>\n",
       "    <tr>\n",
       "      <td>3</td>\n",
       "      <td>0</td>\n",
       "      <td>1</td>\n",
       "      <td>Allison, Miss. Helen Loraine</td>\n",
       "      <td>1</td>\n",
       "      <td>2.0000</td>\n",
       "      <td>1</td>\n",
       "      <td>2</td>\n",
       "      <td>113781</td>\n",
       "      <td>151.5500</td>\n",
       "      <td>Southampton</td>\n",
       "    </tr>\n",
       "    <tr>\n",
       "      <td>4</td>\n",
       "      <td>0</td>\n",
       "      <td>1</td>\n",
       "      <td>Allison, Mr. Hudson Joshua Creighton</td>\n",
       "      <td>0</td>\n",
       "      <td>30.0000</td>\n",
       "      <td>1</td>\n",
       "      <td>2</td>\n",
       "      <td>113781</td>\n",
       "      <td>151.5500</td>\n",
       "      <td>Southampton</td>\n",
       "    </tr>\n",
       "    <tr>\n",
       "      <td>5</td>\n",
       "      <td>0</td>\n",
       "      <td>1</td>\n",
       "      <td>Allison, Mrs. Hudson J C (Bessie Waldo Daniels)</td>\n",
       "      <td>1</td>\n",
       "      <td>25.0000</td>\n",
       "      <td>1</td>\n",
       "      <td>2</td>\n",
       "      <td>113781</td>\n",
       "      <td>151.5500</td>\n",
       "      <td>Southampton</td>\n",
       "    </tr>\n",
       "  </tbody>\n",
       "</table>\n",
       "</div>"
      ],
      "text/plain": [
       "   Survived  Passenger Class                                             Name  \\\n",
       "1         1                1                    Allen, Miss. Elisabeth Walton   \n",
       "2         1                1                   Allison, Master. Hudson Trevor   \n",
       "3         0                1                     Allison, Miss. Helen Loraine   \n",
       "4         0                1             Allison, Mr. Hudson Joshua Creighton   \n",
       "5         0                1  Allison, Mrs. Hudson J C (Bessie Waldo Daniels)   \n",
       "\n",
       "   Gender      Age  No of Siblings or Spouses on Board  \\\n",
       "1       1  29.0000                                   0   \n",
       "2       0   0.9167                                   1   \n",
       "3       1   2.0000                                   1   \n",
       "4       0  30.0000                                   1   \n",
       "5       1  25.0000                                   1   \n",
       "\n",
       "   No of Parents or Children on Board Ticket Number  Passenger Fare  \\\n",
       "1                                   0         24160        211.3375   \n",
       "2                                   2        113781        151.5500   \n",
       "3                                   2        113781        151.5500   \n",
       "4                                   2        113781        151.5500   \n",
       "5                                   2        113781        151.5500   \n",
       "\n",
       "  Port of Embarkation  \n",
       "1         Southampton  \n",
       "2         Southampton  \n",
       "3         Southampton  \n",
       "4         Southampton  \n",
       "5         Southampton  "
      ]
     },
     "execution_count": 16,
     "metadata": {},
     "output_type": "execute_result"
    }
   ],
   "source": [
    "df.replace(to_replace =\"First\", value =\"1\", inplace = True) \n",
    "df.replace(to_replace =\"Second\", value =\"2\", inplace = True) \n",
    "df.replace(to_replace =\"Third\", value =\"3\", inplace = True) \n",
    "df[\"Passenger Class\"] = pd.to_numeric(df[\"Passenger Class\"])\n",
    "df.head()"
   ]
  },
  {
   "cell_type": "markdown",
   "metadata": {},
   "source": [
    "- Creation of age category and replace the values. \n"
   ]
  },
  {
   "cell_type": "code",
   "execution_count": 17,
   "metadata": {},
   "outputs": [],
   "source": [
    "age_category = pd.cut(df.Age,bins=[0,2,17,65,99],labels=['Toddler/Baby','Child','Adult','Elderly'])\n",
    "df.insert(5,'Age Group',age_category)\n",
    "df.replace(to_replace =\"Toddler/Baby\", value =\"1\", inplace = True) \n",
    "df.replace(to_replace =\"Child\", value =\"2\", inplace = True) \n",
    "df.replace(to_replace =\"Adult\", value =\"3\", inplace = True) \n",
    "df.replace(to_replace =\"Elderly\", value =\"4\", inplace = True) \n",
    "df['Age Group'] = pd.to_numeric(df['Age Group'])"
   ]
  },
  {
   "cell_type": "markdown",
   "metadata": {},
   "source": [
    "- Creation of a column called 'Title' with all the titles from the names"
   ]
  },
  {
   "cell_type": "code",
   "execution_count": 18,
   "metadata": {},
   "outputs": [
    {
     "data": {
      "text/plain": [
       "1      Miss\n",
       "2    Master\n",
       "3      Miss\n",
       "4        Mr\n",
       "5       Mrs\n",
       "Name: Title, dtype: object"
      ]
     },
     "metadata": {},
     "output_type": "display_data"
    }
   ],
   "source": [
    "df['Title'] = df.Name.str.extract('([A-Za-z]+)\\.')\n",
    "display(df.Title.head())"
   ]
  },
  {
   "cell_type": "code",
   "execution_count": 19,
   "metadata": {},
   "outputs": [
    {
     "data": {
      "text/plain": [
       "Mr          580\n",
       "Miss        209\n",
       "Mrs         169\n",
       "Master       53\n",
       "Rev           8\n",
       "Dr            7\n",
       "Col           4\n",
       "Mlle          2\n",
       "Major         2\n",
       "Jonkheer      1\n",
       "Capt          1\n",
       "Ms            1\n",
       "Mme           1\n",
       "Sir           1\n",
       "Countess      1\n",
       "Lady          1\n",
       "Don           1\n",
       "Dona          1\n",
       "Name: Title, dtype: int64"
      ]
     },
     "metadata": {},
     "output_type": "display_data"
    }
   ],
   "source": [
    "display(df.Title.value_counts())"
   ]
  },
  {
   "cell_type": "code",
   "execution_count": 20,
   "metadata": {},
   "outputs": [],
   "source": [
    "#Combine the titles 'Dr, Rev, Col, Major, Capt' into one group.\n",
    "df.Title.replace(to_replace = ['Dr', 'Rev', 'Col', 'Major', 'Capt'], value = 'Officer', inplace = True)\n",
    "\n",
    "#Combine the titles Dona, Jonkheer, Countess, Sir, Lady, Don in bucket Aristocrat into one group. \n",
    "df.Title.replace(to_replace = ['Dona', 'Jonkheer', 'Countess', 'Sir', 'Lady', 'Don'], value = 'Aristocrat', inplace = True)\n",
    "\n",
    "#Combine the titles Mlle and Ms with Miss. And Mme with Mrs into one group. \n",
    "df.Title.replace({'Mlle':'Miss', 'Ms':'Miss', 'Mme':'Mrs'}, inplace = True)"
   ]
  },
  {
   "cell_type": "code",
   "execution_count": 21,
   "metadata": {},
   "outputs": [
    {
     "data": {
      "text/plain": [
       "1      Miss\n",
       "2    Master\n",
       "3      Miss\n",
       "4        Mr\n",
       "5       Mrs\n",
       "Name: Title, dtype: object"
      ]
     },
     "metadata": {},
     "output_type": "display_data"
    }
   ],
   "source": [
    "#Preview the new modified titles. \n",
    "display(df.Title.head())"
   ]
  },
  {
   "cell_type": "markdown",
   "metadata": {},
   "source": [
    "- Replace the values of the title into a numerical values "
   ]
  },
  {
   "cell_type": "code",
   "execution_count": 22,
   "metadata": {},
   "outputs": [],
   "source": [
    "df.replace(to_replace =\"Mr\", value =\"1\", inplace = True) \n",
    "df.replace(to_replace =\"Miss\", value =\"2\", inplace = True) \n",
    "df.replace(to_replace =\"Mrs\", value =\"3\", inplace = True) \n",
    "df.replace(to_replace =\"Master\", value =\"4\", inplace = True) \n",
    "df.replace(to_replace =\"Officer\", value =\"5\", inplace = True) \n",
    "df.replace(to_replace =\"Aristocrat\", value =\"6\", inplace = True) \n",
    "df['Title'] = pd.to_numeric(df['Title'])"
   ]
  },
  {
   "cell_type": "markdown",
   "metadata": {},
   "source": [
    "Previewing the dataframe the data. "
   ]
  },
  {
   "cell_type": "code",
   "execution_count": 23,
   "metadata": {
    "scrolled": true
   },
   "outputs": [
    {
     "data": {
      "text/html": [
       "<div>\n",
       "<style scoped>\n",
       "    .dataframe tbody tr th:only-of-type {\n",
       "        vertical-align: middle;\n",
       "    }\n",
       "\n",
       "    .dataframe tbody tr th {\n",
       "        vertical-align: top;\n",
       "    }\n",
       "\n",
       "    .dataframe thead th {\n",
       "        text-align: right;\n",
       "    }\n",
       "</style>\n",
       "<table border=\"1\" class=\"dataframe\">\n",
       "  <thead>\n",
       "    <tr style=\"text-align: right;\">\n",
       "      <th></th>\n",
       "      <th>Survived</th>\n",
       "      <th>Passenger Class</th>\n",
       "      <th>Name</th>\n",
       "      <th>Gender</th>\n",
       "      <th>Age</th>\n",
       "      <th>Age Group</th>\n",
       "      <th>No of Siblings or Spouses on Board</th>\n",
       "      <th>No of Parents or Children on Board</th>\n",
       "      <th>Ticket Number</th>\n",
       "      <th>Passenger Fare</th>\n",
       "      <th>Port of Embarkation</th>\n",
       "      <th>Title</th>\n",
       "    </tr>\n",
       "  </thead>\n",
       "  <tbody>\n",
       "    <tr>\n",
       "      <td>1</td>\n",
       "      <td>1</td>\n",
       "      <td>1</td>\n",
       "      <td>Allen, Miss. Elisabeth Walton</td>\n",
       "      <td>1</td>\n",
       "      <td>29.0000</td>\n",
       "      <td>3</td>\n",
       "      <td>0</td>\n",
       "      <td>0</td>\n",
       "      <td>24160</td>\n",
       "      <td>211.3375</td>\n",
       "      <td>Southampton</td>\n",
       "      <td>2</td>\n",
       "    </tr>\n",
       "    <tr>\n",
       "      <td>2</td>\n",
       "      <td>1</td>\n",
       "      <td>1</td>\n",
       "      <td>Allison, Master. Hudson Trevor</td>\n",
       "      <td>0</td>\n",
       "      <td>0.9167</td>\n",
       "      <td>1</td>\n",
       "      <td>1</td>\n",
       "      <td>2</td>\n",
       "      <td>113781</td>\n",
       "      <td>151.5500</td>\n",
       "      <td>Southampton</td>\n",
       "      <td>4</td>\n",
       "    </tr>\n",
       "    <tr>\n",
       "      <td>3</td>\n",
       "      <td>0</td>\n",
       "      <td>1</td>\n",
       "      <td>Allison, Miss. Helen Loraine</td>\n",
       "      <td>1</td>\n",
       "      <td>2.0000</td>\n",
       "      <td>1</td>\n",
       "      <td>1</td>\n",
       "      <td>2</td>\n",
       "      <td>113781</td>\n",
       "      <td>151.5500</td>\n",
       "      <td>Southampton</td>\n",
       "      <td>2</td>\n",
       "    </tr>\n",
       "    <tr>\n",
       "      <td>4</td>\n",
       "      <td>0</td>\n",
       "      <td>1</td>\n",
       "      <td>Allison, Mr. Hudson Joshua Creighton</td>\n",
       "      <td>0</td>\n",
       "      <td>30.0000</td>\n",
       "      <td>3</td>\n",
       "      <td>1</td>\n",
       "      <td>2</td>\n",
       "      <td>113781</td>\n",
       "      <td>151.5500</td>\n",
       "      <td>Southampton</td>\n",
       "      <td>1</td>\n",
       "    </tr>\n",
       "    <tr>\n",
       "      <td>5</td>\n",
       "      <td>0</td>\n",
       "      <td>1</td>\n",
       "      <td>Allison, Mrs. Hudson J C (Bessie Waldo Daniels)</td>\n",
       "      <td>1</td>\n",
       "      <td>25.0000</td>\n",
       "      <td>3</td>\n",
       "      <td>1</td>\n",
       "      <td>2</td>\n",
       "      <td>113781</td>\n",
       "      <td>151.5500</td>\n",
       "      <td>Southampton</td>\n",
       "      <td>3</td>\n",
       "    </tr>\n",
       "  </tbody>\n",
       "</table>\n",
       "</div>"
      ],
      "text/plain": [
       "   Survived  Passenger Class                                             Name  \\\n",
       "1         1                1                    Allen, Miss. Elisabeth Walton   \n",
       "2         1                1                   Allison, Master. Hudson Trevor   \n",
       "3         0                1                     Allison, Miss. Helen Loraine   \n",
       "4         0                1             Allison, Mr. Hudson Joshua Creighton   \n",
       "5         0                1  Allison, Mrs. Hudson J C (Bessie Waldo Daniels)   \n",
       "\n",
       "   Gender      Age  Age Group  No of Siblings or Spouses on Board  \\\n",
       "1       1  29.0000          3                                   0   \n",
       "2       0   0.9167          1                                   1   \n",
       "3       1   2.0000          1                                   1   \n",
       "4       0  30.0000          3                                   1   \n",
       "5       1  25.0000          3                                   1   \n",
       "\n",
       "   No of Parents or Children on Board Ticket Number  Passenger Fare  \\\n",
       "1                                   0         24160        211.3375   \n",
       "2                                   2        113781        151.5500   \n",
       "3                                   2        113781        151.5500   \n",
       "4                                   2        113781        151.5500   \n",
       "5                                   2        113781        151.5500   \n",
       "\n",
       "  Port of Embarkation  Title  \n",
       "1         Southampton      2  \n",
       "2         Southampton      4  \n",
       "3         Southampton      2  \n",
       "4         Southampton      1  \n",
       "5         Southampton      3  "
      ]
     },
     "execution_count": 23,
     "metadata": {},
     "output_type": "execute_result"
    }
   ],
   "source": [
    "df.head()"
   ]
  },
  {
   "cell_type": "code",
   "execution_count": 24,
   "metadata": {},
   "outputs": [
    {
     "data": {
      "text/html": [
       "<div>\n",
       "<style scoped>\n",
       "    .dataframe tbody tr th:only-of-type {\n",
       "        vertical-align: middle;\n",
       "    }\n",
       "\n",
       "    .dataframe tbody tr th {\n",
       "        vertical-align: top;\n",
       "    }\n",
       "\n",
       "    .dataframe thead th {\n",
       "        text-align: right;\n",
       "    }\n",
       "</style>\n",
       "<table border=\"1\" class=\"dataframe\">\n",
       "  <thead>\n",
       "    <tr style=\"text-align: right;\">\n",
       "      <th></th>\n",
       "      <th>Survived</th>\n",
       "      <th>Passenger Class</th>\n",
       "      <th>Gender</th>\n",
       "      <th>Age</th>\n",
       "      <th>Age Group</th>\n",
       "      <th>No of Siblings or Spouses on Board</th>\n",
       "      <th>No of Parents or Children on Board</th>\n",
       "      <th>Passenger Fare</th>\n",
       "      <th>Title</th>\n",
       "    </tr>\n",
       "  </thead>\n",
       "  <tbody>\n",
       "    <tr>\n",
       "      <td>Survived</td>\n",
       "      <td>1.000000</td>\n",
       "      <td>-0.317737</td>\n",
       "      <td>0.536332</td>\n",
       "      <td>-0.057416</td>\n",
       "      <td>-0.112768</td>\n",
       "      <td>-0.011403</td>\n",
       "      <td>0.115436</td>\n",
       "      <td>0.247858</td>\n",
       "      <td>0.394949</td>\n",
       "    </tr>\n",
       "    <tr>\n",
       "      <td>Passenger Class</td>\n",
       "      <td>-0.317737</td>\n",
       "      <td>1.000000</td>\n",
       "      <td>-0.141032</td>\n",
       "      <td>-0.409082</td>\n",
       "      <td>-0.186759</td>\n",
       "      <td>0.046333</td>\n",
       "      <td>0.016342</td>\n",
       "      <td>-0.564558</td>\n",
       "      <td>-0.156936</td>\n",
       "    </tr>\n",
       "    <tr>\n",
       "      <td>Gender</td>\n",
       "      <td>0.536332</td>\n",
       "      <td>-0.141032</td>\n",
       "      <td>1.000000</td>\n",
       "      <td>-0.066007</td>\n",
       "      <td>-0.088257</td>\n",
       "      <td>0.096464</td>\n",
       "      <td>0.222531</td>\n",
       "      <td>0.186400</td>\n",
       "      <td>0.486663</td>\n",
       "    </tr>\n",
       "    <tr>\n",
       "      <td>Age</td>\n",
       "      <td>-0.057416</td>\n",
       "      <td>-0.409082</td>\n",
       "      <td>-0.066007</td>\n",
       "      <td>1.000000</td>\n",
       "      <td>0.643176</td>\n",
       "      <td>-0.242345</td>\n",
       "      <td>-0.149311</td>\n",
       "      <td>0.177205</td>\n",
       "      <td>-0.088187</td>\n",
       "    </tr>\n",
       "    <tr>\n",
       "      <td>Age Group</td>\n",
       "      <td>-0.112768</td>\n",
       "      <td>-0.186759</td>\n",
       "      <td>-0.088257</td>\n",
       "      <td>0.643176</td>\n",
       "      <td>1.000000</td>\n",
       "      <td>-0.376262</td>\n",
       "      <td>-0.321477</td>\n",
       "      <td>0.040867</td>\n",
       "      <td>-0.296628</td>\n",
       "    </tr>\n",
       "    <tr>\n",
       "      <td>No of Siblings or Spouses on Board</td>\n",
       "      <td>-0.011403</td>\n",
       "      <td>0.046333</td>\n",
       "      <td>0.096464</td>\n",
       "      <td>-0.242345</td>\n",
       "      <td>-0.376262</td>\n",
       "      <td>1.000000</td>\n",
       "      <td>0.373960</td>\n",
       "      <td>0.142131</td>\n",
       "      <td>0.302026</td>\n",
       "    </tr>\n",
       "    <tr>\n",
       "      <td>No of Parents or Children on Board</td>\n",
       "      <td>0.115436</td>\n",
       "      <td>0.016342</td>\n",
       "      <td>0.222531</td>\n",
       "      <td>-0.149311</td>\n",
       "      <td>-0.321477</td>\n",
       "      <td>0.373960</td>\n",
       "      <td>1.000000</td>\n",
       "      <td>0.217650</td>\n",
       "      <td>0.307252</td>\n",
       "    </tr>\n",
       "    <tr>\n",
       "      <td>Passenger Fare</td>\n",
       "      <td>0.247858</td>\n",
       "      <td>-0.564558</td>\n",
       "      <td>0.186400</td>\n",
       "      <td>0.177205</td>\n",
       "      <td>0.040867</td>\n",
       "      <td>0.142131</td>\n",
       "      <td>0.217650</td>\n",
       "      <td>1.000000</td>\n",
       "      <td>0.146448</td>\n",
       "    </tr>\n",
       "    <tr>\n",
       "      <td>Title</td>\n",
       "      <td>0.394949</td>\n",
       "      <td>-0.156936</td>\n",
       "      <td>0.486663</td>\n",
       "      <td>-0.088187</td>\n",
       "      <td>-0.296628</td>\n",
       "      <td>0.302026</td>\n",
       "      <td>0.307252</td>\n",
       "      <td>0.146448</td>\n",
       "      <td>1.000000</td>\n",
       "    </tr>\n",
       "  </tbody>\n",
       "</table>\n",
       "</div>"
      ],
      "text/plain": [
       "                                    Survived  Passenger Class    Gender  \\\n",
       "Survived                            1.000000        -0.317737  0.536332   \n",
       "Passenger Class                    -0.317737         1.000000 -0.141032   \n",
       "Gender                              0.536332        -0.141032  1.000000   \n",
       "Age                                -0.057416        -0.409082 -0.066007   \n",
       "Age Group                          -0.112768        -0.186759 -0.088257   \n",
       "No of Siblings or Spouses on Board -0.011403         0.046333  0.096464   \n",
       "No of Parents or Children on Board  0.115436         0.016342  0.222531   \n",
       "Passenger Fare                      0.247858        -0.564558  0.186400   \n",
       "Title                               0.394949        -0.156936  0.486663   \n",
       "\n",
       "                                         Age  Age Group  \\\n",
       "Survived                           -0.057416  -0.112768   \n",
       "Passenger Class                    -0.409082  -0.186759   \n",
       "Gender                             -0.066007  -0.088257   \n",
       "Age                                 1.000000   0.643176   \n",
       "Age Group                           0.643176   1.000000   \n",
       "No of Siblings or Spouses on Board -0.242345  -0.376262   \n",
       "No of Parents or Children on Board -0.149311  -0.321477   \n",
       "Passenger Fare                      0.177205   0.040867   \n",
       "Title                              -0.088187  -0.296628   \n",
       "\n",
       "                                    No of Siblings or Spouses on Board  \\\n",
       "Survived                                                     -0.011403   \n",
       "Passenger Class                                               0.046333   \n",
       "Gender                                                        0.096464   \n",
       "Age                                                          -0.242345   \n",
       "Age Group                                                    -0.376262   \n",
       "No of Siblings or Spouses on Board                            1.000000   \n",
       "No of Parents or Children on Board                            0.373960   \n",
       "Passenger Fare                                                0.142131   \n",
       "Title                                                         0.302026   \n",
       "\n",
       "                                    No of Parents or Children on Board  \\\n",
       "Survived                                                      0.115436   \n",
       "Passenger Class                                               0.016342   \n",
       "Gender                                                        0.222531   \n",
       "Age                                                          -0.149311   \n",
       "Age Group                                                    -0.321477   \n",
       "No of Siblings or Spouses on Board                            0.373960   \n",
       "No of Parents or Children on Board                            1.000000   \n",
       "Passenger Fare                                                0.217650   \n",
       "Title                                                         0.307252   \n",
       "\n",
       "                                    Passenger Fare     Title  \n",
       "Survived                                  0.247858  0.394949  \n",
       "Passenger Class                          -0.564558 -0.156936  \n",
       "Gender                                    0.186400  0.486663  \n",
       "Age                                       0.177205 -0.088187  \n",
       "Age Group                                 0.040867 -0.296628  \n",
       "No of Siblings or Spouses on Board        0.142131  0.302026  \n",
       "No of Parents or Children on Board        0.217650  0.307252  \n",
       "Passenger Fare                            1.000000  0.146448  \n",
       "Title                                     0.146448  1.000000  "
      ]
     },
     "execution_count": 24,
     "metadata": {},
     "output_type": "execute_result"
    }
   ],
   "source": [
    "df.corr()"
   ]
  },
  {
   "cell_type": "markdown",
   "metadata": {},
   "source": [
    "#### Dropping Some (More) Variables "
   ]
  },
  {
   "cell_type": "markdown",
   "metadata": {},
   "source": [
    " I decided to drop my variables as they may not benefict in our model. \n",
    "- **Age** is dropped as we already have a new column called 'Age Group'\n",
    "- **Ticket Number** is dropped because there are already duplicate values within such column therefore it will affect our prediction accuracy. (Ticket Number is also act as an identifier therefore we cannot predict our model based on such field). \n",
    "- **Passenger Fare** is dropped because it is correlated to Ticket Number therefore we can drop such variable. \n",
    "- **Port of Embarkation** is dropped because the port of embarkation will NOT affect the survival of the passengers. \n",
    "- The **Name** of the passengers is also removed due to the creation of the new column **Title**."
   ]
  },
  {
   "cell_type": "code",
   "execution_count": 25,
   "metadata": {
    "scrolled": false
   },
   "outputs": [
    {
     "data": {
      "text/html": [
       "<div>\n",
       "<style scoped>\n",
       "    .dataframe tbody tr th:only-of-type {\n",
       "        vertical-align: middle;\n",
       "    }\n",
       "\n",
       "    .dataframe tbody tr th {\n",
       "        vertical-align: top;\n",
       "    }\n",
       "\n",
       "    .dataframe thead th {\n",
       "        text-align: right;\n",
       "    }\n",
       "</style>\n",
       "<table border=\"1\" class=\"dataframe\">\n",
       "  <thead>\n",
       "    <tr style=\"text-align: right;\">\n",
       "      <th></th>\n",
       "      <th>Survived</th>\n",
       "      <th>Passenger Class</th>\n",
       "      <th>Gender</th>\n",
       "      <th>Age Group</th>\n",
       "      <th>No of Siblings or Spouses on Board</th>\n",
       "      <th>No of Parents or Children on Board</th>\n",
       "      <th>Title</th>\n",
       "    </tr>\n",
       "  </thead>\n",
       "  <tbody>\n",
       "    <tr>\n",
       "      <td>1</td>\n",
       "      <td>1</td>\n",
       "      <td>1</td>\n",
       "      <td>1</td>\n",
       "      <td>3</td>\n",
       "      <td>0</td>\n",
       "      <td>0</td>\n",
       "      <td>2</td>\n",
       "    </tr>\n",
       "    <tr>\n",
       "      <td>2</td>\n",
       "      <td>1</td>\n",
       "      <td>1</td>\n",
       "      <td>0</td>\n",
       "      <td>1</td>\n",
       "      <td>1</td>\n",
       "      <td>2</td>\n",
       "      <td>4</td>\n",
       "    </tr>\n",
       "    <tr>\n",
       "      <td>3</td>\n",
       "      <td>0</td>\n",
       "      <td>1</td>\n",
       "      <td>1</td>\n",
       "      <td>1</td>\n",
       "      <td>1</td>\n",
       "      <td>2</td>\n",
       "      <td>2</td>\n",
       "    </tr>\n",
       "    <tr>\n",
       "      <td>4</td>\n",
       "      <td>0</td>\n",
       "      <td>1</td>\n",
       "      <td>0</td>\n",
       "      <td>3</td>\n",
       "      <td>1</td>\n",
       "      <td>2</td>\n",
       "      <td>1</td>\n",
       "    </tr>\n",
       "    <tr>\n",
       "      <td>5</td>\n",
       "      <td>0</td>\n",
       "      <td>1</td>\n",
       "      <td>1</td>\n",
       "      <td>3</td>\n",
       "      <td>1</td>\n",
       "      <td>2</td>\n",
       "      <td>3</td>\n",
       "    </tr>\n",
       "  </tbody>\n",
       "</table>\n",
       "</div>"
      ],
      "text/plain": [
       "   Survived  Passenger Class  Gender  Age Group  \\\n",
       "1         1                1       1          3   \n",
       "2         1                1       0          1   \n",
       "3         0                1       1          1   \n",
       "4         0                1       0          3   \n",
       "5         0                1       1          3   \n",
       "\n",
       "   No of Siblings or Spouses on Board  No of Parents or Children on Board  \\\n",
       "1                                   0                                   0   \n",
       "2                                   1                                   2   \n",
       "3                                   1                                   2   \n",
       "4                                   1                                   2   \n",
       "5                                   1                                   2   \n",
       "\n",
       "   Title  \n",
       "1      2  \n",
       "2      4  \n",
       "3      2  \n",
       "4      1  \n",
       "5      3  "
      ]
     },
     "execution_count": 25,
     "metadata": {},
     "output_type": "execute_result"
    }
   ],
   "source": [
    "df.drop(['Age'], axis = 1, inplace = True) \n",
    "df.drop(['Ticket Number'], axis = 1, inplace = True) \n",
    "df.drop(['Passenger Fare'], axis = 1, inplace = True) \n",
    "df.drop(['Port of Embarkation'], axis = 1, inplace = True) \n",
    "df.drop(['Name'], axis = 1, inplace = True) \n",
    "df.head()"
   ]
  },
  {
   "cell_type": "markdown",
   "metadata": {},
   "source": [
    "- I have decided to conduct a correlation analysis before conducting any data analysis.  "
   ]
  },
  {
   "cell_type": "code",
   "execution_count": 26,
   "metadata": {},
   "outputs": [
    {
     "data": {
      "text/html": [
       "<div>\n",
       "<style scoped>\n",
       "    .dataframe tbody tr th:only-of-type {\n",
       "        vertical-align: middle;\n",
       "    }\n",
       "\n",
       "    .dataframe tbody tr th {\n",
       "        vertical-align: top;\n",
       "    }\n",
       "\n",
       "    .dataframe thead th {\n",
       "        text-align: right;\n",
       "    }\n",
       "</style>\n",
       "<table border=\"1\" class=\"dataframe\">\n",
       "  <thead>\n",
       "    <tr style=\"text-align: right;\">\n",
       "      <th></th>\n",
       "      <th>Survived</th>\n",
       "      <th>Passenger Class</th>\n",
       "      <th>Gender</th>\n",
       "      <th>Age Group</th>\n",
       "      <th>No of Siblings or Spouses on Board</th>\n",
       "      <th>No of Parents or Children on Board</th>\n",
       "      <th>Title</th>\n",
       "    </tr>\n",
       "  </thead>\n",
       "  <tbody>\n",
       "    <tr>\n",
       "      <td>Survived</td>\n",
       "      <td>1.000000</td>\n",
       "      <td>-0.317737</td>\n",
       "      <td>0.536332</td>\n",
       "      <td>-0.112768</td>\n",
       "      <td>-0.011403</td>\n",
       "      <td>0.115436</td>\n",
       "      <td>0.394949</td>\n",
       "    </tr>\n",
       "    <tr>\n",
       "      <td>Passenger Class</td>\n",
       "      <td>-0.317737</td>\n",
       "      <td>1.000000</td>\n",
       "      <td>-0.141032</td>\n",
       "      <td>-0.186759</td>\n",
       "      <td>0.046333</td>\n",
       "      <td>0.016342</td>\n",
       "      <td>-0.156936</td>\n",
       "    </tr>\n",
       "    <tr>\n",
       "      <td>Gender</td>\n",
       "      <td>0.536332</td>\n",
       "      <td>-0.141032</td>\n",
       "      <td>1.000000</td>\n",
       "      <td>-0.088257</td>\n",
       "      <td>0.096464</td>\n",
       "      <td>0.222531</td>\n",
       "      <td>0.486663</td>\n",
       "    </tr>\n",
       "    <tr>\n",
       "      <td>Age Group</td>\n",
       "      <td>-0.112768</td>\n",
       "      <td>-0.186759</td>\n",
       "      <td>-0.088257</td>\n",
       "      <td>1.000000</td>\n",
       "      <td>-0.376262</td>\n",
       "      <td>-0.321477</td>\n",
       "      <td>-0.296628</td>\n",
       "    </tr>\n",
       "    <tr>\n",
       "      <td>No of Siblings or Spouses on Board</td>\n",
       "      <td>-0.011403</td>\n",
       "      <td>0.046333</td>\n",
       "      <td>0.096464</td>\n",
       "      <td>-0.376262</td>\n",
       "      <td>1.000000</td>\n",
       "      <td>0.373960</td>\n",
       "      <td>0.302026</td>\n",
       "    </tr>\n",
       "    <tr>\n",
       "      <td>No of Parents or Children on Board</td>\n",
       "      <td>0.115436</td>\n",
       "      <td>0.016342</td>\n",
       "      <td>0.222531</td>\n",
       "      <td>-0.321477</td>\n",
       "      <td>0.373960</td>\n",
       "      <td>1.000000</td>\n",
       "      <td>0.307252</td>\n",
       "    </tr>\n",
       "    <tr>\n",
       "      <td>Title</td>\n",
       "      <td>0.394949</td>\n",
       "      <td>-0.156936</td>\n",
       "      <td>0.486663</td>\n",
       "      <td>-0.296628</td>\n",
       "      <td>0.302026</td>\n",
       "      <td>0.307252</td>\n",
       "      <td>1.000000</td>\n",
       "    </tr>\n",
       "  </tbody>\n",
       "</table>\n",
       "</div>"
      ],
      "text/plain": [
       "                                    Survived  Passenger Class    Gender  \\\n",
       "Survived                            1.000000        -0.317737  0.536332   \n",
       "Passenger Class                    -0.317737         1.000000 -0.141032   \n",
       "Gender                              0.536332        -0.141032  1.000000   \n",
       "Age Group                          -0.112768        -0.186759 -0.088257   \n",
       "No of Siblings or Spouses on Board -0.011403         0.046333  0.096464   \n",
       "No of Parents or Children on Board  0.115436         0.016342  0.222531   \n",
       "Title                               0.394949        -0.156936  0.486663   \n",
       "\n",
       "                                    Age Group  \\\n",
       "Survived                            -0.112768   \n",
       "Passenger Class                     -0.186759   \n",
       "Gender                              -0.088257   \n",
       "Age Group                            1.000000   \n",
       "No of Siblings or Spouses on Board  -0.376262   \n",
       "No of Parents or Children on Board  -0.321477   \n",
       "Title                               -0.296628   \n",
       "\n",
       "                                    No of Siblings or Spouses on Board  \\\n",
       "Survived                                                     -0.011403   \n",
       "Passenger Class                                               0.046333   \n",
       "Gender                                                        0.096464   \n",
       "Age Group                                                    -0.376262   \n",
       "No of Siblings or Spouses on Board                            1.000000   \n",
       "No of Parents or Children on Board                            0.373960   \n",
       "Title                                                         0.302026   \n",
       "\n",
       "                                    No of Parents or Children on Board  \\\n",
       "Survived                                                      0.115436   \n",
       "Passenger Class                                               0.016342   \n",
       "Gender                                                        0.222531   \n",
       "Age Group                                                    -0.321477   \n",
       "No of Siblings or Spouses on Board                            0.373960   \n",
       "No of Parents or Children on Board                            1.000000   \n",
       "Title                                                         0.307252   \n",
       "\n",
       "                                       Title  \n",
       "Survived                            0.394949  \n",
       "Passenger Class                    -0.156936  \n",
       "Gender                              0.486663  \n",
       "Age Group                          -0.296628  \n",
       "No of Siblings or Spouses on Board  0.302026  \n",
       "No of Parents or Children on Board  0.307252  \n",
       "Title                               1.000000  "
      ]
     },
     "execution_count": 26,
     "metadata": {},
     "output_type": "execute_result"
    }
   ],
   "source": [
    "df.corr()"
   ]
  },
  {
   "cell_type": "markdown",
   "metadata": {},
   "source": [
    "#### Data Modelling "
   ]
  },
  {
   "cell_type": "markdown",
   "metadata": {},
   "source": [
    "#### 1) Logistic Regression\n",
    "\n",
    "What is **Logistic Regression**?\n",
    "\n",
    "**Logistic regression** is a type of model of probablistic statistical classification. It is used as a binary model to predict binary response (in this case, it is predicting whether the passenger of the Titanic or not), the outcome of a categorical variable (i.e. class label), based on one or more variables.\n",
    "\n",
    "I have decided to split the dataset into - **80% Training Data and 20% Test Data**. *Note: If we split the data differently, we will create different results. "
   ]
  },
  {
   "cell_type": "code",
   "execution_count": 27,
   "metadata": {},
   "outputs": [
    {
     "name": "stdout",
     "output_type": "stream",
     "text": [
      "(834, 7)\n",
      "(209, 7)\n"
     ]
    },
    {
     "name": "stderr",
     "output_type": "stream",
     "text": [
      "D:\\Anaconda 3\\lib\\site-packages\\sklearn\\linear_model\\logistic.py:432: FutureWarning: Default solver will be changed to 'lbfgs' in 0.22. Specify a solver to silence this warning.\n",
      "  FutureWarning)\n"
     ]
    },
    {
     "data": {
      "text/plain": [
       "LogisticRegression(C=1.0, class_weight=None, dual=False, fit_intercept=True,\n",
       "                   intercept_scaling=1, l1_ratio=None, max_iter=100,\n",
       "                   multi_class='warn', n_jobs=None, penalty='l2',\n",
       "                   random_state=None, solver='warn', tol=0.0001, verbose=0,\n",
       "                   warm_start=False)"
      ]
     },
     "execution_count": 27,
     "metadata": {},
     "output_type": "execute_result"
    }
   ],
   "source": [
    "train, test = train_test_split(df, test_size=0.2, random_state=0)\n",
    "print(train.shape)\n",
    "print(test.shape)\n",
    "y = df['Survived']\n",
    "x = df.drop(['Survived'], axis = 1)\n",
    "x_train, x_test, y_train, y_test = train_test_split(x, y, test_size = 0.2, random_state = 0)\n",
    "logreg = linear_model.LogisticRegression()\n",
    "logreg.fit(x_train, y_train)"
   ]
  },
  {
   "cell_type": "markdown",
   "metadata": {},
   "source": [
    "Generate a confusion matrix and compute the accuracy score by using the **Logistic Regression** metric. "
   ]
  },
  {
   "cell_type": "code",
   "execution_count": 28,
   "metadata": {},
   "outputs": [
    {
     "name": "stdout",
     "output_type": "stream",
     "text": [
      "Accuracy score = 0.7990430622009569\n",
      "Confusion Matrix = \n",
      " [[105  21]\n",
      " [ 21  62]]\n"
     ]
    }
   ],
   "source": [
    "y_pred = logreg.predict(x_test)\n",
    "from sklearn.metrics import accuracy_score\n",
    "print (\"Accuracy score =\", accuracy_score(y_test, y_pred))\n",
    "\n",
    "from sklearn.metrics import confusion_matrix \n",
    "print(\"Confusion Matrix = \\n\", confusion_matrix(y_test, y_pred))"
   ]
  },
  {
   "cell_type": "markdown",
   "metadata": {},
   "source": [
    "Generate the classification report by using the **Logistic Regression** metric.  "
   ]
  },
  {
   "cell_type": "code",
   "execution_count": 29,
   "metadata": {},
   "outputs": [
    {
     "name": "stdout",
     "output_type": "stream",
     "text": [
      "              precision    recall  f1-score   support\n",
      "\n",
      "           0       0.83      0.83      0.83       126\n",
      "           1       0.75      0.75      0.75        83\n",
      "\n",
      "    accuracy                           0.80       209\n",
      "   macro avg       0.79      0.79      0.79       209\n",
      "weighted avg       0.80      0.80      0.80       209\n",
      "\n"
     ]
    }
   ],
   "source": [
    "from sklearn.metrics import classification_report\n",
    "print(classification_report(y_test, y_pred))"
   ]
  },
  {
   "cell_type": "markdown",
   "metadata": {},
   "source": [
    "#### 2) Decision Tree\n",
    "What is **Decsion Tree**?\n",
    "\n",
    "**Decsion Tree** is a type of supervised learning (Algorithm which learn from a training set of labeled example to generalise to the sert of all possible inputs) algorithm where the data is continuously split according to a certain parameter.\n",
    "\n"
   ]
  },
  {
   "cell_type": "code",
   "execution_count": 30,
   "metadata": {},
   "outputs": [
    {
     "name": "stdout",
     "output_type": "stream",
     "text": [
      "Decision Tree Train Accuracy: 0.8381294964028777\n",
      "Decision Tree Test Accuracy: 0.7894736842105263\n"
     ]
    }
   ],
   "source": [
    "titanic_tree = DecisionTreeClassifier(random_state=0)\n",
    "\n",
    "titanic_tree .fit(x_train, y_train)\n",
    "\n",
    "y_train_predict = titanic_tree.predict(x_train)\n",
    "y_test_predict = titanic_tree.predict(x_test)\n",
    "\n",
    "print(\"Decision Tree Train Accuracy:\", accuracy_score(y_train_predict, y_train))\n",
    "print(\"Decision Tree Test Accuracy:\", accuracy_score(y_test_predict, y_test))"
   ]
  },
  {
   "cell_type": "markdown",
   "metadata": {},
   "source": [
    "#### 3) Random Forest\n",
    "**Random Forest** \n",
    "\n",
    "What is **Random Forest**\n",
    "**Random Forest** is a supervising learning algorithm - which essentially build upon decision trees. Rather than simply averaging the prediction of tress (which we can called a forest), random sampling of training data points when building trees as well as random subsets of features considered when splitting nodes."
   ]
  },
  {
   "cell_type": "code",
   "execution_count": 31,
   "metadata": {},
   "outputs": [
    {
     "name": "stdout",
     "output_type": "stream",
     "text": [
      "79.9\n"
     ]
    },
    {
     "name": "stderr",
     "output_type": "stream",
     "text": [
      "D:\\Anaconda 3\\lib\\site-packages\\sklearn\\ensemble\\forest.py:245: FutureWarning: The default value of n_estimators will change from 10 in version 0.20 to 100 in 0.22.\n",
      "  \"10 in version 0.20 to 100 in 0.22.\", FutureWarning)\n"
     ]
    }
   ],
   "source": [
    "from sklearn.ensemble import RandomForestClassifier\n",
    "\n",
    "randomforest = RandomForestClassifier(random_state=0)\n",
    "randomforest.fit(x_train, y_train)\n",
    "y_pred = randomforest.predict(x_test)\n",
    "acc_randomforest = round(accuracy_score(y_pred, y_test) * 100, 2)\n",
    "print(acc_randomforest)"
   ]
  },
  {
   "cell_type": "code",
   "execution_count": 32,
   "metadata": {},
   "outputs": [
    {
     "name": "stdout",
     "output_type": "stream",
     "text": [
      "81.82\n"
     ]
    }
   ],
   "source": [
    "# KNN or k-Nearest Neighbors\n",
    "from sklearn.neighbors import KNeighborsClassifier\n",
    "\n",
    "knn = KNeighborsClassifier()\n",
    "knn.fit(x_train, y_train)\n",
    "y_pred = knn.predict(x_test)\n",
    "acc_knn = round(accuracy_score(y_pred, y_test) * 100, 2)\n",
    "print(acc_knn)"
   ]
  },
  {
   "cell_type": "code",
   "execution_count": 33,
   "metadata": {},
   "outputs": [
    {
     "name": "stdout",
     "output_type": "stream",
     "text": [
      "80.38\n"
     ]
    }
   ],
   "source": [
    "# Gaussian Naive Bayes\n",
    "from sklearn.naive_bayes import GaussianNB\n",
    "from sklearn.metrics import accuracy_score\n",
    "\n",
    "gaussian = GaussianNB()\n",
    "gaussian.fit(x_train, y_train)\n",
    "y_pred = gaussian.predict(x_test)\n",
    "acc_gaussian = round(accuracy_score(y_pred, y_test) * 100, 2)\n",
    "print(acc_gaussian)"
   ]
  },
  {
   "cell_type": "code",
   "execution_count": null,
   "metadata": {},
   "outputs": [],
   "source": []
  }
 ],
 "metadata": {
  "kernelspec": {
   "display_name": "Python 3",
   "language": "python",
   "name": "python3"
  },
  "language_info": {
   "codemirror_mode": {
    "name": "ipython",
    "version": 3
   },
   "file_extension": ".py",
   "mimetype": "text/x-python",
   "name": "python",
   "nbconvert_exporter": "python",
   "pygments_lexer": "ipython3",
   "version": "3.7.4"
  }
 },
 "nbformat": 4,
 "nbformat_minor": 2
}
