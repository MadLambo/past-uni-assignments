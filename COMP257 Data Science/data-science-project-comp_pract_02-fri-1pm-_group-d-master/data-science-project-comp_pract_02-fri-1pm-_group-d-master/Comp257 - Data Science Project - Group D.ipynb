{
 "cells": [
  {
   "cell_type": "markdown",
   "metadata": {},
   "source": [
    "# COMP257 - Data Science Project\n",
    "##### Friday 1pm Group D  #####\n",
    "\n",
    "## Predicting Formula 1 Drivers Salary based on pervious years performance\n",
    "\n",
    "### Project Summary\n",
    "\n",
    "<img src=\"https://upload.wikimedia.org/wikipedia/commons/thumb/3/33/F1.svg/799px-F1.svg.png\" width=800 />\n",
    "\n",
    "Formula 1 also know as F1, is one of the most elite sports in the world. The first F1 season was held in 1950 which means the sport has a legacy of over half a century. In 1950 there were a total of 7 races that made up the season and now in 21 the competition has expanded globally to 21 races.\n",
    "\n",
    "We will be closely monitoring how factors such as driver age, number of world championships, pole positions and race wins will ultimately affect the drivers salary in the coming year.\n",
    "\n",
    "### Project Goal\n",
    "- Find race factors that most impact a drivers salary.\n",
    "- Model previous F1 driver salaries.\n",
    "- Predict 2019 driver salaries based on drivers' previous performance.\n",
    "\n",
    "### Data Sources Summary\n",
    "#### Driver Salary Data\n",
    "Our data has been collected from various sources including outlets such as Forbes, the BBC, Crash.net (one of the oldest motorsport website in the world) and other sources. Most annual wages are estimated as drivers will received a higher bonus – if they perform above expectations.\n",
    "\n",
    "#### Ergast Developer API\n",
    "> The Ergast Developer API is an experimental web service which provides a historical record of motor racing data for non-commercial purposes.\n",
    "\n",
    "> The API provides data for the Formula One series, from the beginning of the world championships in 1950.\n",
    "\n",
    "*[Ergast Developer API](http://ergast.com/mrd/?fbclid=IwAR1giD7DxhujDLdjom8lL1WDPRCjpK2LVBegBVZ8NldsKuaTjnY1ndtZI_I)*\n",
    "\n",
    "We will be using this data as our main source for each drivers season and race data to compare against their salaries for each season. The website also provides a direct dump of the data in CSV or MySQL format. We will be downloading this data as a CSV and then using pandas to transform it into a format we like.\n",
    "\n",
    "### Data Manipulation Processes\n",
    "#### Ergast Data Manipulation\n",
    "As this data came as a database in CSV format that was heavily normalised, it needed to be transformed into a format where it was more accessible and usable for us.\n",
    "\n",
    "To start I had to filter the data down so that we only had the 2013-2018 relevant data, This was done by:\n",
    "1. filtering down to the races that happened in this time period.\n",
    "2. Finding the results, lap times, pit stops, etc for those races.\n",
    "3. Finding the drivers and constructors that competed in those races from the results of those races.\n",
    "4. Finding which circuits *(tracks)* that those races took place on.\n",
    "\n",
    "We will then need to match the data from the Ergast DB to our salary data that we have scraped from various websites, this will be done by matching the salary data onto the driverId's provided by Ergast.\n",
    "\n",
    "Finally once we have the data we need, we can use it to get a range of predictors and features about each driver and their performance through the years.\n",
    "\n",
    "*If you would like to see this process check out [Data Manipulation Process.ipynb](https://github.com/MQCOMP257/data-science-project-comp_pract_02-fri-1pm-_group-d/blob/master/Data%20Manipulation%20Process.ipynb)*\n",
    "\n",
    "\n",
    "\n",
    "### Data Analysis Techniques\n",
    "- Exploratary Data Analysis (EDA)\n",
    "- Correlation Matrix\n",
    "- Recursive Feature Elimination\n",
    "- Linear and multiple regression\n",
    "- Kmeans Clustering\n",
    "- K Nearest Neighbor\n",
    "\n"
   ]
  },
  {
   "cell_type": "markdown",
   "metadata": {},
   "source": [
    "## Exploratary Data Analysis (EDA)"
   ]
  },
  {
   "cell_type": "code",
   "execution_count": 1,
   "metadata": {},
   "outputs": [],
   "source": [
    "# import all necessary libraries\n",
    "import pandas as pd\n",
    "from matplotlib import pyplot as plt\n",
    "%matplotlib inline\n",
    "import seaborn as sns\n",
    "import numpy as np"
   ]
  },
  {
   "cell_type": "markdown",
   "metadata": {},
   "source": [
    "### Load the data"
   ]
  },
  {
   "cell_type": "code",
   "execution_count": 2,
   "metadata": {
    "scrolled": false
   },
   "outputs": [
    {
     "data": {
      "text/html": [
       "<div>\n",
       "<style scoped>\n",
       "    .dataframe tbody tr th:only-of-type {\n",
       "        vertical-align: middle;\n",
       "    }\n",
       "\n",
       "    .dataframe tbody tr th {\n",
       "        vertical-align: top;\n",
       "    }\n",
       "\n",
       "    .dataframe thead th {\n",
       "        text-align: right;\n",
       "    }\n",
       "</style>\n",
       "<table border=\"1\" class=\"dataframe\">\n",
       "  <thead>\n",
       "    <tr style=\"text-align: right;\">\n",
       "      <th></th>\n",
       "      <th>Driver Name</th>\n",
       "      <th>Salary</th>\n",
       "      <th>Team</th>\n",
       "      <th>Driver Status</th>\n",
       "      <th>Age</th>\n",
       "      <th>Number of World Championships</th>\n",
       "      <th>Number of Pole Positions</th>\n",
       "      <th>Number of Race Wins</th>\n",
       "      <th>Number of Podiums</th>\n",
       "      <th>Number of DNF</th>\n",
       "      <th>Number of DSQ</th>\n",
       "      <th>Number of DNS</th>\n",
       "      <th>WD</th>\n",
       "      <th>Average Grid Position</th>\n",
       "      <th>Average Finish Position</th>\n",
       "      <th>Lead Lap Finish</th>\n",
       "      <th>Points</th>\n",
       "      <th>Number of Fastest Laps</th>\n",
       "      <th>Rookie Status</th>\n",
       "      <th>Pay Driver?</th>\n",
       "    </tr>\n",
       "  </thead>\n",
       "  <tbody>\n",
       "    <tr>\n",
       "      <th>0</th>\n",
       "      <td>Sebastian Vettel</td>\n",
       "      <td>60000000</td>\n",
       "      <td>Ferrari</td>\n",
       "      <td>0</td>\n",
       "      <td>31</td>\n",
       "      <td>4</td>\n",
       "      <td>5</td>\n",
       "      <td>5</td>\n",
       "      <td>12</td>\n",
       "      <td>1</td>\n",
       "      <td>0</td>\n",
       "      <td>0</td>\n",
       "      <td>0</td>\n",
       "      <td>2.9</td>\n",
       "      <td>3.9</td>\n",
       "      <td>20</td>\n",
       "      <td>320</td>\n",
       "      <td>3</td>\n",
       "      <td>0</td>\n",
       "      <td>0</td>\n",
       "    </tr>\n",
       "    <tr>\n",
       "      <th>1</th>\n",
       "      <td>Lewis Hamiton</td>\n",
       "      <td>50000000</td>\n",
       "      <td>Mercedes</td>\n",
       "      <td>0</td>\n",
       "      <td>33</td>\n",
       "      <td>4</td>\n",
       "      <td>11</td>\n",
       "      <td>11</td>\n",
       "      <td>17</td>\n",
       "      <td>1</td>\n",
       "      <td>0</td>\n",
       "      <td>0</td>\n",
       "      <td>0</td>\n",
       "      <td>2.7</td>\n",
       "      <td>2.6</td>\n",
       "      <td>20</td>\n",
       "      <td>408</td>\n",
       "      <td>3</td>\n",
       "      <td>0</td>\n",
       "      <td>0</td>\n",
       "    </tr>\n",
       "    <tr>\n",
       "      <th>2</th>\n",
       "      <td>Kimi Räikkönen</td>\n",
       "      <td>40000000</td>\n",
       "      <td>Ferrari</td>\n",
       "      <td>1</td>\n",
       "      <td>38</td>\n",
       "      <td>1</td>\n",
       "      <td>1</td>\n",
       "      <td>1</td>\n",
       "      <td>12</td>\n",
       "      <td>4</td>\n",
       "      <td>0</td>\n",
       "      <td>0</td>\n",
       "      <td>0</td>\n",
       "      <td>3.8</td>\n",
       "      <td>6.0</td>\n",
       "      <td>17</td>\n",
       "      <td>251</td>\n",
       "      <td>1</td>\n",
       "      <td>0</td>\n",
       "      <td>0</td>\n",
       "    </tr>\n",
       "    <tr>\n",
       "      <th>3</th>\n",
       "      <td>Fernando Alonso</td>\n",
       "      <td>30000000</td>\n",
       "      <td>McLaren F1 Team</td>\n",
       "      <td>0</td>\n",
       "      <td>37</td>\n",
       "      <td>2</td>\n",
       "      <td>0</td>\n",
       "      <td>0</td>\n",
       "      <td>0</td>\n",
       "      <td>8</td>\n",
       "      <td>0</td>\n",
       "      <td>0</td>\n",
       "      <td>0</td>\n",
       "      <td>13.2</td>\n",
       "      <td>12.8</td>\n",
       "      <td>5</td>\n",
       "      <td>50</td>\n",
       "      <td>0</td>\n",
       "      <td>0</td>\n",
       "      <td>0</td>\n",
       "    </tr>\n",
       "    <tr>\n",
       "      <th>4</th>\n",
       "      <td>Valtteri Bottas</td>\n",
       "      <td>12000000</td>\n",
       "      <td>Mercedes</td>\n",
       "      <td>1</td>\n",
       "      <td>29</td>\n",
       "      <td>0</td>\n",
       "      <td>2</td>\n",
       "      <td>0</td>\n",
       "      <td>8</td>\n",
       "      <td>2</td>\n",
       "      <td>0</td>\n",
       "      <td>0</td>\n",
       "      <td>0</td>\n",
       "      <td>4.0</td>\n",
       "      <td>5.1</td>\n",
       "      <td>18</td>\n",
       "      <td>247</td>\n",
       "      <td>7</td>\n",
       "      <td>0</td>\n",
       "      <td>0</td>\n",
       "    </tr>\n",
       "  </tbody>\n",
       "</table>\n",
       "</div>"
      ],
      "text/plain": [
       "       Driver Name     Salary             Team  Driver Status  Age  \\\n",
       "0  Sebastian Vettel  60000000          Ferrari              0   31   \n",
       "1    Lewis Hamiton   50000000         Mercedes              0   33   \n",
       "2    Kimi Räikkönen  40000000          Ferrari              1   38   \n",
       "3   Fernando Alonso  30000000  McLaren F1 Team              0   37   \n",
       "4   Valtteri Bottas  12000000         Mercedes              1   29   \n",
       "\n",
       "   Number of World Championships  Number of Pole Positions  \\\n",
       "0                              4                         5   \n",
       "1                              4                        11   \n",
       "2                              1                         1   \n",
       "3                              2                         0   \n",
       "4                              0                         2   \n",
       "\n",
       "   Number of Race Wins  Number of Podiums  Number of DNF  Number of DSQ  \\\n",
       "0                    5                 12              1              0   \n",
       "1                   11                 17              1              0   \n",
       "2                    1                 12              4              0   \n",
       "3                    0                  0              8              0   \n",
       "4                    0                  8              2              0   \n",
       "\n",
       "   Number of DNS  WD  Average Grid Position  Average Finish Position  \\\n",
       "0              0   0                    2.9                      3.9   \n",
       "1              0   0                    2.7                      2.6   \n",
       "2              0   0                    3.8                      6.0   \n",
       "3              0   0                   13.2                     12.8   \n",
       "4              0   0                    4.0                      5.1   \n",
       "\n",
       "   Lead Lap Finish  Points  Number of Fastest Laps  Rookie Status  Pay Driver?  \n",
       "0               20     320                       3              0            0  \n",
       "1               20     408                       3              0            0  \n",
       "2               17     251                       1              0            0  \n",
       "3                5      50                       0              0            0  \n",
       "4               18     247                       7              0            0  "
      ]
     },
     "execution_count": 2,
     "metadata": {},
     "output_type": "execute_result"
    }
   ],
   "source": [
    "data_2018 = pd.read_csv('data/2018_Data.csv', encoding='latin-1')\n",
    "data_2018.head()"
   ]
  },
  {
   "cell_type": "markdown",
   "metadata": {},
   "source": [
    "### Remove spaces within the dataset. "
   ]
  },
  {
   "cell_type": "code",
   "execution_count": 3,
   "metadata": {},
   "outputs": [],
   "source": [
    "headers = data_2018.columns\n",
    "new_headers = []\n",
    "\n",
    "for header in headers:\n",
    "    new_headers.append(header.strip())\n",
    "    \n",
    "data_2018.columns = new_headers"
   ]
  },
  {
   "cell_type": "markdown",
   "metadata": {},
   "source": [
    "### Data Dictionary \n",
    " - Driver Name: Name of the driver. There were 20 drivers in the F1 2018 season.\n",
    " - Salary - Driver's Salary in US Dollars (USD).\n",
    "     - Note: Some drivers are paid drivers (which means that, instead of being paid by the owner of his car, drives for free and brings with him either personal sponsorship or personal or family funding to finance the team's operations).\n",
    " - Team: Driver's Team. There were 10 teams competing in 2018. \n",
    " - Driver Status. Each driver will have a driver status within his team. \n",
    "     - Note: The first driver (coded as 0) will usually have the latest resources (such as new parts), technical development and he will be the priority of the team. Nonetheless, some teams do not implement such a system.\n",
    " - Age: The age of the driver. \n",
    " - Number of World Championships: Each year the driver with the most championship points will be winning the 'World Championship'. \n",
    " - Number of Pole Positions:  Pole position is the position at the inside of the front row at the start of a racing event. This position is typically given to the car and driver with the best qualifying time in the trials before the race (the leader in the starting grid). This number-one qualifying driver is referred to as the pole sitter.\n",
    " - Number of Race Wins: The number of times the driver has won the race. There were 21 races in 2018 season. \n",
    " - Number of Podiums: Podiums refers to whether the driver has finished within the top 3 positions in the race. \n",
    " - Number of DNF (Did Not Finish): The number of times that the driver does not finish a race. This can due to mechnical failure, the driver crashed his cars or other reasons. \n",
    " - Number of DSQ (Disqualified): The number of times a driver gets disqualified as he (or his team) breach the rules. \n",
    " - Number of DNS (Did Not Start): The number of times that a driver did not start a race, this can be due to illness or the mechanics are not able to fix the car due to an earlier crash. \n",
    " - WD (Withdrawn): The number of times a driver withdraws from a race. \n",
    " - Average Grid Position: The average starting position of each of the drivers. \n",
    " - Average Finish Position: The average finish position of each of the drivers. \n",
    " - Lead Lap Finish. \n",
    " - Points: Number of points that a driver scored in the 2018 F1 season. \n",
    " - Number of Fastest Laps: The number of times a driver sets the quickest lap run during a race.\n",
    " - Rookie Status ('Yes' is coded 1, while 'No'is coded 0). Rookie driver refers to the fact a driver is starting his first Formula 1 season. \n",
    " - Pay Driver: As mentioned above. "
   ]
  },
  {
   "cell_type": "markdown",
   "metadata": {},
   "source": [
    "### Check Missing Data\n",
    "Firstly, we should have a look at whether the data is completed or not. Because the missing value will have an adverse impact on the building of the regression model."
   ]
  },
  {
   "cell_type": "code",
   "execution_count": 4,
   "metadata": {},
   "outputs": [
    {
     "data": {
      "text/html": [
       "<div>\n",
       "<style scoped>\n",
       "    .dataframe tbody tr th:only-of-type {\n",
       "        vertical-align: middle;\n",
       "    }\n",
       "\n",
       "    .dataframe tbody tr th {\n",
       "        vertical-align: top;\n",
       "    }\n",
       "\n",
       "    .dataframe thead th {\n",
       "        text-align: right;\n",
       "    }\n",
       "</style>\n",
       "<table border=\"1\" class=\"dataframe\">\n",
       "  <thead>\n",
       "    <tr style=\"text-align: right;\">\n",
       "      <th></th>\n",
       "      <th>variable</th>\n",
       "      <th>number of missing</th>\n",
       "    </tr>\n",
       "  </thead>\n",
       "  <tbody>\n",
       "  </tbody>\n",
       "</table>\n",
       "</div>"
      ],
      "text/plain": [
       "Empty DataFrame\n",
       "Columns: [variable, number of missing]\n",
       "Index: []"
      ]
     },
     "execution_count": 4,
     "metadata": {},
     "output_type": "execute_result"
    }
   ],
   "source": [
    "null_values_col = data_2018.isnull().sum() \n",
    "null_values_col = null_values_col[null_values_col != 0].sort_values(ascending = False).reset_index() \n",
    "null_values_col.columns = [\"variable\", \"number of missing\"] \n",
    "null_values_col"
   ]
  },
  {
   "cell_type": "markdown",
   "metadata": {},
   "source": [
    "There are no missing values."
   ]
  },
  {
   "cell_type": "markdown",
   "metadata": {},
   "source": [
    "#### Descriptive Statistics"
   ]
  },
  {
   "cell_type": "code",
   "execution_count": 5,
   "metadata": {
    "scrolled": false
   },
   "outputs": [
    {
     "data": {
      "text/html": [
       "<div>\n",
       "<style scoped>\n",
       "    .dataframe tbody tr th:only-of-type {\n",
       "        vertical-align: middle;\n",
       "    }\n",
       "\n",
       "    .dataframe tbody tr th {\n",
       "        vertical-align: top;\n",
       "    }\n",
       "\n",
       "    .dataframe thead th {\n",
       "        text-align: right;\n",
       "    }\n",
       "</style>\n",
       "<table border=\"1\" class=\"dataframe\">\n",
       "  <thead>\n",
       "    <tr style=\"text-align: right;\">\n",
       "      <th></th>\n",
       "      <th>Salary</th>\n",
       "      <th>Driver Status</th>\n",
       "      <th>Age</th>\n",
       "      <th>Number of World Championships</th>\n",
       "      <th>Number of Pole Positions</th>\n",
       "      <th>Number of Race Wins</th>\n",
       "      <th>Number of Podiums</th>\n",
       "      <th>Number of DNF</th>\n",
       "      <th>Number of DSQ</th>\n",
       "      <th>Number of DNS</th>\n",
       "      <th>WD</th>\n",
       "      <th>Average Grid Position</th>\n",
       "      <th>Average Finish Position</th>\n",
       "      <th>Lead Lap Finish</th>\n",
       "      <th>Points</th>\n",
       "      <th>Number of Fastest Laps</th>\n",
       "      <th>Rookie Status</th>\n",
       "      <th>Pay Driver?</th>\n",
       "    </tr>\n",
       "  </thead>\n",
       "  <tbody>\n",
       "    <tr>\n",
       "      <th>count</th>\n",
       "      <td>2.000000e+01</td>\n",
       "      <td>20.000000</td>\n",
       "      <td>20.000000</td>\n",
       "      <td>20.000000</td>\n",
       "      <td>20.000000</td>\n",
       "      <td>20.000000</td>\n",
       "      <td>20.000000</td>\n",
       "      <td>20.000000</td>\n",
       "      <td>20.000000</td>\n",
       "      <td>20.0</td>\n",
       "      <td>20.0</td>\n",
       "      <td>20.000000</td>\n",
       "      <td>20.00000</td>\n",
       "      <td>20.000000</td>\n",
       "      <td>20.000000</td>\n",
       "      <td>20.000000</td>\n",
       "      <td>20.000000</td>\n",
       "      <td>20.000000</td>\n",
       "    </tr>\n",
       "    <tr>\n",
       "      <th>mean</th>\n",
       "      <td>1.202000e+07</td>\n",
       "      <td>0.400000</td>\n",
       "      <td>27.100000</td>\n",
       "      <td>0.550000</td>\n",
       "      <td>1.100000</td>\n",
       "      <td>1.050000</td>\n",
       "      <td>3.150000</td>\n",
       "      <td>4.250000</td>\n",
       "      <td>0.150000</td>\n",
       "      <td>0.0</td>\n",
       "      <td>0.0</td>\n",
       "      <td>10.500000</td>\n",
       "      <td>10.51500</td>\n",
       "      <td>9.350000</td>\n",
       "      <td>106.050000</td>\n",
       "      <td>1.050000</td>\n",
       "      <td>0.100000</td>\n",
       "      <td>0.250000</td>\n",
       "    </tr>\n",
       "    <tr>\n",
       "      <th>std</th>\n",
       "      <td>1.796935e+07</td>\n",
       "      <td>0.502625</td>\n",
       "      <td>5.543132</td>\n",
       "      <td>1.276302</td>\n",
       "      <td>2.633789</td>\n",
       "      <td>2.645254</td>\n",
       "      <td>5.470254</td>\n",
       "      <td>2.244877</td>\n",
       "      <td>0.366348</td>\n",
       "      <td>0.0</td>\n",
       "      <td>0.0</td>\n",
       "      <td>4.512672</td>\n",
       "      <td>3.78199</td>\n",
       "      <td>6.080815</td>\n",
       "      <td>121.893601</td>\n",
       "      <td>1.877148</td>\n",
       "      <td>0.307794</td>\n",
       "      <td>0.444262</td>\n",
       "    </tr>\n",
       "    <tr>\n",
       "      <th>min</th>\n",
       "      <td>1.500000e+05</td>\n",
       "      <td>0.000000</td>\n",
       "      <td>19.000000</td>\n",
       "      <td>0.000000</td>\n",
       "      <td>0.000000</td>\n",
       "      <td>0.000000</td>\n",
       "      <td>0.000000</td>\n",
       "      <td>1.000000</td>\n",
       "      <td>0.000000</td>\n",
       "      <td>0.0</td>\n",
       "      <td>0.0</td>\n",
       "      <td>2.700000</td>\n",
       "      <td>2.60000</td>\n",
       "      <td>2.000000</td>\n",
       "      <td>1.000000</td>\n",
       "      <td>0.000000</td>\n",
       "      <td>0.000000</td>\n",
       "      <td>0.000000</td>\n",
       "    </tr>\n",
       "    <tr>\n",
       "      <th>25%</th>\n",
       "      <td>9.375000e+05</td>\n",
       "      <td>0.000000</td>\n",
       "      <td>22.750000</td>\n",
       "      <td>0.000000</td>\n",
       "      <td>0.000000</td>\n",
       "      <td>0.000000</td>\n",
       "      <td>0.000000</td>\n",
       "      <td>2.750000</td>\n",
       "      <td>0.000000</td>\n",
       "      <td>0.0</td>\n",
       "      <td>0.0</td>\n",
       "      <td>7.925000</td>\n",
       "      <td>8.50000</td>\n",
       "      <td>4.750000</td>\n",
       "      <td>24.750000</td>\n",
       "      <td>0.000000</td>\n",
       "      <td>0.000000</td>\n",
       "      <td>0.000000</td>\n",
       "    </tr>\n",
       "    <tr>\n",
       "      <th>50%</th>\n",
       "      <td>4.725000e+06</td>\n",
       "      <td>0.000000</td>\n",
       "      <td>27.500000</td>\n",
       "      <td>0.000000</td>\n",
       "      <td>0.000000</td>\n",
       "      <td>0.000000</td>\n",
       "      <td>0.000000</td>\n",
       "      <td>4.000000</td>\n",
       "      <td>0.000000</td>\n",
       "      <td>0.0</td>\n",
       "      <td>0.0</td>\n",
       "      <td>10.700000</td>\n",
       "      <td>11.75000</td>\n",
       "      <td>7.500000</td>\n",
       "      <td>51.500000</td>\n",
       "      <td>0.000000</td>\n",
       "      <td>0.000000</td>\n",
       "      <td>0.000000</td>\n",
       "    </tr>\n",
       "    <tr>\n",
       "      <th>75%</th>\n",
       "      <td>1.050000e+07</td>\n",
       "      <td>1.000000</td>\n",
       "      <td>31.000000</td>\n",
       "      <td>0.000000</td>\n",
       "      <td>1.000000</td>\n",
       "      <td>0.250000</td>\n",
       "      <td>3.500000</td>\n",
       "      <td>6.000000</td>\n",
       "      <td>0.000000</td>\n",
       "      <td>0.0</td>\n",
       "      <td>0.0</td>\n",
       "      <td>14.125000</td>\n",
       "      <td>12.90000</td>\n",
       "      <td>14.000000</td>\n",
       "      <td>189.250000</td>\n",
       "      <td>1.250000</td>\n",
       "      <td>0.000000</td>\n",
       "      <td>0.250000</td>\n",
       "    </tr>\n",
       "    <tr>\n",
       "      <th>max</th>\n",
       "      <td>6.000000e+07</td>\n",
       "      <td>1.000000</td>\n",
       "      <td>38.000000</td>\n",
       "      <td>4.000000</td>\n",
       "      <td>11.000000</td>\n",
       "      <td>11.000000</td>\n",
       "      <td>17.000000</td>\n",
       "      <td>8.000000</td>\n",
       "      <td>1.000000</td>\n",
       "      <td>0.0</td>\n",
       "      <td>0.0</td>\n",
       "      <td>16.500000</td>\n",
       "      <td>15.50000</td>\n",
       "      <td>20.000000</td>\n",
       "      <td>408.000000</td>\n",
       "      <td>7.000000</td>\n",
       "      <td>1.000000</td>\n",
       "      <td>1.000000</td>\n",
       "    </tr>\n",
       "  </tbody>\n",
       "</table>\n",
       "</div>"
      ],
      "text/plain": [
       "             Salary  Driver Status        Age  Number of World Championships  \\\n",
       "count  2.000000e+01      20.000000  20.000000                      20.000000   \n",
       "mean   1.202000e+07       0.400000  27.100000                       0.550000   \n",
       "std    1.796935e+07       0.502625   5.543132                       1.276302   \n",
       "min    1.500000e+05       0.000000  19.000000                       0.000000   \n",
       "25%    9.375000e+05       0.000000  22.750000                       0.000000   \n",
       "50%    4.725000e+06       0.000000  27.500000                       0.000000   \n",
       "75%    1.050000e+07       1.000000  31.000000                       0.000000   \n",
       "max    6.000000e+07       1.000000  38.000000                       4.000000   \n",
       "\n",
       "       Number of Pole Positions  Number of Race Wins  Number of Podiums  \\\n",
       "count                 20.000000            20.000000          20.000000   \n",
       "mean                   1.100000             1.050000           3.150000   \n",
       "std                    2.633789             2.645254           5.470254   \n",
       "min                    0.000000             0.000000           0.000000   \n",
       "25%                    0.000000             0.000000           0.000000   \n",
       "50%                    0.000000             0.000000           0.000000   \n",
       "75%                    1.000000             0.250000           3.500000   \n",
       "max                   11.000000            11.000000          17.000000   \n",
       "\n",
       "       Number of DNF  Number of DSQ  Number of DNS    WD  \\\n",
       "count      20.000000      20.000000           20.0  20.0   \n",
       "mean        4.250000       0.150000            0.0   0.0   \n",
       "std         2.244877       0.366348            0.0   0.0   \n",
       "min         1.000000       0.000000            0.0   0.0   \n",
       "25%         2.750000       0.000000            0.0   0.0   \n",
       "50%         4.000000       0.000000            0.0   0.0   \n",
       "75%         6.000000       0.000000            0.0   0.0   \n",
       "max         8.000000       1.000000            0.0   0.0   \n",
       "\n",
       "       Average Grid Position  Average Finish Position  Lead Lap Finish  \\\n",
       "count              20.000000                 20.00000        20.000000   \n",
       "mean               10.500000                 10.51500         9.350000   \n",
       "std                 4.512672                  3.78199         6.080815   \n",
       "min                 2.700000                  2.60000         2.000000   \n",
       "25%                 7.925000                  8.50000         4.750000   \n",
       "50%                10.700000                 11.75000         7.500000   \n",
       "75%                14.125000                 12.90000        14.000000   \n",
       "max                16.500000                 15.50000        20.000000   \n",
       "\n",
       "           Points  Number of Fastest Laps  Rookie Status  Pay Driver?  \n",
       "count   20.000000               20.000000      20.000000    20.000000  \n",
       "mean   106.050000                1.050000       0.100000     0.250000  \n",
       "std    121.893601                1.877148       0.307794     0.444262  \n",
       "min      1.000000                0.000000       0.000000     0.000000  \n",
       "25%     24.750000                0.000000       0.000000     0.000000  \n",
       "50%     51.500000                0.000000       0.000000     0.000000  \n",
       "75%    189.250000                1.250000       0.000000     0.250000  \n",
       "max    408.000000                7.000000       1.000000     1.000000  "
      ]
     },
     "execution_count": 5,
     "metadata": {},
     "output_type": "execute_result"
    }
   ],
   "source": [
    "data_2018.describe()"
   ]
  },
  {
   "cell_type": "code",
   "execution_count": 6,
   "metadata": {},
   "outputs": [
    {
     "data": {
      "image/png": "[encoded data removed]",
      "text/plain": [
       "<Figure size 1080x576 with 1 Axes>"
      ]
     },
     "metadata": {
      "needs_background": "light"
     },
     "output_type": "display_data"
    }
   ],
   "source": [
    "# order points in an ascending order\n",
    "driver_points = data_2018[['Driver Name', 'Points']].sort_values(['Points'], ascending=True)\n",
    "\n",
    "# bar chart of total points gained by each driver\n",
    "plt.figure(figsize=(15,8))\n",
    "plt.barh(driver_points['Driver Name'], driver_points['Points'], color='red')\n",
    "plt.title('Total Points Gained in 2018 Season by each Driver')\n",
    "plt.xlabel('Total Points')\n",
    "plt.ylabel(\"Driver Name\")\n",
    "plt.show()"
   ]
  },
  {
   "cell_type": "markdown",
   "metadata": {},
   "source": [
    "The top 6 drivers gained significantly more points in the 2018 season compared to the other drivers. It seems these top drivers dominated this season."
   ]
  },
  {
   "cell_type": "code",
   "execution_count": 7,
   "metadata": {},
   "outputs": [
    {
     "data": {
      "image/png": "[encoded data removed]",
      "text/plain": [
       "<Figure size 720x576 with 1 Axes>"
      ]
     },
     "metadata": {
      "needs_background": "light"
     },
     "output_type": "display_data"
    }
   ],
   "source": [
    "# points are grouped and sorted\n",
    "team_points = data_2018[['Team', 'Points']].sort_values(['Points'], ascending=True)\n",
    "team_points = team_points.groupby(['Team']).sum()\n",
    "team_points = team_points.sort_values(['Points'], ascending=False)\n",
    "\n",
    "# bar chart of total points gained by each team\n",
    "team_colours = [\"#00D2BE\", \n",
    "                \"#DC0000\", \n",
    "                \"#00327D\", \n",
    "                \"#FFF500\", \n",
    "                \"#F596C8\", \n",
    "                \"#5A5A5A\", \n",
    "                \"#FF8700\",\n",
    "                \"#9B0000\", \n",
    "                \"#0032FF\", \n",
    "                \"#FFFFFF\"]\n",
    "\n",
    "plt.figure(figsize=(10,8))\n",
    "ax = sns.barplot(y = team_points.index, \n",
    "                 x = team_points[\"Points\"], \n",
    "                 palette=sns.color_palette(team_colours))\n",
    "ax.set_title('Total Points Gained in 2018 Season by each Team')\n",
    "ax.set_xlabel('Total Points')\n",
    "plt.show()"
   ]
  },
  {
   "cell_type": "markdown",
   "metadata": {},
   "source": [
    "Mercedes team gained the most amount of points, over 400 points, followed by Ferrari and Red Bull Racing. The rest of the teams did not perform as well as the top 3."
   ]
  },
  {
   "cell_type": "code",
   "execution_count": 8,
   "metadata": {},
   "outputs": [
    {
     "data": {
      "image/png": "[encoded data removed]",
      "text/plain": [
       "<Figure size 432x576 with 1 Axes>"
      ]
     },
     "metadata": {
      "needs_background": "light"
     },
     "output_type": "display_data"
    }
   ],
   "source": [
    "# boxplot of age\n",
    "plt.figure(figsize=(6, 8))\n",
    "ax = sns.boxplot(data=data_2018[['Age']], color = 'red')\n",
    "ax.set_title('Age Distribution Among All Drivers')\n",
    "ax.set_yticks([20, 25, 30, 35, 40])\n",
    "ax.set_ylabel(\"Age\")\n",
    "plt.show()"
   ]
  },
  {
   "cell_type": "markdown",
   "metadata": {},
   "source": [
    "The median age among all drivers is 27.5 years. Age ranges from 19 to 38 years which suggests that drivers only race up to a certain age."
   ]
  },
  {
   "cell_type": "code",
   "execution_count": 9,
   "metadata": {},
   "outputs": [
    {
     "data": {
      "image/png": "[encoded data removed]",
      "text/plain": [
       "<Figure size 936x576 with 1 Axes>"
      ]
     },
     "metadata": {
      "needs_background": "light"
     },
     "output_type": "display_data"
    }
   ],
   "source": [
    "# select drivers who won at least one world championship & order them\n",
    "top_drivers = data_2018[data_2018['Number of World Championships'] > 0].sort_values(['Number of World Championships'], ascending=False)\n",
    "\n",
    "# visualise top drivers in a bar chart\n",
    "plt.figure(figsize=(13,8))\n",
    "ax = sns.barplot(top_drivers['Driver Name'], top_drivers['Number of World Championships'], color='red')\n",
    "ax.set_title('Number of World Championships Won by Drivers')\n",
    "ax.set_yticks(list(range(1,5)))\n",
    "plt.show()"
   ]
  },
  {
   "cell_type": "markdown",
   "metadata": {},
   "source": [
    "Vettel and Hamiton won 4 world championships, Alonso won 2, and Raikkonen won only one in their career. While other drivers did not win any world championships."
   ]
  },
  {
   "cell_type": "code",
   "execution_count": 10,
   "metadata": {},
   "outputs": [
    {
     "data": {
      "image/png": "[encoded data removed]",
      "text/plain": [
       "<Figure size 1080x576 with 1 Axes>"
      ]
     },
     "metadata": {
      "needs_background": "light"
     },
     "output_type": "display_data"
    }
   ],
   "source": [
    "driver_poles = data_2018[['Driver Name', 'Number of Pole Positions']].sort_values(['Number of Pole Positions'], ascending=False)\n",
    "driver_poles = driver_poles[driver_poles[\"Number of Pole Positions\"] > 0] \n",
    "\n",
    "# bar chart of total points gained by each driver\n",
    "plt.figure(figsize=(15,8))\n",
    "ax = sns.barplot(y = driver_poles['Driver Name'], x = driver_poles['Number of Pole Positions'], color='RED')\n",
    "ax.set_title('Total Pole Positions Taken in 2018 Season by each Driver')\n",
    "ax.set_xlabel('Total Pole Positions')\n",
    "plt.show()"
   ]
  },
  {
   "cell_type": "markdown",
   "metadata": {},
   "source": [
    "It appears that there are only 6 drivers managed to take pole positions in F1 2018. Namely, these drivers are from Mercedes, Ferrari, and Red Bull. Given the fact that these are the most dominant teams in F1, this is valid.   "
   ]
  },
  {
   "cell_type": "code",
   "execution_count": 11,
   "metadata": {},
   "outputs": [
    {
     "data": {
      "image/png": "[encoded data removed]",
      "text/plain": [
       "<Figure size 1080x576 with 1 Axes>"
      ]
     },
     "metadata": {
      "needs_background": "light"
     },
     "output_type": "display_data"
    }
   ],
   "source": [
    "driver_wins = data_2018[['Driver Name', 'Number of Race Wins']].sort_values(['Number of Race Wins'], ascending=False)\n",
    "driver_wins = driver_wins[driver_wins[\"Number of Race Wins\"] > 0]\n",
    "\n",
    "# bar chart of total points gained by each driver\n",
    "plt.figure(figsize=(15,8))\n",
    "ax = sns.barplot(y = driver_wins['Driver Name'], x = driver_wins['Number of Race Wins'], color='RED')\n",
    "plt.title('Total Race Wins Taken in 2018 Season by each Driver')\n",
    "plt.xlabel('Total Race Wins')\n",
    "plt.show()"
   ]
  },
  {
   "cell_type": "markdown",
   "metadata": {},
   "source": [
    "From the above graph, it shows that Hamiton has won the most races, which demonstrates how dominant the Mercedes car was in 2018. On the other hand, Vettel has won 5 and Räikkönen has won 1. Max Verstappen is the only non-Mercedes or Ferrari driver which has won the race. "
   ]
  },
  {
   "cell_type": "markdown",
   "metadata": {},
   "source": [
    "### Correlation between variables"
   ]
  },
  {
   "cell_type": "code",
   "execution_count": 12,
   "metadata": {},
   "outputs": [
    {
     "data": {
      "text/html": [
       "<div>\n",
       "<style scoped>\n",
       "    .dataframe tbody tr th:only-of-type {\n",
       "        vertical-align: middle;\n",
       "    }\n",
       "\n",
       "    .dataframe tbody tr th {\n",
       "        vertical-align: top;\n",
       "    }\n",
       "\n",
       "    .dataframe thead th {\n",
       "        text-align: right;\n",
       "    }\n",
       "</style>\n",
       "<table border=\"1\" class=\"dataframe\">\n",
       "  <thead>\n",
       "    <tr style=\"text-align: right;\">\n",
       "      <th></th>\n",
       "      <th>Salary</th>\n",
       "      <th>Driver Status</th>\n",
       "      <th>Age</th>\n",
       "      <th>Number of World Championships</th>\n",
       "      <th>Number of Pole Positions</th>\n",
       "      <th>Number of Race Wins</th>\n",
       "      <th>Number of Podiums</th>\n",
       "      <th>Number of DNF</th>\n",
       "      <th>Number of DSQ</th>\n",
       "      <th>Number of DNS</th>\n",
       "      <th>WD</th>\n",
       "      <th>Average Grid Position</th>\n",
       "      <th>Average Finish Position</th>\n",
       "      <th>Lead Lap Finish</th>\n",
       "      <th>Points</th>\n",
       "      <th>Number of Fastest Laps</th>\n",
       "      <th>Rookie Status</th>\n",
       "      <th>Pay Driver?</th>\n",
       "    </tr>\n",
       "  </thead>\n",
       "  <tbody>\n",
       "    <tr>\n",
       "      <th>Salary</th>\n",
       "      <td>1.000000</td>\n",
       "      <td>-0.156814</td>\n",
       "      <td>0.643115</td>\n",
       "      <td>0.935807</td>\n",
       "      <td>0.751272</td>\n",
       "      <td>0.741394</td>\n",
       "      <td>0.811580</td>\n",
       "      <td>-0.340209</td>\n",
       "      <td>-0.208751</td>\n",
       "      <td>NaN</td>\n",
       "      <td>NaN</td>\n",
       "      <td>-0.711697</td>\n",
       "      <td>-0.748174</td>\n",
       "      <td>0.705150</td>\n",
       "      <td>0.803036</td>\n",
       "      <td>0.387086</td>\n",
       "      <td>-0.217821</td>\n",
       "      <td>-0.339204</td>\n",
       "    </tr>\n",
       "    <tr>\n",
       "      <th>Driver Status</th>\n",
       "      <td>-0.156814</td>\n",
       "      <td>1.000000</td>\n",
       "      <td>-0.052894</td>\n",
       "      <td>-0.278951</td>\n",
       "      <td>-0.190837</td>\n",
       "      <td>-0.213761</td>\n",
       "      <td>-0.061255</td>\n",
       "      <td>0.186582</td>\n",
       "      <td>-0.057166</td>\n",
       "      <td>NaN</td>\n",
       "      <td>NaN</td>\n",
       "      <td>-0.095138</td>\n",
       "      <td>-0.039316</td>\n",
       "      <td>0.089546</td>\n",
       "      <td>-0.020102</td>\n",
       "      <td>0.200820</td>\n",
       "      <td>0.068041</td>\n",
       "      <td>-0.235702</td>\n",
       "    </tr>\n",
       "    <tr>\n",
       "      <th>Age</th>\n",
       "      <td>0.643115</td>\n",
       "      <td>-0.052894</td>\n",
       "      <td>1.000000</td>\n",
       "      <td>0.520014</td>\n",
       "      <td>0.312918</td>\n",
       "      <td>0.304741</td>\n",
       "      <td>0.381341</td>\n",
       "      <td>0.120543</td>\n",
       "      <td>-0.085529</td>\n",
       "      <td>NaN</td>\n",
       "      <td>NaN</td>\n",
       "      <td>-0.446270</td>\n",
       "      <td>-0.368375</td>\n",
       "      <td>0.329935</td>\n",
       "      <td>0.412447</td>\n",
       "      <td>0.227111</td>\n",
       "      <td>-0.345501</td>\n",
       "      <td>-0.224410</td>\n",
       "    </tr>\n",
       "    <tr>\n",
       "      <th>Number of World Championships</th>\n",
       "      <td>0.935807</td>\n",
       "      <td>-0.278951</td>\n",
       "      <td>0.520014</td>\n",
       "      <td>1.000000</td>\n",
       "      <td>0.828262</td>\n",
       "      <td>0.833246</td>\n",
       "      <td>0.703720</td>\n",
       "      <td>-0.344430</td>\n",
       "      <td>-0.185731</td>\n",
       "      <td>NaN</td>\n",
       "      <td>NaN</td>\n",
       "      <td>-0.574791</td>\n",
       "      <td>-0.633121</td>\n",
       "      <td>0.570670</td>\n",
       "      <td>0.709245</td>\n",
       "      <td>0.295472</td>\n",
       "      <td>-0.147376</td>\n",
       "      <td>-0.255262</td>\n",
       "    </tr>\n",
       "    <tr>\n",
       "      <th>Number of Pole Positions</th>\n",
       "      <td>0.751272</td>\n",
       "      <td>-0.190837</td>\n",
       "      <td>0.312918</td>\n",
       "      <td>0.828262</td>\n",
       "      <td>1.000000</td>\n",
       "      <td>0.981312</td>\n",
       "      <td>0.839110</td>\n",
       "      <td>-0.476241</td>\n",
       "      <td>-0.180006</td>\n",
       "      <td>NaN</td>\n",
       "      <td>NaN</td>\n",
       "      <td>-0.675750</td>\n",
       "      <td>-0.768949</td>\n",
       "      <td>0.704248</td>\n",
       "      <td>0.847225</td>\n",
       "      <td>0.509921</td>\n",
       "      <td>-0.142833</td>\n",
       "      <td>-0.247394</td>\n",
       "    </tr>\n",
       "    <tr>\n",
       "      <th>Number of Race Wins</th>\n",
       "      <td>0.741394</td>\n",
       "      <td>-0.213761</td>\n",
       "      <td>0.304741</td>\n",
       "      <td>0.833246</td>\n",
       "      <td>0.981312</td>\n",
       "      <td>1.000000</td>\n",
       "      <td>0.796009</td>\n",
       "      <td>-0.401056</td>\n",
       "      <td>-0.171079</td>\n",
       "      <td>NaN</td>\n",
       "      <td>NaN</td>\n",
       "      <td>-0.625645</td>\n",
       "      <td>-0.715033</td>\n",
       "      <td>0.656533</td>\n",
       "      <td>0.807977</td>\n",
       "      <td>0.412846</td>\n",
       "      <td>-0.135750</td>\n",
       "      <td>-0.235125</td>\n",
       "    </tr>\n",
       "    <tr>\n",
       "      <th>Number of Podiums</th>\n",
       "      <td>0.811580</td>\n",
       "      <td>-0.061255</td>\n",
       "      <td>0.381341</td>\n",
       "      <td>0.703720</td>\n",
       "      <td>0.839110</td>\n",
       "      <td>0.796009</td>\n",
       "      <td>1.000000</td>\n",
       "      <td>-0.483240</td>\n",
       "      <td>-0.248186</td>\n",
       "      <td>NaN</td>\n",
       "      <td>NaN</td>\n",
       "      <td>-0.847718</td>\n",
       "      <td>-0.921809</td>\n",
       "      <td>0.890732</td>\n",
       "      <td>0.964864</td>\n",
       "      <td>0.609171</td>\n",
       "      <td>-0.196934</td>\n",
       "      <td>-0.319442</td>\n",
       "    </tr>\n",
       "    <tr>\n",
       "      <th>Number of DNF</th>\n",
       "      <td>-0.340209</td>\n",
       "      <td>0.186582</td>\n",
       "      <td>0.120543</td>\n",
       "      <td>-0.344430</td>\n",
       "      <td>-0.476241</td>\n",
       "      <td>-0.401056</td>\n",
       "      <td>-0.483240</td>\n",
       "      <td>1.000000</td>\n",
       "      <td>0.143994</td>\n",
       "      <td>NaN</td>\n",
       "      <td>NaN</td>\n",
       "      <td>0.342378</td>\n",
       "      <td>0.481830</td>\n",
       "      <td>-0.400019</td>\n",
       "      <td>-0.410697</td>\n",
       "      <td>-0.277898</td>\n",
       "      <td>0.038086</td>\n",
       "      <td>-0.118740</td>\n",
       "    </tr>\n",
       "    <tr>\n",
       "      <th>Number of DSQ</th>\n",
       "      <td>-0.208751</td>\n",
       "      <td>-0.057166</td>\n",
       "      <td>-0.085529</td>\n",
       "      <td>-0.185731</td>\n",
       "      <td>-0.180006</td>\n",
       "      <td>-0.171079</td>\n",
       "      <td>-0.248186</td>\n",
       "      <td>0.143994</td>\n",
       "      <td>1.000000</td>\n",
       "      <td>NaN</td>\n",
       "      <td>NaN</td>\n",
       "      <td>-0.031836</td>\n",
       "      <td>0.150238</td>\n",
       "      <td>-0.237442</td>\n",
       "      <td>-0.207613</td>\n",
       "      <td>-0.164548</td>\n",
       "      <td>-0.140028</td>\n",
       "      <td>-0.242536</td>\n",
       "    </tr>\n",
       "    <tr>\n",
       "      <th>Number of DNS</th>\n",
       "      <td>NaN</td>\n",
       "      <td>NaN</td>\n",
       "      <td>NaN</td>\n",
       "      <td>NaN</td>\n",
       "      <td>NaN</td>\n",
       "      <td>NaN</td>\n",
       "      <td>NaN</td>\n",
       "      <td>NaN</td>\n",
       "      <td>NaN</td>\n",
       "      <td>NaN</td>\n",
       "      <td>NaN</td>\n",
       "      <td>NaN</td>\n",
       "      <td>NaN</td>\n",
       "      <td>NaN</td>\n",
       "      <td>NaN</td>\n",
       "      <td>NaN</td>\n",
       "      <td>NaN</td>\n",
       "      <td>NaN</td>\n",
       "    </tr>\n",
       "    <tr>\n",
       "      <th>WD</th>\n",
       "      <td>NaN</td>\n",
       "      <td>NaN</td>\n",
       "      <td>NaN</td>\n",
       "      <td>NaN</td>\n",
       "      <td>NaN</td>\n",
       "      <td>NaN</td>\n",
       "      <td>NaN</td>\n",
       "      <td>NaN</td>\n",
       "      <td>NaN</td>\n",
       "      <td>NaN</td>\n",
       "      <td>NaN</td>\n",
       "      <td>NaN</td>\n",
       "      <td>NaN</td>\n",
       "      <td>NaN</td>\n",
       "      <td>NaN</td>\n",
       "      <td>NaN</td>\n",
       "      <td>NaN</td>\n",
       "      <td>NaN</td>\n",
       "    </tr>\n",
       "    <tr>\n",
       "      <th>Average Grid Position</th>\n",
       "      <td>-0.711697</td>\n",
       "      <td>-0.095138</td>\n",
       "      <td>-0.446270</td>\n",
       "      <td>-0.574791</td>\n",
       "      <td>-0.675750</td>\n",
       "      <td>-0.625645</td>\n",
       "      <td>-0.847718</td>\n",
       "      <td>0.342378</td>\n",
       "      <td>-0.031836</td>\n",
       "      <td>NaN</td>\n",
       "      <td>NaN</td>\n",
       "      <td>1.000000</td>\n",
       "      <td>0.955868</td>\n",
       "      <td>-0.929084</td>\n",
       "      <td>-0.923114</td>\n",
       "      <td>-0.712031</td>\n",
       "      <td>0.280404</td>\n",
       "      <td>0.572309</td>\n",
       "    </tr>\n",
       "    <tr>\n",
       "      <th>Average Finish Position</th>\n",
       "      <td>-0.748174</td>\n",
       "      <td>-0.039316</td>\n",
       "      <td>-0.368375</td>\n",
       "      <td>-0.633121</td>\n",
       "      <td>-0.768949</td>\n",
       "      <td>-0.715033</td>\n",
       "      <td>-0.921809</td>\n",
       "      <td>0.481830</td>\n",
       "      <td>0.150238</td>\n",
       "      <td>NaN</td>\n",
       "      <td>NaN</td>\n",
       "      <td>0.955868</td>\n",
       "      <td>1.000000</td>\n",
       "      <td>-0.966475</td>\n",
       "      <td>-0.970694</td>\n",
       "      <td>-0.734055</td>\n",
       "      <td>0.315137</td>\n",
       "      <td>0.498846</td>\n",
       "    </tr>\n",
       "    <tr>\n",
       "      <th>Lead Lap Finish</th>\n",
       "      <td>0.705150</td>\n",
       "      <td>0.089546</td>\n",
       "      <td>0.329935</td>\n",
       "      <td>0.570670</td>\n",
       "      <td>0.704248</td>\n",
       "      <td>0.656533</td>\n",
       "      <td>0.890732</td>\n",
       "      <td>-0.400019</td>\n",
       "      <td>-0.237442</td>\n",
       "      <td>NaN</td>\n",
       "      <td>NaN</td>\n",
       "      <td>-0.929084</td>\n",
       "      <td>-0.966475</td>\n",
       "      <td>1.000000</td>\n",
       "      <td>0.943167</td>\n",
       "      <td>0.717687</td>\n",
       "      <td>-0.272770</td>\n",
       "      <td>-0.462711</td>\n",
       "    </tr>\n",
       "    <tr>\n",
       "      <th>Points</th>\n",
       "      <td>0.803036</td>\n",
       "      <td>-0.020102</td>\n",
       "      <td>0.412447</td>\n",
       "      <td>0.709245</td>\n",
       "      <td>0.847225</td>\n",
       "      <td>0.807977</td>\n",
       "      <td>0.964864</td>\n",
       "      <td>-0.410697</td>\n",
       "      <td>-0.207613</td>\n",
       "      <td>NaN</td>\n",
       "      <td>NaN</td>\n",
       "      <td>-0.923114</td>\n",
       "      <td>-0.970694</td>\n",
       "      <td>0.943167</td>\n",
       "      <td>1.000000</td>\n",
       "      <td>0.729384</td>\n",
       "      <td>-0.241428</td>\n",
       "      <td>-0.435659</td>\n",
       "    </tr>\n",
       "    <tr>\n",
       "      <th>Number of Fastest Laps</th>\n",
       "      <td>0.387086</td>\n",
       "      <td>0.200820</td>\n",
       "      <td>0.227111</td>\n",
       "      <td>0.295472</td>\n",
       "      <td>0.509921</td>\n",
       "      <td>0.412846</td>\n",
       "      <td>0.609171</td>\n",
       "      <td>-0.277898</td>\n",
       "      <td>-0.164548</td>\n",
       "      <td>NaN</td>\n",
       "      <td>NaN</td>\n",
       "      <td>-0.712031</td>\n",
       "      <td>-0.734055</td>\n",
       "      <td>0.717687</td>\n",
       "      <td>0.729384</td>\n",
       "      <td>1.000000</td>\n",
       "      <td>-0.191297</td>\n",
       "      <td>-0.331336</td>\n",
       "    </tr>\n",
       "    <tr>\n",
       "      <th>Rookie Status</th>\n",
       "      <td>-0.217821</td>\n",
       "      <td>0.068041</td>\n",
       "      <td>-0.345501</td>\n",
       "      <td>-0.147376</td>\n",
       "      <td>-0.142833</td>\n",
       "      <td>-0.135750</td>\n",
       "      <td>-0.196934</td>\n",
       "      <td>0.038086</td>\n",
       "      <td>-0.140028</td>\n",
       "      <td>NaN</td>\n",
       "      <td>NaN</td>\n",
       "      <td>0.280404</td>\n",
       "      <td>0.315137</td>\n",
       "      <td>-0.272770</td>\n",
       "      <td>-0.241428</td>\n",
       "      <td>-0.191297</td>\n",
       "      <td>1.000000</td>\n",
       "      <td>0.192450</td>\n",
       "    </tr>\n",
       "    <tr>\n",
       "      <th>Pay Driver?</th>\n",
       "      <td>-0.339204</td>\n",
       "      <td>-0.235702</td>\n",
       "      <td>-0.224410</td>\n",
       "      <td>-0.255262</td>\n",
       "      <td>-0.247394</td>\n",
       "      <td>-0.235125</td>\n",
       "      <td>-0.319442</td>\n",
       "      <td>-0.118740</td>\n",
       "      <td>-0.242536</td>\n",
       "      <td>NaN</td>\n",
       "      <td>NaN</td>\n",
       "      <td>0.572309</td>\n",
       "      <td>0.498846</td>\n",
       "      <td>-0.462711</td>\n",
       "      <td>-0.435659</td>\n",
       "      <td>-0.331336</td>\n",
       "      <td>0.192450</td>\n",
       "      <td>1.000000</td>\n",
       "    </tr>\n",
       "  </tbody>\n",
       "</table>\n",
       "</div>"
      ],
      "text/plain": [
       "                                 Salary  Driver Status       Age  \\\n",
       "Salary                         1.000000      -0.156814  0.643115   \n",
       "Driver Status                 -0.156814       1.000000 -0.052894   \n",
       "Age                            0.643115      -0.052894  1.000000   \n",
       "Number of World Championships  0.935807      -0.278951  0.520014   \n",
       "Number of Pole Positions       0.751272      -0.190837  0.312918   \n",
       "Number of Race Wins            0.741394      -0.213761  0.304741   \n",
       "Number of Podiums              0.811580      -0.061255  0.381341   \n",
       "Number of DNF                 -0.340209       0.186582  0.120543   \n",
       "Number of DSQ                 -0.208751      -0.057166 -0.085529   \n",
       "Number of DNS                       NaN            NaN       NaN   \n",
       "WD                                  NaN            NaN       NaN   \n",
       "Average Grid Position         -0.711697      -0.095138 -0.446270   \n",
       "Average Finish Position       -0.748174      -0.039316 -0.368375   \n",
       "Lead Lap Finish                0.705150       0.089546  0.329935   \n",
       "Points                         0.803036      -0.020102  0.412447   \n",
       "Number of Fastest Laps         0.387086       0.200820  0.227111   \n",
       "Rookie Status                 -0.217821       0.068041 -0.345501   \n",
       "Pay Driver?                   -0.339204      -0.235702 -0.224410   \n",
       "\n",
       "                               Number of World Championships  \\\n",
       "Salary                                              0.935807   \n",
       "Driver Status                                      -0.278951   \n",
       "Age                                                 0.520014   \n",
       "Number of World Championships                       1.000000   \n",
       "Number of Pole Positions                            0.828262   \n",
       "Number of Race Wins                                 0.833246   \n",
       "Number of Podiums                                   0.703720   \n",
       "Number of DNF                                      -0.344430   \n",
       "Number of DSQ                                      -0.185731   \n",
       "Number of DNS                                            NaN   \n",
       "WD                                                       NaN   \n",
       "Average Grid Position                              -0.574791   \n",
       "Average Finish Position                            -0.633121   \n",
       "Lead Lap Finish                                     0.570670   \n",
       "Points                                              0.709245   \n",
       "Number of Fastest Laps                              0.295472   \n",
       "Rookie Status                                      -0.147376   \n",
       "Pay Driver?                                        -0.255262   \n",
       "\n",
       "                               Number of Pole Positions  Number of Race Wins  \\\n",
       "Salary                                         0.751272             0.741394   \n",
       "Driver Status                                 -0.190837            -0.213761   \n",
       "Age                                            0.312918             0.304741   \n",
       "Number of World Championships                  0.828262             0.833246   \n",
       "Number of Pole Positions                       1.000000             0.981312   \n",
       "Number of Race Wins                            0.981312             1.000000   \n",
       "Number of Podiums                              0.839110             0.796009   \n",
       "Number of DNF                                 -0.476241            -0.401056   \n",
       "Number of DSQ                                 -0.180006            -0.171079   \n",
       "Number of DNS                                       NaN                  NaN   \n",
       "WD                                                  NaN                  NaN   \n",
       "Average Grid Position                         -0.675750            -0.625645   \n",
       "Average Finish Position                       -0.768949            -0.715033   \n",
       "Lead Lap Finish                                0.704248             0.656533   \n",
       "Points                                         0.847225             0.807977   \n",
       "Number of Fastest Laps                         0.509921             0.412846   \n",
       "Rookie Status                                 -0.142833            -0.135750   \n",
       "Pay Driver?                                   -0.247394            -0.235125   \n",
       "\n",
       "                               Number of Podiums  Number of DNF  \\\n",
       "Salary                                  0.811580      -0.340209   \n",
       "Driver Status                          -0.061255       0.186582   \n",
       "Age                                     0.381341       0.120543   \n",
       "Number of World Championships           0.703720      -0.344430   \n",
       "Number of Pole Positions                0.839110      -0.476241   \n",
       "Number of Race Wins                     0.796009      -0.401056   \n",
       "Number of Podiums                       1.000000      -0.483240   \n",
       "Number of DNF                          -0.483240       1.000000   \n",
       "Number of DSQ                          -0.248186       0.143994   \n",
       "Number of DNS                                NaN            NaN   \n",
       "WD                                           NaN            NaN   \n",
       "Average Grid Position                  -0.847718       0.342378   \n",
       "Average Finish Position                -0.921809       0.481830   \n",
       "Lead Lap Finish                         0.890732      -0.400019   \n",
       "Points                                  0.964864      -0.410697   \n",
       "Number of Fastest Laps                  0.609171      -0.277898   \n",
       "Rookie Status                          -0.196934       0.038086   \n",
       "Pay Driver?                            -0.319442      -0.118740   \n",
       "\n",
       "                               Number of DSQ  Number of DNS  WD  \\\n",
       "Salary                             -0.208751            NaN NaN   \n",
       "Driver Status                      -0.057166            NaN NaN   \n",
       "Age                                -0.085529            NaN NaN   \n",
       "Number of World Championships      -0.185731            NaN NaN   \n",
       "Number of Pole Positions           -0.180006            NaN NaN   \n",
       "Number of Race Wins                -0.171079            NaN NaN   \n",
       "Number of Podiums                  -0.248186            NaN NaN   \n",
       "Number of DNF                       0.143994            NaN NaN   \n",
       "Number of DSQ                       1.000000            NaN NaN   \n",
       "Number of DNS                            NaN            NaN NaN   \n",
       "WD                                       NaN            NaN NaN   \n",
       "Average Grid Position              -0.031836            NaN NaN   \n",
       "Average Finish Position             0.150238            NaN NaN   \n",
       "Lead Lap Finish                    -0.237442            NaN NaN   \n",
       "Points                             -0.207613            NaN NaN   \n",
       "Number of Fastest Laps             -0.164548            NaN NaN   \n",
       "Rookie Status                      -0.140028            NaN NaN   \n",
       "Pay Driver?                        -0.242536            NaN NaN   \n",
       "\n",
       "                               Average Grid Position  Average Finish Position  \\\n",
       "Salary                                     -0.711697                -0.748174   \n",
       "Driver Status                              -0.095138                -0.039316   \n",
       "Age                                        -0.446270                -0.368375   \n",
       "Number of World Championships              -0.574791                -0.633121   \n",
       "Number of Pole Positions                   -0.675750                -0.768949   \n",
       "Number of Race Wins                        -0.625645                -0.715033   \n",
       "Number of Podiums                          -0.847718                -0.921809   \n",
       "Number of DNF                               0.342378                 0.481830   \n",
       "Number of DSQ                              -0.031836                 0.150238   \n",
       "Number of DNS                                    NaN                      NaN   \n",
       "WD                                               NaN                      NaN   \n",
       "Average Grid Position                       1.000000                 0.955868   \n",
       "Average Finish Position                     0.955868                 1.000000   \n",
       "Lead Lap Finish                            -0.929084                -0.966475   \n",
       "Points                                     -0.923114                -0.970694   \n",
       "Number of Fastest Laps                     -0.712031                -0.734055   \n",
       "Rookie Status                               0.280404                 0.315137   \n",
       "Pay Driver?                                 0.572309                 0.498846   \n",
       "\n",
       "                               Lead Lap Finish    Points  \\\n",
       "Salary                                0.705150  0.803036   \n",
       "Driver Status                         0.089546 -0.020102   \n",
       "Age                                   0.329935  0.412447   \n",
       "Number of World Championships         0.570670  0.709245   \n",
       "Number of Pole Positions              0.704248  0.847225   \n",
       "Number of Race Wins                   0.656533  0.807977   \n",
       "Number of Podiums                     0.890732  0.964864   \n",
       "Number of DNF                        -0.400019 -0.410697   \n",
       "Number of DSQ                        -0.237442 -0.207613   \n",
       "Number of DNS                              NaN       NaN   \n",
       "WD                                         NaN       NaN   \n",
       "Average Grid Position                -0.929084 -0.923114   \n",
       "Average Finish Position              -0.966475 -0.970694   \n",
       "Lead Lap Finish                       1.000000  0.943167   \n",
       "Points                                0.943167  1.000000   \n",
       "Number of Fastest Laps                0.717687  0.729384   \n",
       "Rookie Status                        -0.272770 -0.241428   \n",
       "Pay Driver?                          -0.462711 -0.435659   \n",
       "\n",
       "                               Number of Fastest Laps  Rookie Status  \\\n",
       "Salary                                       0.387086      -0.217821   \n",
       "Driver Status                                0.200820       0.068041   \n",
       "Age                                          0.227111      -0.345501   \n",
       "Number of World Championships                0.295472      -0.147376   \n",
       "Number of Pole Positions                     0.509921      -0.142833   \n",
       "Number of Race Wins                          0.412846      -0.135750   \n",
       "Number of Podiums                            0.609171      -0.196934   \n",
       "Number of DNF                               -0.277898       0.038086   \n",
       "Number of DSQ                               -0.164548      -0.140028   \n",
       "Number of DNS                                     NaN            NaN   \n",
       "WD                                                NaN            NaN   \n",
       "Average Grid Position                       -0.712031       0.280404   \n",
       "Average Finish Position                     -0.734055       0.315137   \n",
       "Lead Lap Finish                              0.717687      -0.272770   \n",
       "Points                                       0.729384      -0.241428   \n",
       "Number of Fastest Laps                       1.000000      -0.191297   \n",
       "Rookie Status                               -0.191297       1.000000   \n",
       "Pay Driver?                                 -0.331336       0.192450   \n",
       "\n",
       "                               Pay Driver?  \n",
       "Salary                           -0.339204  \n",
       "Driver Status                    -0.235702  \n",
       "Age                              -0.224410  \n",
       "Number of World Championships    -0.255262  \n",
       "Number of Pole Positions         -0.247394  \n",
       "Number of Race Wins              -0.235125  \n",
       "Number of Podiums                -0.319442  \n",
       "Number of DNF                    -0.118740  \n",
       "Number of DSQ                    -0.242536  \n",
       "Number of DNS                          NaN  \n",
       "WD                                     NaN  \n",
       "Average Grid Position             0.572309  \n",
       "Average Finish Position           0.498846  \n",
       "Lead Lap Finish                  -0.462711  \n",
       "Points                           -0.435659  \n",
       "Number of Fastest Laps           -0.331336  \n",
       "Rookie Status                     0.192450  \n",
       "Pay Driver?                       1.000000  "
      ]
     },
     "execution_count": 12,
     "metadata": {},
     "output_type": "execute_result"
    }
   ],
   "source": [
    "data_2018.corr()"
   ]
  },
  {
   "cell_type": "markdown",
   "metadata": {},
   "source": [
    "Comments: \n",
    "Relatively high correlation can be observed between 'Salary in USD' and the following variables:\n",
    "* Age\n",
    "* Number of World Championships\n",
    "* Number of Pole Positions\n",
    "* Number of Race Wins\n",
    "* Number of Podiums\n",
    "* Average Grid Position\n",
    "* Average Finish Position\n",
    "* Points"
   ]
  },
  {
   "cell_type": "markdown",
   "metadata": {},
   "source": [
    "### Read/Prepare 2014 - 2018 data"
   ]
  },
  {
   "cell_type": "code",
   "execution_count": 13,
   "metadata": {},
   "outputs": [],
   "source": [
    "f1 = []\n",
    "\n",
    "for i, year in enumerate(list(range(2014,2019))):\n",
    "    f1.append(pd.read_csv(\"data/%s_Data.csv\"%str(year), encoding='latin-1'))\n",
    "    f1[i][\"year\"] = year\n",
    "    f1[i].columns = [x.strip() for x in f1[i].columns]\n",
    "\n",
    "f1_df = pd.concat(f1, sort=True)\n",
    "f1_df = f1_df.reset_index()"
   ]
  },
  {
   "cell_type": "markdown",
   "metadata": {},
   "source": [
    " Import Data"
   ]
  },
  {
   "cell_type": "code",
   "execution_count": 14,
   "metadata": {},
   "outputs": [],
   "source": [
    "notPayDriver = f1_df[\"Pay Driver?\"] == 0\n",
    "\n",
    "f1_df = f1_df[notPayDriver].copy()"
   ]
  },
  {
   "cell_type": "markdown",
   "metadata": {},
   "source": [
    "Remove Pay drivers from our data as they do not receive a salary for driving"
   ]
  },
  {
   "cell_type": "code",
   "execution_count": 15,
   "metadata": {},
   "outputs": [],
   "source": [
    "team_converter = {'caterham': \"caterham\",\n",
    "                  'ferrari': \"ferrari\",\n",
    "                  'force india': 'force india',\n",
    "                  'lotus': 'lotus',\n",
    "                  'marussia': 'marussia',\n",
    "                  'mclaren': 'mclaren',\n",
    "                  'mercedes': 'mercedes',\n",
    "                  'red bull': 'red bull',\n",
    "                  'sauber': 'sauber',\n",
    "                  'toro rosso': 'toro rosso',\n",
    "                  'williams': 'williams',\n",
    "                  'manor': 'manor',\n",
    "                  'mercerdes': 'mercedes',\n",
    "                  'hass': 'haas',\n",
    "                  'red bull/toro rosso': 'red bull/toro rosso',\n",
    "                  'renault': 'renault',\n",
    "                  'red bull racing': 'red bull',\n",
    "                  'mclaren f1 team': 'mclaren',\n",
    "                  'renault f1 team': 'renault',\n",
    "                  'haas': 'haas'}\n",
    "\n",
    "f1_df[\"Team\"] = f1_df[\"Team\"].apply(lambda x: team_converter[x.strip().lower()])\n",
    "\n",
    "team_list = list(f1_df[\"Team\"].unique())\n",
    "\n",
    "f1_df[\"team_num\"] = f1_df[\"Team\"].apply(lambda x: team_list.index(x))"
   ]
  },
  {
   "cell_type": "markdown",
   "metadata": {},
   "source": [
    "Convert Teams to numbers."
   ]
  },
  {
   "cell_type": "code",
   "execution_count": 16,
   "metadata": {},
   "outputs": [
    {
     "name": "stdout",
     "output_type": "stream",
     "text": [
      "index 0\n",
      "Age 0\n",
      "Average Finish Position 0\n",
      "Average Grid Position 0\n",
      "Driver Name 0\n",
      "Driver Status 0\n",
      "Lead Lap Finish 0\n",
      "Number of DNF 0\n",
      "Number of DNS 0\n",
      "Number of DSQ 0\n",
      "Number of Fastest Laps 0\n",
      "Number of Podiums 15\n",
      "Number of Pole Positions 0\n",
      "Number of Race Wins 0\n",
      "Number of World Championships 0\n",
      "Pay Driver? 0\n",
      "Points 0\n",
      "Rookie Status 0\n",
      "Salary 0\n",
      "Team 0\n",
      "WD 0\n",
      "year 0\n",
      "team_num 0\n",
      "\n",
      "Number of null Values now: 0\n"
     ]
    }
   ],
   "source": [
    "[print(col, f1_df[col].isnull().sum()) for col in f1_df.columns]\n",
    "    \n",
    "f1_df = f1_df.fillna(0)\n",
    "\n",
    "print(\"\\nNumber of null Values now:\", f1_df.isnull().sum().sum())"
   ]
  },
  {
   "cell_type": "markdown",
   "metadata": {},
   "source": [
    "Remove null values\n",
    "- we filled all null values with 0 as they were all numeric values in the Number of Podiums column"
   ]
  },
  {
   "cell_type": "markdown",
   "metadata": {},
   "source": [
    "## Linear and Multiple Regression"
   ]
  },
  {
   "cell_type": "code",
   "execution_count": 17,
   "metadata": {
    "scrolled": true
   },
   "outputs": [],
   "source": [
    "#qqplot library for seaborn\n",
    "import seaborn_qqplot as sqp\n",
    "\n",
    "#regression libraries\n",
    "from sklearn.metrics import mean_squared_error, r2_score\n",
    "from sklearn import linear_model\n"
   ]
  },
  {
   "cell_type": "markdown",
   "metadata": {},
   "source": [
    "Importing libraries needed for this section."
   ]
  },
  {
   "cell_type": "code",
   "execution_count": 18,
   "metadata": {
    "scrolled": true
   },
   "outputs": [
    {
     "name": "stdout",
     "output_type": "stream",
     "text": [
      "y = x * [1421802.13534676] + -28904446.83087248\n"
     ]
    }
   ],
   "source": [
    "reg = linear_model.LinearRegression()\n",
    "x = f1_df[['Age']]\n",
    "y = f1_df['Salary']\n",
    "reg.fit(x,y)\n",
    "print(\"y = x *\", reg.coef_, \"+\", reg.intercept_)"
   ]
  },
  {
   "cell_type": "code",
   "execution_count": 19,
   "metadata": {
    "scrolled": true
   },
   "outputs": [
    {
     "name": "stdout",
     "output_type": "stream",
     "text": [
      "MSE: 126671840199013.45\n",
      "R^2: 0.3083638550862182\n"
     ]
    }
   ],
   "source": [
    "predicted = reg.predict(x)\n",
    "print(\"MSE:\", mean_squared_error(y, predicted))\n",
    "print(\"R^2:\", r2_score(y, predicted))"
   ]
  },
  {
   "cell_type": "markdown",
   "metadata": {},
   "source": [
    "We can see that using only one feature such as Age gives us a weak R2. We decide to use Multiple Linear to see if we can select the best a) select the strongest features and b)improve the R2."
   ]
  },
  {
   "cell_type": "code",
   "execution_count": 20,
   "metadata": {},
   "outputs": [
    {
     "data": {
      "image/png": "[encoded data removed]",
      "text/plain": [
       "<Figure size 936x576 with 1 Axes>"
      ]
     },
     "metadata": {
      "needs_background": "light"
     },
     "output_type": "display_data"
    }
   ],
   "source": [
    "plt.figure(figsize=(13,8))\n",
    "plt.scatter(x, y, c='red')\n",
    "plt.title('Scatter plot of age and salary')\n",
    "plt.xlabel('Age')\n",
    "plt.ylabel('Salary')\n",
    "plt.show()"
   ]
  },
  {
   "cell_type": "code",
   "execution_count": 21,
   "metadata": {
    "scrolled": true
   },
   "outputs": [
    {
     "data": {
      "text/html": [
       "<div>\n",
       "<style scoped>\n",
       "    .dataframe tbody tr th:only-of-type {\n",
       "        vertical-align: middle;\n",
       "    }\n",
       "\n",
       "    .dataframe tbody tr th {\n",
       "        vertical-align: top;\n",
       "    }\n",
       "\n",
       "    .dataframe thead th {\n",
       "        text-align: right;\n",
       "    }\n",
       "</style>\n",
       "<table border=\"1\" class=\"dataframe\">\n",
       "  <thead>\n",
       "    <tr style=\"text-align: right;\">\n",
       "      <th></th>\n",
       "      <th>param</th>\n",
       "      <th>MSE</th>\n",
       "      <th>rsquared</th>\n",
       "    </tr>\n",
       "  </thead>\n",
       "  <tbody>\n",
       "    <tr>\n",
       "      <th>0</th>\n",
       "      <td>Number of World Championships</td>\n",
       "      <td>5.242878e+13</td>\n",
       "      <td>0.713736</td>\n",
       "    </tr>\n",
       "    <tr>\n",
       "      <th>1</th>\n",
       "      <td>Points</td>\n",
       "      <td>1.252612e+14</td>\n",
       "      <td>0.316066</td>\n",
       "    </tr>\n",
       "    <tr>\n",
       "      <th>2</th>\n",
       "      <td>Age</td>\n",
       "      <td>1.266718e+14</td>\n",
       "      <td>0.308364</td>\n",
       "    </tr>\n",
       "    <tr>\n",
       "      <th>3</th>\n",
       "      <td>Number of Race Wins</td>\n",
       "      <td>1.316678e+14</td>\n",
       "      <td>0.281086</td>\n",
       "    </tr>\n",
       "    <tr>\n",
       "      <th>4</th>\n",
       "      <td>Number of Pole Positions</td>\n",
       "      <td>1.342991e+14</td>\n",
       "      <td>0.266719</td>\n",
       "    </tr>\n",
       "  </tbody>\n",
       "</table>\n",
       "</div>"
      ],
      "text/plain": [
       "                           param           MSE  rsquared\n",
       "0  Number of World Championships  5.242878e+13  0.713736\n",
       "1                         Points  1.252612e+14  0.316066\n",
       "2                            Age  1.266718e+14  0.308364\n",
       "3            Number of Race Wins  1.316678e+14  0.281086\n",
       "4       Number of Pole Positions  1.342991e+14  0.266719"
      ]
     },
     "execution_count": 21,
     "metadata": {},
     "output_type": "execute_result"
    }
   ],
   "source": [
    "MSEs = []\n",
    "r_squareds = []\n",
    "cont_params = []\n",
    "for param in list(f1_df.columns):\n",
    "    if param != \"Salary\" and f1_df[param].dtypes == 'int64':\n",
    "        reg = linear_model.LinearRegression()\n",
    "        x = f1_df[[param]]\n",
    "        y = f1_df['Salary']\n",
    "        reg.fit(x,y)\n",
    "        \n",
    "        # score model\n",
    "        cont_params.append(param)\n",
    "        predicted = reg.predict(x)\n",
    "        mse = mean_squared_error(y, predicted)\n",
    "        MSEs.append(mse)\n",
    "        r2 = r2_score(y, predicted)\n",
    "        r_squareds.append(r2)\n",
    "        \n",
    "model_scores = pd.DataFrame({\"param\": cont_params, \"MSE\":MSEs, \"rsquared\":r_squareds})\n",
    "top_features = model_scores.nlargest(5, 'rsquared')\n",
    "top_features.reset_index()[[\"param\", \"MSE\", \"rsquared\"]]"
   ]
  },
  {
   "cell_type": "markdown",
   "metadata": {},
   "source": [
    "We can now see the top 5 features correlated to Salary ordered by feature importance."
   ]
  },
  {
   "cell_type": "code",
   "execution_count": 22,
   "metadata": {
    "scrolled": false
   },
   "outputs": [
    {
     "name": "stdout",
     "output_type": "stream",
     "text": [
      "----------------------------------------\n",
      "The linear model equation is as follows:\n",
      "----------------------------------------\n",
      "y = -15933782.000029188\n",
      "+ 7436085.4 x Number of World Championships\n",
      "+ 10192.45 x Points\n",
      "+ 727254.82 x Age\n",
      "+ 118124.48 x Number of Race Wins\n",
      "+ 371016.39 x Number of Pole Positions\n",
      "----------------------------------------\n",
      "\n",
      "\n",
      "----------------------------------------\n",
      "Model Accuracy\n",
      "----------------------------------------\n",
      "MSE: 33735183037347.508\n",
      "R^2: 0.81580379737711\n",
      "----------------------------------------\n"
     ]
    }
   ],
   "source": [
    "# create linear model using the top 5 features\n",
    "reg2 = linear_model.LinearRegression()\n",
    "x = f1_df[list(top_features['param'])]\n",
    "y = f1_df['Salary']\n",
    "reg2.fit(x,y)\n",
    "predicted = reg2.predict(x)\n",
    "model_coeffs = list(zip(reg2.coef_, list(top_features['param'])))\n",
    "\n",
    "\n",
    "def pntline():\n",
    "    print(\"----------------------------------------\")\n",
    "pntline()\n",
    "print(\"The linear model equation is as follows:\")\n",
    "pntline()\n",
    "model_coeffs = list(zip(reg2.coef_, list(top_features['param'])))\n",
    "print('y = {}'.format(reg2.intercept_))\n",
    "for coeff in model_coeffs:\n",
    "    print('+ {} x {}'.format(round(coeff[0],2),coeff[1]))\n",
    "pntline()\n",
    "print('\\n')\n",
    "pntline()\n",
    "print('Model Accuracy')\n",
    "pntline()\n",
    "print(\"MSE: {}\".format(mean_squared_error(y, predicted)))\n",
    "print(\"R^2: {}\".format(r2_score(y, predicted)))\n",
    "pntline()"
   ]
  },
  {
   "cell_type": "markdown",
   "metadata": {},
   "source": [
    "The Linear model for predicting y (Salary)."
   ]
  },
  {
   "cell_type": "code",
   "execution_count": 23,
   "metadata": {
    "scrolled": false
   },
   "outputs": [
    {
     "data": {
      "image/png": "[encoded data removed]",
      "text/plain": [
       "<Figure size 432x288 with 1 Axes>"
      ]
     },
     "metadata": {
      "needs_background": "light"
     },
     "output_type": "display_data"
    }
   ],
   "source": [
    "ax = sns.residplot(x=predicted,y=y, color=\"RED\")\n",
    "ax.set_xlabel(\"Predicted Salary\")\n",
    "ax.set_ylabel(\"Residual Actual Salary\")\n",
    "ax.set_title(\"Predicted Salary / Actual Salary Residual Plot\")\n",
    "plt.show()"
   ]
  },
  {
   "cell_type": "markdown",
   "metadata": {},
   "source": [
    "We can see the residuals are fairly evenly distributed around the horizontal. This indicates that a linear regression model might be appropriate for this data set."
   ]
  },
  {
   "cell_type": "code",
   "execution_count": 24,
   "metadata": {
    "scrolled": false
   },
   "outputs": [
    {
     "data": {
      "image/png": "[encoded data removed]",
      "text/plain": [
       "<Figure size 432x288 with 1 Axes>"
      ]
     },
     "metadata": {
      "needs_background": "light"
     },
     "output_type": "display_data"
    },
    {
     "data": {
      "image/png": "[encoded data removed]",
      "text/plain": [
       "<Figure size 360x360 with 1 Axes>"
      ]
     },
     "metadata": {
      "needs_background": "light"
     },
     "output_type": "display_data"
    }
   ],
   "source": [
    "# plot distibution of residuals in hitogram and QQ-plot\n",
    "diff = np.array(predicted-y)\n",
    "ax1 = sns.distplot(diff, color=\"RED\")\n",
    "ax1.set_title(\"Residuals Histogram\")\n",
    "\n",
    "# QQ-plot\n",
    "results = pd.DataFrame()\n",
    "results[\"Predicted\"] = predicted\n",
    "results[\"Actual\"] = y\n",
    "results[\"colouring\"] = \"RED\"\n",
    "ax2 = sqp.qqplot(y=\"Predicted\", x=\"Actual\", data=results, height=5, palette=sns.color_palette([\"#ff3333\"]), hue=\"colouring\")\n",
    "plt.title(\"Actual / Predicted QQPlot\")\n",
    "plt.legend([])\n",
    "plt.show()"
   ]
  },
  {
   "cell_type": "markdown",
   "metadata": {},
   "source": [
    "Looking at the histogram of residuals and QQ-plot we can see there is a right skewness in the residuals. This violates the assumption that our data comes from a normal distribution. This is evidence that using a Linear Model may not be appropriate for this data.\n",
    "\n",
    "We could look at a Generalised Linear Model to allow for a non-Gaussian distribution of errors.\n"
   ]
  },
  {
   "cell_type": "markdown",
   "metadata": {},
   "source": [
    "## Kmeans Clutering and K-Nearest Neighbor Classification"
   ]
  },
  {
   "cell_type": "markdown",
   "metadata": {},
   "source": [
    "### Preparation"
   ]
  },
  {
   "cell_type": "code",
   "execution_count": 25,
   "metadata": {},
   "outputs": [],
   "source": [
    "from sklearn.cluster import KMeans\n",
    "from sklearn.neighbors import KNeighborsClassifier"
   ]
  },
  {
   "cell_type": "markdown",
   "metadata": {},
   "source": [
    " Import needed packages."
   ]
  },
  {
   "cell_type": "markdown",
   "metadata": {},
   "source": [
    "### Kmeans Clustering"
   ]
  },
  {
   "cell_type": "code",
   "execution_count": 26,
   "metadata": {},
   "outputs": [],
   "source": [
    "X = f1_df[[\"Salary\"]]\n",
    "kmeans = KMeans(n_clusters = 4, random_state=0).fit(X)\n",
    "f1_df[\"grouping\"] = kmeans.labels_"
   ]
  },
  {
   "cell_type": "markdown",
   "metadata": {},
   "source": [
    "Perform Clustering based on salary to create 4 clusters/tiers."
   ]
  },
  {
   "cell_type": "code",
   "execution_count": 27,
   "metadata": {},
   "outputs": [
    {
     "data": {
      "image/png": "[encoded data removed]",
      "text/plain": [
       "<Figure size 504x504 with 1 Axes>"
      ]
     },
     "metadata": {
      "needs_background": "light"
     },
     "output_type": "display_data"
    }
   ],
   "source": [
    "plt.figure(figsize=(7,7))\n",
    "ax = sns.boxplot(data=f1_df[[\"Salary\", \"grouping\"]].sort_values(\"Salary\"), \n",
    "                 y=\"Salary\", \n",
    "                 x=\"grouping\", \n",
    "                 palette = sns.color_palette(['#fcba03', \"#fc0303\", \"#0339fc\", \"#03fc28\"]))\n",
    "ax.set_title(\"Box Plot of Salary Clusters\")\n",
    "ax.set_ylabel(\"Salary (1e7)\")\n",
    "plt.show()"
   ]
  },
  {
   "cell_type": "markdown",
   "metadata": {},
   "source": [
    "Used box-plots to check the spread of various different clustering spreads and found four to have the most even spreads of Salaries."
   ]
  },
  {
   "cell_type": "code",
   "execution_count": 28,
   "metadata": {},
   "outputs": [
    {
     "data": {
      "image/png": "[encoded data removed]",
      "text/plain": [
       "<Figure size 720x72 with 1 Axes>"
      ]
     },
     "metadata": {
      "needs_background": "light"
     },
     "output_type": "display_data"
    }
   ],
   "source": [
    "f1_df[[\"Salary\", \"grouping\"]]\n",
    "fig = plt.figure(figsize=(10,1))\n",
    "ax = sns.scatterplot(x=\"Salary\", \n",
    "                     y=np.zeros_like(f1_df[\"Salary\"]), \n",
    "                     data=f1_df[[\"Salary\", \"grouping\"]], \n",
    "                     hue=\"grouping\", \n",
    "                     palette=sns.color_palette(['#fcba03', \"#fc0303\", \"#0339fc\", \"#03fc28\"]), \n",
    "                     legend=False)\n",
    "ax.set_yticks([])\n",
    "ax.set_title(\"All Salaries Coloured by Cluster\")\n",
    "ax.set_xlabel(\"Salary (1e7)\")\n",
    "plt.show()"
   ]
  },
  {
   "cell_type": "markdown",
   "metadata": {},
   "source": [
    " Visualise Clusters on a number line colouring each cluster with a different colour."
   ]
  },
  {
   "cell_type": "markdown",
   "metadata": {},
   "source": [
    "### K-Nearest Neightbour Classification"
   ]
  },
  {
   "cell_type": "code",
   "execution_count": 29,
   "metadata": {},
   "outputs": [],
   "source": [
    "train = f1_df[f1_df[\"year\"] < 2018]\n",
    "test = f1_df[f1_df[\"year\"] == 2018]\n",
    "\n",
    "X_headers = ['Age', \n",
    "             'Average Finish Position', \n",
    "             'Average Grid Position',\n",
    "             'Driver Status', \n",
    "             'Lead Lap Finish', \n",
    "             'Number of DNF',\n",
    "             'Number of DNS', \n",
    "             'Number of DSQ', \n",
    "             'Number of Fastest Laps',\n",
    "             'Number of Podiums', \n",
    "             'Number of Pole Positions', \n",
    "             'Number of Race Wins',\n",
    "             'Number of World Championships', \n",
    "             'Points',\n",
    "             'Rookie Status', \n",
    "             'team_num', \n",
    "             'WD']\n",
    "\n",
    "X_train = train[X_headers]\n",
    "y_train = train[\"grouping\"]\n",
    "\n",
    "X_test = test[X_headers]\n",
    "y_test = test[\"grouping\"]"
   ]
  },
  {
   "cell_type": "markdown",
   "metadata": {},
   "source": [
    "Create Train and test data.\n",
    " - Our goal is to predict 2018 salaries so that will become our test data, therefore 2014 to 2017 will be our train data"
   ]
  },
  {
   "cell_type": "code",
   "execution_count": 30,
   "metadata": {},
   "outputs": [
    {
     "name": "stdout",
     "output_type": "stream",
     "text": [
      "Accuracy Score: 0.6666666666666666\n"
     ]
    }
   ],
   "source": [
    "knn = KNeighborsClassifier(n_neighbors = 1)\n",
    "knn.fit(X_train, y_train)\n",
    "print(\"Accuracy Score:\", knn.score(X_test, y_test))"
   ]
  },
  {
   "cell_type": "markdown",
   "metadata": {},
   "source": [
    "Results of K-Nearest Neighbour Classification using all Features\n",
    " - From these results we can see that using all features we can estimate what category/tier of salary a driver will fall into with a moderate degree of accuracy."
   ]
  },
  {
   "cell_type": "code",
   "execution_count": 31,
   "metadata": {},
   "outputs": [],
   "source": [
    "feature_score = pd.DataFrame(columns=[\"Feature\", \"Accuracy Score\"])\n",
    "for feature in X_train.columns:\n",
    "    knn = KNeighborsClassifier(n_neighbors = 1)\n",
    "    knn.fit(X_train[[feature]], y_train)\n",
    "    knn.score(X_test[[feature]], y_test)\n",
    "    feature_score = feature_score.append({\"Feature\": feature, \"Accuracy Score\": knn.score(X_test[[feature]], y_test)}, ignore_index=True)"
   ]
  },
  {
   "cell_type": "markdown",
   "metadata": {},
   "source": [
    "Accuracy of K-Nearest Neighbour for each feature\n",
    " - From our lacklustre accuracy score from the previous KNN results, we decided to try to filter out some features that did not perform as well to see if this would help our accuracy score."
   ]
  },
  {
   "cell_type": "code",
   "execution_count": 32,
   "metadata": {},
   "outputs": [
    {
     "data": {
      "image/png": "[encoded data removed]",
      "text/plain": [
       "<Figure size 720x720 with 1 Axes>"
      ]
     },
     "metadata": {
      "needs_background": "light"
     },
     "output_type": "display_data"
    }
   ],
   "source": [
    "feature_score = feature_score.sort_values(\"Accuracy Score\", ascending = False)\n",
    "plt.figure(figsize=(10,10))\n",
    "ax = sns.barplot(data=feature_score,\n",
    "                 x=\"Accuracy Score\",\n",
    "                 y=\"Feature\", \n",
    "                 color = \"RED\")\n",
    "ax.set_title(\"Accuracy Score for Each Feature\")\n",
    "plt.show()"
   ]
  },
  {
   "cell_type": "markdown",
   "metadata": {},
   "source": [
    " Graphing the accuracy of each variable in K-Nearest Neighbors\n",
    " - From the graph below we can see that some features such as \"Age\", \"Number of Fastest Laps\" and \"Lead Lap Finish\" were underperforming in our K-Nearest Neighbour model."
   ]
  },
  {
   "cell_type": "code",
   "execution_count": 33,
   "metadata": {},
   "outputs": [
    {
     "name": "stdout",
     "output_type": "stream",
     "text": [
      "Accuracy Score: 0.7333333333333333\n"
     ]
    }
   ],
   "source": [
    "bestFeats = list(feature_score[feature_score[\"Accuracy Score\"] > 0.61].copy()[\"Feature\"])\n",
    "\n",
    "knn = KNeighborsClassifier(n_neighbors = 1)\n",
    "knn.fit(X_train[bestFeats], y_train)\n",
    "print(\"Accuracy Score:\", knn.score(X_test[bestFeats], y_test))"
   ]
  },
  {
   "cell_type": "markdown",
   "metadata": {},
   "source": [
    "K-Nearest Neighbor based on our 9 best features\n",
    "- Taking our best performing features from the graph above we again performed our K-Nearest Neighbour Classification and found that is made an improvement on the accuracy score."
   ]
  },
  {
   "cell_type": "markdown",
   "metadata": {},
   "source": [
    "## Conclusion\n",
    "\n",
    "In conclusion, our Exploratory data analysis shows us some interesting statics about the sport over the last 5 years, highlighting driver age ranges, how different teams perform versus others, and how once a driver gains the lead in the competition it becomes hard for another drive to overtake them.\n",
    "\n",
    "Our linear regression based on our initial assumption that age would play a big factor in how much a driver is paid portrayed to us that really this did not actually play much of a factor (0.308 R^2). \n",
    "Our predictions with Multiple regression using some of our best-performing features gave us a much better result (0.816 R^2) confirming our hypothesis that there is a link between how a driver performs and their pay.\n",
    "\n",
    "We also used K-Nearest Neighbour classification based on a salary tier defined by k-means clustering. We used K-Means clustering to organise the drivers' salaries into 4 tiers, in doing this we found some high performing outliers in the data dominated our highest tier.\n",
    "We then used K-Nearest Neighbour classification to classify these drivers into their salary tier using all numeric features available to us which resulted in an underwhelming accuracy score (0.667). Because of this, we decided to try and find our best performing features and just perform our classification using those features. We ended up choosing very similar top features for our classification as we did for our multiple regression and using these features we ended up with a better but still not perfect accuracy score (0.733). \n",
    "\n",
    "In conclusion we think that for more average/lower paid drivers you can reasonably predict their salary based on their performance in the league. Unfortunately it seems that for the higher paid drivers with better performance it is hard to get an accurate read on what their salaries would look like."
   ]
  }
 ],
 "metadata": {
  "kernelspec": {
   "display_name": "Python 3",
   "language": "python",
   "name": "python3"
  },
  "language_info": {
   "codemirror_mode": {
    "name": "ipython",
    "version": 3
   },
   "file_extension": ".py",
   "mimetype": "text/x-python",
   "name": "python",
   "nbconvert_exporter": "python",
   "pygments_lexer": "ipython3",
   "version": "3.7.4"
  }
 },
 "nbformat": 4,
 "nbformat_minor": 2
}
