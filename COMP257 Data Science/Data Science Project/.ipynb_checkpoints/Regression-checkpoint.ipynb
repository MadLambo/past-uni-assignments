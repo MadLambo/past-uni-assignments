{
 "cells": [
  {
   "cell_type": "markdown",
   "metadata": {},
   "source": [
    "## Linear and Multiple Regression"
   ]
  },
  {
   "cell_type": "code",
   "execution_count": 1,
   "metadata": {
    "scrolled": true
   },
   "outputs": [],
   "source": [
    "# import all necessary libraries\n",
    "import pandas as pd\n",
    "from matplotlib import pyplot as plt\n",
    "%matplotlib inline\n",
    "import seaborn_qqplot as sqp\n",
    "import seaborn as sns\n",
    "import numpy as np\n",
    "\n",
    "\n",
    "#regression libraries\n",
    "from sklearn.metrics import mean_squared_error, r2_score\n",
    "from sklearn import linear_model\n"
   ]
  },
  {
   "cell_type": "markdown",
   "metadata": {},
   "source": [
    "### Read/Prepare data"
   ]
  },
  {
   "cell_type": "markdown",
   "metadata": {},
   "source": [
    " - Import Data"
   ]
  },
  {
   "cell_type": "code",
   "execution_count": 2,
   "metadata": {},
   "outputs": [],
   "source": [
    "f1 = []\n",
    "\n",
    "for i, year in enumerate(list(range(2014,2019))):\n",
    "    f1.append(pd.read_csv(\"data/%s_Data.csv\"%str(year), encoding='latin-1'))\n",
    "    f1[i][\"year\"] = year\n",
    "    f1[i].columns = [x.strip() for x in f1[i].columns]\n",
    "\n",
    "f1_df = pd.concat(f1, sort=True)\n",
    "f1_df = f1_df.reset_index()"
   ]
  },
  {
   "cell_type": "markdown",
   "metadata": {},
   "source": [
    "- Remove Pay drivers from our data as they do not recieve a salary for driving"
   ]
  },
  {
   "cell_type": "code",
   "execution_count": 3,
   "metadata": {},
   "outputs": [],
   "source": [
    "notPayDriver = f1_df[\"Pay Driver?\"] == 0\n",
    "\n",
    "f1_df = f1_df[notPayDriver].copy()"
   ]
  },
  {
   "cell_type": "markdown",
   "metadata": {},
   "source": [
    "- Convert Teams to Numbers"
   ]
  },
  {
   "cell_type": "code",
   "execution_count": 4,
   "metadata": {},
   "outputs": [],
   "source": [
    "team_converter = {'caterham': \"caterham\",\n",
    "                  'ferrari': \"ferrari\",\n",
    "                  'force india': 'force india',\n",
    "                  'lotus': 'lotus',\n",
    "                  'marussia': 'marussia',\n",
    "                  'mclaren': 'mclaren',\n",
    "                  'mercedes': 'mercedes',\n",
    "                  'red bull': 'red bull',\n",
    "                  'sauber': 'sauber',\n",
    "                  'toro rosso': 'toro rosso',\n",
    "                  'williams': 'williams',\n",
    "                  'manor': 'manor',\n",
    "                  'mercerdes': 'mercedes',\n",
    "                  'hass': 'haas',\n",
    "                  'red bull/toro rosso': 'red bull/toro rosso',\n",
    "                  'renault': 'renault',\n",
    "                  'red bull racing': 'red bull',\n",
    "                  'mclaren f1 team': 'mclaren',\n",
    "                  'renault f1 team': 'renault',\n",
    "                  'haas': 'haas'}\n",
    "\n",
    "f1_df[\"Team\"] = f1_df[\"Team\"].apply(lambda x: team_converter[x.strip().lower()])\n",
    "\n",
    "team_list = list(f1_df[\"Team\"].unique())\n",
    "\n",
    "f1_df[\"team_num\"] = f1_df[\"Team\"].apply(lambda x: team_list.index(x))"
   ]
  },
  {
   "cell_type": "markdown",
   "metadata": {},
   "source": [
    "- Remove null values"
   ]
  },
  {
   "cell_type": "code",
   "execution_count": 5,
   "metadata": {},
   "outputs": [
    {
     "name": "stdout",
     "output_type": "stream",
     "text": [
      "index 0\n",
      "Age 0\n",
      "Average Finish Position 0\n",
      "Average Grid Position 0\n",
      "Driver Name 0\n",
      "Driver Status 0\n",
      "Lead Lap Finish 0\n",
      "Number of DNF 0\n",
      "Number of DNS 0\n",
      "Number of DSQ 0\n",
      "Number of Fastest Laps 0\n",
      "Number of Podiums 15\n",
      "Number of Pole Positions 0\n",
      "Number of Race Wins 0\n",
      "Number of World Championships 0\n",
      "Pay Driver? 0\n",
      "Points 0\n",
      "Rookie Status 0\n",
      "Salary 0\n",
      "Team 0\n",
      "WD 0\n",
      "year 0\n",
      "team_num 0\n"
     ]
    }
   ],
   "source": [
    "for col in f1_df.columns:\n",
    "    print(col, f1_df[col].isnull().sum())\n",
    "    \n",
    "f1_df = f1_df.fillna(0)"
   ]
  },
  {
   "cell_type": "markdown",
   "metadata": {},
   "source": [
    "### Linear And Multiple Regression"
   ]
  },
  {
   "cell_type": "markdown",
   "metadata": {},
   "source": [
    "Relatively high correlation can be observed between 'Salary in USD' and the following variables:\n",
    "* Age\n",
    "* Number of World Championships\n",
    "* Number of Pole Positions\n",
    "* Number of Race Wins\n",
    "* Number of Podiums\n",
    "* Average Grid Position\n",
    "* Average Finish Position\n",
    "* Points"
   ]
  },
  {
   "cell_type": "code",
   "execution_count": 5,
   "metadata": {
    "scrolled": true
   },
   "outputs": [
    {
     "name": "stdout",
     "output_type": "stream",
     "text": [
      "index 0\n",
      "Age 0\n",
      "Average Finish Position 0\n",
      "Average Grid Position 0\n",
      "Driver Name 0\n",
      "Driver Status 0\n",
      "Lead Lap Finish 0\n",
      "Number of DNF 0\n",
      "Number of DNS 0\n",
      "Number of DSQ 0\n",
      "Number of Fastest Laps 0\n",
      "Number of Podiums 15\n",
      "Number of Pole Positions 0\n",
      "Number of Race Wins 0\n",
      "Number of World Championships 0\n",
      "Pay Driver? 0\n",
      "Points 0\n",
      "Rookie Status 0\n",
      "Salary 0\n",
      "Team 0\n",
      "WD 0\n",
      "year 0\n",
      "team_num 0\n"
     ]
    }
   ],
   "source": [
    "for col in f1_df.columns:\n",
    "    print(col, f1_df[col].isnull().sum())\n",
    "    \n",
    "f1_df = f1_df.fillna(0)"
   ]
  },
  {
   "cell_type": "code",
   "execution_count": 6,
   "metadata": {
    "scrolled": true
   },
   "outputs": [
    {
     "name": "stdout",
     "output_type": "stream",
     "text": [
      "y = x * [1421802.13534676] + -28904446.83087248\n"
     ]
    }
   ],
   "source": [
    "reg = linear_model.LinearRegression()\n",
    "x = f1_df[['Age']]\n",
    "y = f1_df['Salary']\n",
    "reg.fit(x,y)\n",
    "print(\"y = x *\", reg.coef_, \"+\", reg.intercept_)"
   ]
  },
  {
   "cell_type": "code",
   "execution_count": 7,
   "metadata": {
    "scrolled": true
   },
   "outputs": [
    {
     "name": "stdout",
     "output_type": "stream",
     "text": [
      "MSE: 126671840199013.45\n",
      "R^2: 0.3083638550862182\n"
     ]
    }
   ],
   "source": [
    "predicted = reg.predict(x)\n",
    "print(\"MSE:\", mean_squared_error(y, predicted))\n",
    "print(\"R^2:\", r2_score(y, predicted))"
   ]
  },
  {
   "cell_type": "code",
   "execution_count": 8,
   "metadata": {
    "scrolled": true
   },
   "outputs": [
    {
     "data": {
      "text/html": [
       "<div>\n",
       "<style scoped>\n",
       "    .dataframe tbody tr th:only-of-type {\n",
       "        vertical-align: middle;\n",
       "    }\n",
       "\n",
       "    .dataframe tbody tr th {\n",
       "        vertical-align: top;\n",
       "    }\n",
       "\n",
       "    .dataframe thead th {\n",
       "        text-align: right;\n",
       "    }\n",
       "</style>\n",
       "<table border=\"1\" class=\"dataframe\">\n",
       "  <thead>\n",
       "    <tr style=\"text-align: right;\">\n",
       "      <th></th>\n",
       "      <th>param</th>\n",
       "      <th>MSE</th>\n",
       "      <th>rsquared</th>\n",
       "    </tr>\n",
       "  </thead>\n",
       "  <tbody>\n",
       "    <tr>\n",
       "      <th>0</th>\n",
       "      <td>Number of World Championships</td>\n",
       "      <td>5.242878e+13</td>\n",
       "      <td>0.713736</td>\n",
       "    </tr>\n",
       "    <tr>\n",
       "      <th>1</th>\n",
       "      <td>Points</td>\n",
       "      <td>1.252612e+14</td>\n",
       "      <td>0.316066</td>\n",
       "    </tr>\n",
       "    <tr>\n",
       "      <th>2</th>\n",
       "      <td>Age</td>\n",
       "      <td>1.266718e+14</td>\n",
       "      <td>0.308364</td>\n",
       "    </tr>\n",
       "    <tr>\n",
       "      <th>3</th>\n",
       "      <td>Number of Race Wins</td>\n",
       "      <td>1.316678e+14</td>\n",
       "      <td>0.281086</td>\n",
       "    </tr>\n",
       "    <tr>\n",
       "      <th>4</th>\n",
       "      <td>Number of Pole Positions</td>\n",
       "      <td>1.342991e+14</td>\n",
       "      <td>0.266719</td>\n",
       "    </tr>\n",
       "  </tbody>\n",
       "</table>\n",
       "</div>"
      ],
      "text/plain": [
       "                           param           MSE  rsquared\n",
       "0  Number of World Championships  5.242878e+13  0.713736\n",
       "1                         Points  1.252612e+14  0.316066\n",
       "2                            Age  1.266718e+14  0.308364\n",
       "3            Number of Race Wins  1.316678e+14  0.281086\n",
       "4       Number of Pole Positions  1.342991e+14  0.266719"
      ]
     },
     "execution_count": 8,
     "metadata": {},
     "output_type": "execute_result"
    }
   ],
   "source": [
    "MSEs = []\n",
    "r_squareds = []\n",
    "cont_params = []\n",
    "for param in list(f1_df.columns):\n",
    "    if param != \"Salary\" and f1_df[param].dtypes == 'int64':\n",
    "        reg = linear_model.LinearRegression()\n",
    "        x = f1_df[[param]]\n",
    "        y = f1_df['Salary']\n",
    "        reg.fit(x,y)\n",
    "        \n",
    "        # score model\n",
    "        cont_params.append(param)\n",
    "        predicted = reg.predict(x)\n",
    "        mse = mean_squared_error(y, predicted)\n",
    "        MSEs.append(mse)\n",
    "        r2 = r2_score(y, predicted)\n",
    "        r_squareds.append(r2)\n",
    "        #print(\"{}: y = x * {} + {}\".format(param, reg.coef_, reg.intercept_))\n",
    "        #print(\"\\t MSE: {}\".format(mean_squared_error(y, predicted)))\n",
    "        #print(\"\\t R^2: {}\".format(r2_score(y, predicted)))\n",
    "        \n",
    "model_scores = pd.DataFrame({\"param\": cont_params, \"MSE\":MSEs, \"rsquared\":r_squareds})\n",
    "top_features = model_scores.nlargest(5, 'rsquared')\n",
    "top_features.reset_index()[[\"param\", \"MSE\", \"rsquared\"]]"
   ]
  },
  {
   "cell_type": "code",
   "execution_count": 9,
   "metadata": {
    "scrolled": true
   },
   "outputs": [
    {
     "name": "stdout",
     "output_type": "stream",
     "text": [
      "Number of World Championships\n",
      "Points\n",
      "Age\n",
      "Number of Race Wins\n",
      "Number of Pole Positions\n"
     ]
    }
   ],
   "source": [
    "for feature in top_features[\"param\"]:\n",
    "    print(feature)"
   ]
  },
  {
   "cell_type": "code",
   "execution_count": 10,
   "metadata": {
    "scrolled": false
   },
   "outputs": [
    {
     "name": "stdout",
     "output_type": "stream",
     "text": [
      "y = x * [7436085.39636237   10192.45159503  727254.82254899  118124.47790781\n",
      "  371016.38992398] + -15933782.000029135\n",
      "MSE: 33735183037347.508\n",
      "R^2: 0.81580379737711\n"
     ]
    }
   ],
   "source": [
    "reg2 = linear_model.LinearRegression()\n",
    "x = f1_df[list(top_features['param'])]\n",
    "y = f1_df['Salary']\n",
    "reg2.fit(x,y)\n",
    "predicted = reg2.predict(x)\n",
    "\n",
    "print(\"y = x * {} + {}\".format( reg2.coef_, reg2.intercept_))\n",
    "print(\"MSE: {}\".format(mean_squared_error(y, predicted)))\n",
    "print(\"R^2: {}\".format(r2_score(y, predicted)))\n",
    "#print(x)"
   ]
  },
  {
   "cell_type": "code",
   "execution_count": 11,
   "metadata": {
    "scrolled": false
   },
   "outputs": [],
   "source": [
    "test = f1_df['Number of World Championships']*reg2.coef_[0] \\\n",
    "+ f1_df['Number of Podiums']*reg2.coef_[1] \\\n",
    "+ f1_df['Points']*reg2.coef_[2] \\\n",
    "+ reg2.intercept_"
   ]
  },
  {
   "cell_type": "code",
   "execution_count": 12,
   "metadata": {
    "scrolled": true
   },
   "outputs": [
    {
     "data": {
      "text/plain": [
       "<matplotlib.axes._subplots.AxesSubplot at 0x24d97522be0>"
      ]
     },
     "execution_count": 12,
     "metadata": {},
     "output_type": "execute_result"
    },
    {
     "data": {
      "image/png": "[encoded data removed]",
      "text/plain": [
       "<Figure size 432x288 with 1 Axes>"
      ]
     },
     "metadata": {
      "needs_background": "light"
     },
     "output_type": "display_data"
    }
   ],
   "source": [
    "sns.residplot(x=predicted,y=y)"
   ]
  },
  {
   "cell_type": "code",
   "execution_count": 13,
   "metadata": {
    "scrolled": true
   },
   "outputs": [],
   "source": [
    "diff = np.array(predicted-y)"
   ]
  },
  {
   "cell_type": "code",
   "execution_count": 14,
   "metadata": {
    "scrolled": true
   },
   "outputs": [
    {
     "data": {
      "text/plain": [
       "<matplotlib.axes._subplots.AxesSubplot at 0x24d978a66a0>"
      ]
     },
     "execution_count": 14,
     "metadata": {},
     "output_type": "execute_result"
    },
    {
     "data": {
      "image/png": "[encoded data removed]",
      "text/plain": [
       "<Figure size 432x288 with 1 Axes>"
      ]
     },
     "metadata": {
      "needs_background": "light"
     },
     "output_type": "display_data"
    }
   ],
   "source": [
    "sns.distplot(diff)"
   ]
  },
  {
   "cell_type": "code",
   "execution_count": 29,
   "metadata": {},
   "outputs": [
    {
     "data": {
      "image/png": "[encoded data removed]",
      "text/plain": [
       "<Figure size 360x360 with 1 Axes>"
      ]
     },
     "metadata": {
      "needs_background": "light"
     },
     "output_type": "display_data"
    }
   ],
   "source": [
    "results = pd.DataFrame()\n",
    "results[\"Predicted\"] = predicted\n",
    "results[\"Actual\"] = y\n",
    "\n",
    "ax = sqp.qqplot(y=\"Predicted\", x=\"Actual\", data=results, height=5)\n",
    "plt.show()"
   ]
  }
 ],
 "metadata": {
  "kernelspec": {
   "display_name": "Python 3",
   "language": "python",
   "name": "python3"
  },
  "language_info": {
   "codemirror_mode": {
    "name": "ipython",
    "version": 3
   },
   "file_extension": ".py",
   "mimetype": "text/x-python",
   "name": "python",
   "nbconvert_exporter": "python",
   "pygments_lexer": "ipython3",
   "version": "3.7.3"
  }
 },
 "nbformat": 4,
 "nbformat_minor": 2
}
