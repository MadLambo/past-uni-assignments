{
 "cells": [
  {
   "cell_type": "markdown",
   "metadata": {},
   "source": [
    "## Kmeans Clutering and K-Nearest Neighbor Classification"
   ]
  },
  {
   "cell_type": "markdown",
   "metadata": {},
   "source": [
    "### Preparation"
   ]
  },
  {
   "cell_type": "markdown",
   "metadata": {},
   "source": [
    " - Import needed packages"
   ]
  },
  {
   "cell_type": "code",
   "execution_count": 1,
   "metadata": {},
   "outputs": [],
   "source": [
    "import pandas as pd\n",
    "import numpy as np\n",
    "import seaborn as sns\n",
    "import matplotlib.pyplot as plt\n",
    "from sklearn.cluster import KMeans\n",
    "from sklearn.neighbors import KNeighborsClassifier"
   ]
  },
  {
   "cell_type": "markdown",
   "metadata": {},
   "source": [
    " - Import Data"
   ]
  },
  {
   "cell_type": "code",
   "execution_count": 2,
   "metadata": {},
   "outputs": [],
   "source": [
    "f1 = []\n",
    "\n",
    "for i, year in enumerate(list(range(2014,2019))):\n",
    "    f1.append(pd.read_csv(\"data/%s_Data.csv\"%str(year), encoding='latin-1'))\n",
    "    f1[i][\"year\"] = year\n",
    "    f1[i].columns = [x.strip() for x in f1[i].columns]\n",
    "\n",
    "f1_df = pd.concat(f1, sort=True)\n",
    "f1_df = f1_df.reset_index()"
   ]
  },
  {
   "cell_type": "markdown",
   "metadata": {},
   "source": [
    "- Remove Pay drivers from our data as they do not recieve a salary for driving"
   ]
  },
  {
   "cell_type": "code",
   "execution_count": 3,
   "metadata": {},
   "outputs": [],
   "source": [
    "notPayDriver = f1_df[\"Pay Driver?\"] == 0\n",
    "\n",
    "f1_df = f1_df[notPayDriver].copy()"
   ]
  },
  {
   "cell_type": "markdown",
   "metadata": {},
   "source": [
    "- Convert Teams to Numbers"
   ]
  },
  {
   "cell_type": "code",
   "execution_count": 4,
   "metadata": {},
   "outputs": [],
   "source": [
    "team_converter = {'caterham': \"caterham\",\n",
    "                  'ferrari': \"ferrari\",\n",
    "                  'force india': 'force india',\n",
    "                  'lotus': 'lotus',\n",
    "                  'marussia': 'marussia',\n",
    "                  'mclaren': 'mclaren',\n",
    "                  'mercedes': 'mercedes',\n",
    "                  'red bull': 'red bull',\n",
    "                  'sauber': 'sauber',\n",
    "                  'toro rosso': 'toro rosso',\n",
    "                  'williams': 'williams',\n",
    "                  'manor': 'manor',\n",
    "                  'mercerdes': 'mercedes',\n",
    "                  'hass': 'haas',\n",
    "                  'red bull/toro rosso': 'red bull/toro rosso',\n",
    "                  'renault': 'renault',\n",
    "                  'red bull racing': 'red bull',\n",
    "                  'mclaren f1 team': 'mclaren',\n",
    "                  'renault f1 team': 'renault',\n",
    "                  'haas': 'haas'}\n",
    "\n",
    "f1_df[\"Team\"] = f1_df[\"Team\"].apply(lambda x: team_converter[x.strip().lower()])\n",
    "\n",
    "team_list = list(f1_df[\"Team\"].unique())\n",
    "\n",
    "f1_df[\"team_num\"] = f1_df[\"Team\"].apply(lambda x: team_list.index(x))"
   ]
  },
  {
   "cell_type": "markdown",
   "metadata": {},
   "source": [
    "- Remove null values"
   ]
  },
  {
   "cell_type": "code",
   "execution_count": 5,
   "metadata": {},
   "outputs": [
    {
     "name": "stdout",
     "output_type": "stream",
     "text": [
      "index 0\n",
      "Age 0\n",
      "Average Finish Position 0\n",
      "Average Grid Position 0\n",
      "Driver Name 0\n",
      "Driver Status 0\n",
      "Lead Lap Finish 0\n",
      "Number of DNF 0\n",
      "Number of DNS 0\n",
      "Number of DSQ 0\n",
      "Number of Fastest Laps 0\n",
      "Number of Podiums 15\n",
      "Number of Pole Positions 0\n",
      "Number of Race Wins 0\n",
      "Number of World Championships 0\n",
      "Pay Driver? 0\n",
      "Points 0\n",
      "Rookie Status 0\n",
      "Salary 0\n",
      "Team 0\n",
      "WD 0\n",
      "year 0\n",
      "team_num 0\n"
     ]
    }
   ],
   "source": [
    "for col in f1_df.columns:\n",
    "    print(col, f1_df[col].isnull().sum())\n",
    "    \n",
    "f1_df = f1_df.fillna(0)"
   ]
  },
  {
   "cell_type": "markdown",
   "metadata": {},
   "source": [
    "### Kmeans Clustering\n",
    "\n",
    " - Perform Clustering based on salary into 4 clusters"
   ]
  },
  {
   "cell_type": "code",
   "execution_count": 6,
   "metadata": {},
   "outputs": [],
   "source": [
    "X = f1_df[[\"Salary\"]]\n",
    "kmeans = KMeans(n_clusters = 4, random_state=0).fit(X)\n",
    "f1_df[\"grouping\"] = kmeans.labels_"
   ]
  },
  {
   "cell_type": "markdown",
   "metadata": {},
   "source": [
    " - Used box-plots to check the spread of various differnet clustering spreads and found four to to have the most even spreads of Salaries"
   ]
  },
  {
   "cell_type": "code",
   "execution_count": 7,
   "metadata": {},
   "outputs": [
    {
     "data": {
      "image/png": "[encoded data removed]",
      "text/plain": [
       "<Figure size 432x288 with 1 Axes>"
      ]
     },
     "metadata": {
      "needs_background": "light"
     },
     "output_type": "display_data"
    }
   ],
   "source": [
    "ax = sns.boxplot(data=f1_df[[\"Salary\", \"grouping\"]].sort_values(\"Salary\"), \n",
    "                 y=\"Salary\", \n",
    "                 x=\"grouping\", \n",
    "                 palette = sns.color_palette(['#fcba03', \"#fc0303\", \"#0339fc\", \"#03fc28\"]))\n",
    "ax.set_title(\"Box Plot of Salary Clusters\")\n",
    "ax.set_ylabel(\"Salary (1e7)\")\n",
    "plt.show()"
   ]
  },
  {
   "cell_type": "markdown",
   "metadata": {},
   "source": [
    " - Visualise Clusters on a number line colouring each cluster with a different colour"
   ]
  },
  {
   "cell_type": "code",
   "execution_count": 8,
   "metadata": {},
   "outputs": [
    {
     "data": {
      "image/png": "[encoded data removed]",
      "text/plain": [
       "<Figure size 720x72 with 1 Axes>"
      ]
     },
     "metadata": {
      "needs_background": "light"
     },
     "output_type": "display_data"
    }
   ],
   "source": [
    "f1_df[[\"Salary\", \"grouping\"]]\n",
    "fig = plt.figure(figsize=(10,1))\n",
    "ax = sns.scatterplot(x=\"Salary\", \n",
    "                     y=np.zeros_like(f1_df[\"Salary\"]), \n",
    "                     data=f1_df[[\"Salary\", \"grouping\"]], \n",
    "                     hue=\"grouping\", \n",
    "                     palette=sns.color_palette(['#fcba03', \"#fc0303\", \"#0339fc\", \"#03fc28\"]), \n",
    "                     legend=False)\n",
    "ax.set_yticks([])\n",
    "ax.set_title(\"All Salaries Coloured by Cluster\")\n",
    "ax.set_xlabel(\"Salary (1e7)\")\n",
    "plt.show()"
   ]
  },
  {
   "cell_type": "markdown",
   "metadata": {},
   "source": [
    "### K-Nearest Neightbour Classification"
   ]
  },
  {
   "cell_type": "markdown",
   "metadata": {},
   "source": [
    " - Create Train and test data.\n",
    " - Our goal is to predict 2018 salaries so that will become out test data, therefore 2014 to 2017 will be our train data"
   ]
  },
  {
   "cell_type": "code",
   "execution_count": 9,
   "metadata": {},
   "outputs": [],
   "source": [
    "train = f1_df[f1_df[\"year\"] < 2018]\n",
    "test = f1_df[f1_df[\"year\"] == 2018]\n",
    "\n",
    "X_headers = ['Age', \n",
    "             'Average Finish Position', \n",
    "             'Average Grid Position',\n",
    "             'Driver Status', \n",
    "             'Lead Lap Finish', \n",
    "             'Number of DNF',\n",
    "             'Number of DNS', \n",
    "             'Number of DSQ', \n",
    "             'Number of Fastest Laps',\n",
    "             'Number of Podiums', \n",
    "             'Number of Pole Positions', \n",
    "             'Number of Race Wins',\n",
    "             'Number of World Championships', \n",
    "             'Points',\n",
    "             'Rookie Status', \n",
    "             'team_num', \n",
    "             'WD']\n",
    "\n",
    "X_train = train[X_headers]\n",
    "y_train = train[\"grouping\"]\n",
    "\n",
    "X_test = test[X_headers]\n",
    "y_test = test[\"grouping\"]"
   ]
  },
  {
   "cell_type": "markdown",
   "metadata": {},
   "source": [
    "- Results of K-Nearest Neighbour Classification using all Features"
   ]
  },
  {
   "cell_type": "code",
   "execution_count": 10,
   "metadata": {},
   "outputs": [
    {
     "name": "stdout",
     "output_type": "stream",
     "text": [
      "0.6666666666666666\n"
     ]
    }
   ],
   "source": [
    "knn = KNeighborsClassifier(n_neighbors = 1)\n",
    "knn.fit(X_train, y_train)\n",
    "print(knn.score(X_test, y_test))"
   ]
  },
  {
   "cell_type": "markdown",
   "metadata": {},
   "source": [
    "- Accuracy of K-Nearest Neighbour for each feature"
   ]
  },
  {
   "cell_type": "code",
   "execution_count": 11,
   "metadata": {},
   "outputs": [],
   "source": [
    "feature_score = pd.DataFrame(columns=[\"Feature\", \"Accuracy Score\"])\n",
    "for feature in X_train.columns:\n",
    "    knn = KNeighborsClassifier(n_neighbors = 1)\n",
    "    knn.fit(X_train[[feature]], y_train)\n",
    "    knn.score(X_test[[feature]], y_test)\n",
    "    feature_score = feature_score.append({\"Feature\": feature, \"Accuracy Score\": knn.score(X_test[[feature]], y_test)}, ignore_index=True)"
   ]
  },
  {
   "cell_type": "markdown",
   "metadata": {},
   "source": [
    " - Graphing the accuracy of each variable in K-Nearest Neighbors"
   ]
  },
  {
   "cell_type": "code",
   "execution_count": 12,
   "metadata": {},
   "outputs": [
    {
     "data": {
      "image/png": "[encoded data removed]",
      "text/plain": [
       "<Figure size 720x720 with 1 Axes>"
      ]
     },
     "metadata": {
      "needs_background": "light"
     },
     "output_type": "display_data"
    }
   ],
   "source": [
    "plt.figure(figsize=(10,10))\n",
    "ax = sns.barplot(data=feature_score, \n",
    "            x=\"Accuracy Score\", \n",
    "            y=\"Feature\")\n",
    "ax.set_title(\"Accuracy Score for Each Feature\")\n",
    "plt.show()"
   ]
  },
  {
   "cell_type": "markdown",
   "metadata": {},
   "source": [
    "- K-Nearest Neighbor based on our 9 best features"
   ]
  },
  {
   "cell_type": "code",
   "execution_count": 14,
   "metadata": {},
   "outputs": [
    {
     "name": "stdout",
     "output_type": "stream",
     "text": [
      "0.7333333333333333\n"
     ]
    }
   ],
   "source": [
    "bestFeats = list(feature_score[feature_score[\"Accuracy Score\"] > 0.61].copy()[\"Feature\"])\n",
    "\n",
    "knn = KNeighborsClassifier(n_neighbors = 1)\n",
    "knn.fit(X_train[bestFeats], y_train)\n",
    "print(knn.score(X_test[bestFeats], y_test))"
   ]
  }
 ],
 "metadata": {
  "kernelspec": {
   "display_name": "Python 3",
   "language": "python",
   "name": "python3"
  },
  "language_info": {
   "codemirror_mode": {
    "name": "ipython",
    "version": 3
   },
   "file_extension": ".py",
   "mimetype": "text/x-python",
   "name": "python",
   "nbconvert_exporter": "python",
   "pygments_lexer": "ipython3",
   "version": "3.7.4"
  }
 },
 "nbformat": 4,
 "nbformat_minor": 2
}
