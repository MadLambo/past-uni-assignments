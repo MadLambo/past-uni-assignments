{
 "cells": [
  {
   "cell_type": "code",
   "execution_count": 1,
   "metadata": {},
   "outputs": [],
   "source": [
    "#generate some data\n",
    "import numpy as np \n",
    "x = np.array(([-5,10], [-10,5], [-2,2], [8,5], [5,2], [9,-2], [5,-4], [-2,-5], [-10,-7],[-11,-4])) #10 elements \n",
    "#define the centrioids\n",
    "z1 = [-10,0]\n",
    "z2 = [1,1]\n",
    "z3 = [-10,-8]\n",
    "init_cent = np.array([z1, z2, z3]) #create an array filled with centrioids "
   ]
  },
  {
   "cell_type": "code",
   "execution_count": 2,
   "metadata": {},
   "outputs": [
    {
     "name": "stdout",
     "output_type": "stream",
     "text": [
      "[2. 1. 2. 2. 2. 2. 2. 2. 3. 1.]\n"
     ]
    }
   ],
   "source": [
    "#asssign the vectors to the centriords\n",
    "def code(vectors, centroids):\n",
    "    c = np.zeros(len(vectors)) #define a zero vctor that used to calcualate the length of the vectors\n",
    "    for i in range(len(vectors)):\n",
    "        dist1 = np.linalg.norm(vectors[i] - centroids[0])\n",
    "        dist2 = np.linalg.norm(vectors[i] - centroids[1])\n",
    "        dist3 = np.linalg.norm(vectors[i] - centroids[2])\n",
    "#there are 3 distance functions as there are 3 centroids - k = 3 \n",
    "        min_dist = min(dist1, dist2, dist3)\n",
    "        if min_dist == dist1:\n",
    "            c[i] = 1 \n",
    "        elif min_dist == dist2:\n",
    "            c[i] = 2\n",
    "        else:\n",
    "            c[i] = 3\n",
    "    return (c) \n",
    "print(code(x, init_cent))"
   ]
  },
  {
   "cell_type": "code",
   "execution_count": 3,
   "metadata": {},
   "outputs": [
    {
     "ename": "NameError",
     "evalue": "name 'X' is not defined",
     "output_type": "error",
     "traceback": [
      "\u001b[1;31m---------------------------------------------------------------------------\u001b[0m",
      "\u001b[1;31mNameError\u001b[0m                                 Traceback (most recent call last)",
      "\u001b[1;32m<ipython-input-3-9ba0aea9f5a0>\u001b[0m in \u001b[0;36m<module>\u001b[1;34m()\u001b[0m\n\u001b[0;32m     32\u001b[0m     \u001b[0mz3\u001b[0m \u001b[1;33m=\u001b[0m \u001b[0mcent3\u001b[0m \u001b[1;33m/\u001b[0m \u001b[0mcnt3\u001b[0m\u001b[1;33m\u001b[0m\u001b[0m\n\u001b[0;32m     33\u001b[0m     \u001b[1;32mreturn\u001b[0m \u001b[1;33m[\u001b[0m\u001b[0mz1\u001b[0m\u001b[1;33m,\u001b[0m \u001b[0mz2\u001b[0m\u001b[1;33m,\u001b[0m \u001b[0mz3\u001b[0m\u001b[1;33m]\u001b[0m\u001b[1;33m\u001b[0m\u001b[0m\n\u001b[1;32m---> 34\u001b[1;33m \u001b[0mprint\u001b[0m\u001b[1;33m(\u001b[0m\u001b[0mcentroids\u001b[0m\u001b[1;33m(\u001b[0m\u001b[0mX\u001b[0m\u001b[1;33m,\u001b[0m \u001b[0massignment\u001b[0m\u001b[1;33m(\u001b[0m\u001b[0mX\u001b[0m\u001b[1;33m,\u001b[0m \u001b[0minit_cent\u001b[0m\u001b[1;33m)\u001b[0m\u001b[1;33m)\u001b[0m\u001b[1;33m)\u001b[0m\u001b[1;33m\u001b[0m\u001b[0m\n\u001b[0m",
      "\u001b[1;31mNameError\u001b[0m: name 'X' is not defined"
     ]
    }
   ],
   "source": [
    "def centroids(vectors, groups):\n",
    "    cent1 = np.array([0, 0])\n",
    "    cent2 = np.array([0, 0])\n",
    "    cent3 = np.array([0, 0])\n",
    "    \n",
    "    cnt1 = 0\n",
    "    cnt2 = 0\n",
    "    cnt3 = 0\n",
    "\n",
    "def centroids(vectors, groups):\n",
    "    cent1 = np.array([0, 0])\n",
    "    cent2 = np.array([0, 0])\n",
    "    cent3 = np.array([0, 0])\n",
    "    \n",
    "    cnt1 = 0\n",
    "    cnt2 = 0\n",
    "    cnt3 = 0\n",
    "\n",
    "    for i in range(len(X)):\n",
    "        if groups[i] == 1:\n",
    "            cent1 = cent1 + vectors[i]\n",
    "            cnt1 = cnt1 + 1\n",
    "        elif groups[i] == 2:\n",
    "            cent2 = cent2 + vectors[i]\n",
    "            cnt2 = cnt2 + 1\n",
    "        else:\n",
    "            cent3 = cent3 + vectors[i]\n",
    "            cnt3 = cnt3 + 1\n",
    "  \n",
    "    z1 = cent1 / cnt1\n",
    "    z2 = cent2 / cnt2\n",
    "    z3 = cent3 / cnt3\n",
    "    return [z1, z2, z3]\n",
    "print(centroids(X, assignment(X, init_cent)))"
   ]
  },
  {
   "cell_type": "code",
   "execution_count": 4,
   "metadata": {},
   "outputs": [
    {
     "name": "stdout",
     "output_type": "stream",
     "text": [
      "39.15714285714286\n"
     ]
    }
   ],
   "source": [
    "def j_obj(vectors, cluster, centroids):\n",
    "    J_obj = 0\n",
    "    for i in range(len(vectors)):\n",
    "        if cluster[i] == 1:\n",
    "            J_obj += (np.linalg.norm(vectors[i] - centroids[0]))**2\n",
    "        elif cluster[i] == 2:\n",
    "            J_obj += (np.linalg.norm(vectors[i] - centroids[1]))**2\n",
    "        else: #cluster[i] == 3:\n",
    "            J_obj += (np.linalg.norm(vectors[i] - centroids[2]))**2\n",
    "    J_obj = (1/len(vectors))*J_obj\n",
    "    return J_obj\n",
    "print(j_obj(x, code(x, init_cent), centroids(x, code(x, init_cent))))"
   ]
  },
  {
   "cell_type": "code",
   "execution_count": null,
   "metadata": {},
   "outputs": [],
   "source": []
  }
 ],
 "metadata": {
  "kernelspec": {
   "display_name": "Python 3",
   "language": "python",
   "name": "python3"
  },
  "language_info": {
   "codemirror_mode": {
    "name": "ipython",
    "version": 3
   },
   "file_extension": ".py",
   "mimetype": "text/x-python",
   "name": "python",
   "nbconvert_exporter": "python",
   "pygments_lexer": "ipython3",
   "version": "3.7.3"
  }
 },
 "nbformat": 4,
 "nbformat_minor": 2
}
